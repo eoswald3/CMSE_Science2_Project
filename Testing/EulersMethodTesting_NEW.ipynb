{
 "cells": [
  {
   "cell_type": "code",
   "execution_count": null,
   "id": "f2462f40",
   "metadata": {},
   "outputs": [],
   "source": [
    "import numpy as np\n",
    "import matplotlib.pyplot as plt\n",
    "from mpl_toolkits.mplot3d import Axes3D\n",
    "import ProjectFunctions as pf"
   ]
  },
  {
   "cell_type": "markdown",
   "id": "5fecf9c5",
   "metadata": {},
   "source": [
    "# Variable initialization "
   ]
  },
  {
   "cell_type": "code",
   "execution_count": null,
   "id": "a2d8fa29",
   "metadata": {},
   "outputs": [],
   "source": [
    "G = 6.67408E-11\n",
    "\n",
    "# position\n",
    "posSun = np.array([0,0,0]) #m\n",
    "posEarth = np.array([7.251E7,1.181E8,5.119E7])*1000 #m\n",
    "posMoon = np.array([7.244E7,1.185E8,5.137E7])*1000 #m\n",
    "\n",
    "# velocity\n",
    "vSun = np.array([0,0,0]) #m/s\n",
    "vEarth = np.array([-2.6E4,1.3E4,5.76E3]) #m/s\n",
    "vMoon = np.array([-2.74E4,1.31E4,5.76E3]) #m/s\n",
    "\n",
    "# mass\n",
    "mE = 5.972E24 #kg\n",
    "mS = 1.989E30 #kg\n",
    "mM = 7.347E22 #kg\n",
    "\n",
    "names = ['Sun', 'Earth', 'Moon']"
   ]
  },
  {
   "cell_type": "markdown",
   "id": "719b954d",
   "metadata": {},
   "source": [
    "### Simulation variables"
   ]
  },
  {
   "cell_type": "code",
   "execution_count": null,
   "id": "9bfe6214",
   "metadata": {},
   "outputs": [],
   "source": [
    "dayConsistency = 60\n",
    "\n",
    "iterTime = 365*dayConsistency*2\n",
    "h = 84000/dayConsistency\n",
    "t = np.arange(0,iterTime,1)"
   ]
  },
  {
   "cell_type": "code",
   "execution_count": null,
   "id": "4be5f40c",
   "metadata": {},
   "outputs": [],
   "source": [
    "# position\n",
    "posArray = np.array([posSun,posEarth]).T\n",
    "\n",
    "# velocity\n",
    "vArray = np.array([vSun,vEarth]).T\n",
    "\n",
    "# mass\n",
    "massArray = np.array([[mS,mE]]).T\n",
    "\n",
    "#acceleration \n",
    "accArray = pf.fofGrav(1,posArray, massArray)"
   ]
  },
  {
   "cell_type": "code",
   "execution_count": null,
   "id": "787d491a",
   "metadata": {},
   "outputs": [],
   "source": [
    "v = np.zeros((iterTime,3,2))\n",
    "r = np.zeros((iterTime,3,2))\n",
    "a = np.zeros((iterTime,3,2))\n",
    "\n",
    "v[0] = vArray\n",
    "r[0] = posArray\n",
    "a[0] = np.hstack((np.array([[0],[0],[0]]),np.reshape(accArray[1],(3,1))))"
   ]
  },
  {
   "cell_type": "code",
   "execution_count": null,
   "id": "9acd29a2",
   "metadata": {},
   "outputs": [],
   "source": [
    "for i in range(0,len(t)-1):\n",
    "    v[i+1] = v[i] + h * a[i]\n",
    "    r[i+1] = r[i] + h * v[i]\n",
    "    \n",
    "    #Get accelerations\n",
    "    tempAccel = pf.fofGrav(0,r[i],massArray)[1]\n",
    "\n",
    "    for k in range(posArray.shape[1]-1):\n",
    "        tempAccel = np.vstack((tempAccel, pf.fofGrav(k+1,r[i],massArray)[1]))\n",
    "\n",
    "    a[i+1] = tempAccel.T"
   ]
  },
  {
   "cell_type": "code",
   "execution_count": null,
   "id": "c1c5adff",
   "metadata": {},
   "outputs": [],
   "source": [
    "fig = plt.figure(figsize = (15,15))\n",
    "ax = fig.add_subplot(111, projection='3d')\n",
    "\n",
    "# plot orbit\n",
    "xPlot = r[:,0,1]\n",
    "yPlot = r[:,1,1]\n",
    "zPlot = r[:,2,1]\n",
    "\n",
    "ax.plot(xPlot, yPlot, zPlot)\n",
    "\n",
    "# plot spherical wireframe (of the radius of the orbit)\n",
    "# u, v = np.mgrid[0:2*np.pi:20j, 0:np.pi:10j]\n",
    "# rEarth = eucDist(np.array([[0],[0],[0]]), np.reshape(r[0,:,1],(3,1)))\n",
    "\n",
    "# x = rEarth*np.cos(u)*np.sin(v)\n",
    "# y = rEarth*np.sin(u)*np.sin(v)\n",
    "# z = rEarth*np.cos(v)\n",
    "\n",
    "# ax.plot_wireframe(x, y, z, color=\"r\")\n",
    "\n",
    "# plot the position of the sun\n",
    "xPlot = r[0,0,0]\n",
    "yPlot = r[0,1,0]\n",
    "zPlot = r[0,2,0]\n",
    "\n",
    "ax.scatter(xPlot, yPlot, zPlot)\n",
    "\n",
    "ax.view_init(elev=55, azim=-90) #Change view parameters (spin along the azimuth)\n",
    "\n",
    "ax.set_xlabel('x', fontsize = 15) #Assign label\n",
    "ax.set_ylabel('y', fontsize = 15) #Assign label\n",
    "ax.set_zlabel('z', fontsize = 15) #Assign label\n",
    "\n",
    "ax.set_title('Testing Eulers Method', y=0.95, fontsize=15)"
   ]
  },
  {
   "cell_type": "markdown",
   "id": "0d2885aa",
   "metadata": {},
   "source": [
    "# 3 Object Testing"
   ]
  },
  {
   "cell_type": "code",
   "execution_count": null,
   "id": "661e1c21",
   "metadata": {},
   "outputs": [],
   "source": [
    "3 Object Testing\n",
    "# position\n",
    "posArray = np.array([posSun,posEarth,posMoon]).T\n",
    "\n",
    "# velocity\n",
    "vArray = np.array([vSun,vEarth,vMoon]).T\n",
    "\n",
    "# mass\n",
    "massArray = np.array([[mS,mE,mM]]).T\n",
    "\n",
    "#acceleration \n",
    "accArray = pf.fofGrav(0,posArray,massArray)[1]\n",
    "\n",
    "for i in range(len(posArray)-1):\n",
    "    accArray = np.vstack((accArray, pf.fofGrav(i+1,posArray,massArray)[1]))\n",
    "\n",
    "accArray = accArray.T"
   ]
  },
  {
   "cell_type": "code",
   "execution_count": null,
   "id": "05da0e64",
   "metadata": {},
   "outputs": [],
   "source": [
    "fig = plt.figure(figsize = (20,20))\n",
    "ax = fig.add_subplot(111, projection='3d')\n",
    "\n",
    "for i in range(r[0].shape[1]):\n",
    "    xPlot = r[:,0,i]\n",
    "    yPlot = r[:,1,i]\n",
    "    zPlot = r[:,2,i]\n",
    "\n",
    "    ax.plot(xPlot, yPlot, zPlot, label = names[i])\n",
    "\n",
    "# plot spherical wireframe (of the radius of the orbit)\n",
    "# u, v = np.mgrid[0:2*np.pi:20j, 0:np.pi:10j]\n",
    "# rEarth = eucDist(np.array([[0],[0],[0]]), np.reshape(r[0,:,1],(3,1)))\n",
    "\n",
    "# x = rEarth*np.cos(u)*np.sin(v)\n",
    "# y = rEarth*np.sin(u)*np.sin(v)\n",
    "# z = rEarth*np.cos(v)\n",
    "\n",
    "# ax.plot_wireframe(x, y, z, color=\"r\")\n",
    "\n",
    "ax.view_init(elev=55, azim=-90) #Change view parameters (spin along the azimuth)\n",
    "\n",
    "ax.set_xlabel('x', fontsize = 15) #Assign label\n",
    "ax.set_ylabel('y', fontsize = 15) #Assign label\n",
    "ax.set_zlabel('z', fontsize = 15) #Assign label\n",
    "\n",
    "ax.set_title('Testing Eulers Method', y=0.95, fontsize=15)\n",
    "\n",
    "ax.legend()"
   ]
  },
  {
   "cell_type": "code",
   "execution_count": null,
   "id": "10d1a025",
   "metadata": {},
   "outputs": [],
   "source": [
    "pf.eucDist(r[:,:,0],r[:,:,1])"
   ]
  }
 ],
 "metadata": {
  "kernelspec": {
   "display_name": "Python 3 (ipykernel)",
   "language": "python",
   "name": "python3"
  },
  "language_info": {
   "codemirror_mode": {
    "name": "ipython",
    "version": 3
   },
   "file_extension": ".py",
   "mimetype": "text/x-python",
   "name": "python",
   "nbconvert_exporter": "python",
   "pygments_lexer": "ipython3",
   "version": "3.8.11"
  }
 },
 "nbformat": 4,
 "nbformat_minor": 5
}
