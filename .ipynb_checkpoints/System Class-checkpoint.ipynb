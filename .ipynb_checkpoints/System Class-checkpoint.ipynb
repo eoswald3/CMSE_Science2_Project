{
 "cells": [
  {
   "cell_type": "code",
   "execution_count": 3,
   "id": "8644a7cf",
   "metadata": {},
   "outputs": [],
   "source": [
    "import numpy as np\n",
    "import pandas as pd\n",
    "import matplotlib.pyplot as plt\n",
    "import seaborn as sns\n",
    "import time\n",
    "from IPython.display import display, clear_output\n",
    "\n",
    "import plotly.express as px #import for 3d interactive plotting\n",
    "import ProjectFunctions as pf"
   ]
  },
  {
   "cell_type": "markdown",
   "id": "ca1deded",
   "metadata": {},
   "source": [
    "## Main Class"
   ]
  },
  {
   "cell_type": "code",
   "execution_count": 16,
   "id": "e4b6c0f2",
   "metadata": {},
   "outputs": [],
   "source": [
    "class system():\n",
    "    \n",
    "    def __init__(self, name, mass, diameter, pos=[0,0,0], gravity=0): #diameter in kilometers. \n",
    "        \n",
    "        '''\n",
    "        Initializes the class.\n",
    "        \n",
    "        Takes inputs for the central body of the system.\n",
    "            Central body at pos (0,0,0)\n",
    "        \n",
    "        Creates Array and DataFrame of Info.\n",
    "            \n",
    "        '''\n",
    "        \n",
    "        #initializing the body dataframe\n",
    "        self.bodies = pd.DataFrame(columns=['Initial Position (m)','Mass (kg)','Initial Velocity (m/s)', 'Diameter (m)', \n",
    "                                            'Gravity (m/s^2)', 'Position Index']) \n",
    "        \n",
    "        #numpy array of shape dimension 3, number of objects\n",
    "        self.positions = np.array([pos]).T\n",
    "        self.velocities = np.array([pos]).T\n",
    "        self.masses = np.array(mass)\n",
    "        self.names = np.array(name)\n",
    "        \n",
    "        self.central_pos = pos #setting the position of the central body\n",
    "        self.central_name = name #setting the name of the central body\n",
    "        self.central_mass = mass #setting the mass of the central body\n",
    "        \n",
    "        #adding the parameters of the central body to the dataframe\n",
    "        self.bodies.loc[name] = {'Initial Position (m)': pos, 'Mass (kg)': mass, 'Initial Velocity (m/s)': [0,0,0], \n",
    "                                 'Diameter (m)': diameter, 'Position Index': 0} \n",
    "    \n",
    "    \n",
    "    def add_body(self, name, mass, pos, velocity, diameter, gravity=0):\n",
    "        \n",
    "        '''\n",
    "        Adds an individual body into the system.\n",
    "        '''\n",
    "        \n",
    "        #find the index of the new row\n",
    "        index = len(self.bodies) \n",
    "        \n",
    "        #create dict of data for new row\n",
    "        new_row = {'Initial Position (m)': pos, 'Mass (kg)': mass, 'Initial Velocity (m/s)': velocity, 'Diameter (m)': diameter, \n",
    "                   'Gravity (m/s^2)': gravity, 'Position Index': index}\n",
    "        \n",
    "        #create array of positions of shape dimension 3 by 1\n",
    "        pos = np.array([pos]).T \n",
    "        vel = np.array([velocity]).T\n",
    "        \n",
    "        #insert new row in dataframe\n",
    "        self.bodies.loc[name] = new_row \n",
    "        \n",
    "        #append individual position,velocity,and mass information to the respective full array\n",
    "        self.positions = np.append(self.positions, pos, axis=1) \n",
    "        self.velocities = np.append(self.velocities, vel, axis=1)\n",
    "        self.masses = np.append(self.masses, mass)\n",
    "        self.names = np.append(self.names, name)\n",
    "        \n",
    "    def return_positions(self):\n",
    "        \n",
    "        '''\n",
    "        Return fuction for positions\n",
    "        '''\n",
    "    \n",
    "        return self.positions\n",
    "    \n",
    "    def return_bodies(self):\n",
    "        \n",
    "        '''\n",
    "        Return fuction for the bodies DataFrame.\n",
    "        '''\n",
    "        \n",
    "        return self.bodies\n",
    "    \n",
    "    def update_kinematics(self):\n",
    "        \n",
    "        pass\n",
    "    \n",
    "    def delete_body(self, body):\n",
    "        \n",
    "        '''\n",
    "        Removes a single body from the system\n",
    "        \n",
    "        The body is called by its name (type: string)\n",
    "        '''\n",
    "        \n",
    "        #pulls body's position index in the array from dataframe\n",
    "        index = self.bodies.loc[body,'Position Index'] \n",
    "        \n",
    "        #removes the body from the vectorized data arrays\n",
    "        self.positions = np.delete(self.positions, index, 1) \n",
    "        self.velocities = np.delete(self.velocities, index, 1)\n",
    "        self.masses = np.delete(self.masses, index)\n",
    "        self.names = np.delete(self.names, index)\n",
    "        \n",
    "        #removes the body from the dataframe\n",
    "        self.bodies = self.bodies.drop(body) \n",
    "        \n",
    "        #resets the index position column in the DF to be in line with positions array.\n",
    "        for row in range(len(self.bodies)):\n",
    "            if self.bodies.iloc[row, 5] > index: \n",
    "                self.bodies.iloc[row, 5] -= 1\n",
    "                \n",
    "    \n",
    "    def interactive(self, dimension):\n",
    "        \n",
    "        '''\n",
    "        This method provides two different interactive looks at the positions at the most recent update.\n",
    "        '''\n",
    "        \n",
    "        #insert update_update kinematics function\n",
    "        \n",
    "        #calling and saving the diameter of each body to use later.\n",
    "        diameter = self.bodies['Diameter (m)'].to_list()\n",
    "        \n",
    "        #sets a color map so each body has a different color based on their initial velocity\n",
    "        c = np.arange(0,len(self.bodies))\n",
    "        \n",
    "        \n",
    "        '''\n",
    "        This will return the three dimensional interactive graph.\n",
    "        \n",
    "        The if statments use the argument entered into the method.\n",
    "        '''\n",
    "        \n",
    "        #If three dimensions are requested\n",
    "        if dimension == 3:\n",
    "\n",
    "            #initializing x and y values\n",
    "            x = self.positions[0] #made a list to make proper length\n",
    "            y = self.positions[1]\n",
    "            z = self.positions[2]\n",
    "\n",
    "            #create the 3d plot\n",
    "            scatter3d = px.scatter_3d(x=x, y=y, z=z, color=c, text=self.bodies.index.to_list(), template='plotly_dark', \n",
    "                                      hover_name=self.bodies.index.to_list(), size = diameter, title = 'Current Positions and Data')\n",
    "            \n",
    "            #update the background, and aesthetics for a cleaner image.\n",
    "            scatter3d.update_scenes(xaxis_showgrid=False,yaxis_showgrid=False, zaxis_showgrid=False, xaxis_showticklabels=False, \n",
    "                                    yaxis_showticklabels=False, zaxis_showticklabels=False, camera_projection_type='orthographic',\n",
    "                                    xaxis_zeroline=False, yaxis_zeroline=False, zaxis_zeroline=False)\n",
    "            \n",
    "            #removes the colorbar from the image\n",
    "            scatter3d.update_coloraxes(showscale=False)\n",
    "            \n",
    "            #returns the 3d scatter plot\n",
    "            return scatter3d.show()\n",
    "        \n",
    "        \n",
    "        '''\n",
    "        This will return the one dimensional interactive graph.\n",
    "        \n",
    "        It returns two graphs of the magnitude of the distance of each body from the central body.\n",
    "         - Graph 1: The real scale of distance.\n",
    "         - Graph 2: The logarithmic scale of distance.\n",
    "        \n",
    "        The if statments use the argument entered into the method.\n",
    "        '''\n",
    "        \n",
    "        # if one dimension is requested\n",
    "        if dimension == 1:\n",
    "            \n",
    "            mag = []\n",
    "            \n",
    "            #Looping over the planets in the system by index of the planet\n",
    "            for i in range(0,len(self.bodies)):\n",
    "                planet_mag = np.linalg.norm(self.positions[:,i]) # np.linalg.norm takes in an multidimensional array and returns the magnitude of that vector.\n",
    "                mag.append(planet_mag) # adds the magnitudes to a new list.\n",
    "        \n",
    "            # graphing the magnitudes on a 1d plane being labeled the same way as the 3d interactive graph. Y axis is simply zeros.\n",
    "            fig = px.scatter(x=mag, y=np.zeros(11),hover_name=self.bodies.index.to_list(), color=c, \n",
    "                             size=diameter, template='plotly_dark', title = 'Magnitude of Distance Normal') \n",
    "\n",
    "            # same as before but we want our x axis to be logarithmic so some bodies are easier to view.\n",
    "            logfig = px.scatter(x=mag, y=np.zeros(11),hover_name=self.bodies.index.to_list(),log_x=True, \n",
    "                                color=c, size=diameter, template='plotly_dark', title = 'Magnitude of Distance Logarithmic')\n",
    "            \n",
    "            # returns both figures\n",
    "            return fig.show(), logfig.show()\n",
    "        \n",
    "        # if an integer other than 1 or 3 is inputed, it will return this error message.\n",
    "        else:\n",
    "            \n",
    "            print('Uh Oh! That dimension is not correct! Please input 1 or 3.') # will print the two argument options.\n",
    "            \n",
    "    def calculate_residuals(self, correct_pos):\n",
    "        \n",
    "            '''\n",
    "            This method would only be used when using actual planets/bodies.\n",
    "            \n",
    "            correct_pos: the correct positions of the planets based on actual data.\n",
    "            \n",
    "            returns an array of residuals that are the difference\n",
    "            between the correct plantery positions and the predicted ones.\n",
    "            '''\n",
    "            for i in range(len(sim.positions)):\n",
    "                val = np.linalg.norm(self.sim_positions[i])\n",
    "            residuals = correct_pos - val\n",
    "            return residuals\n",
    "            \n",
    "    \n",
    "    def idealStepTimeValues(self, numYears):\n",
    "        iterTime = 365*numYears\n",
    "        h = 84000/numYears\n",
    "        t = np.arange(0,iterTime,1)\n",
    "        \n",
    "        print('To model', numYears, 'years with a step-size (h) value of 1, set h and time parameters to the following.')\n",
    "        print('h:',h)\n",
    "        print('time:',iterTime)\n",
    "    \n",
    "    def generate_SimulationData(self, h, time=1, method=0):\n",
    "        '''\n",
    "        n_iteration: number of iterations in the simulation\n",
    "        time: number of years to run the simulation for\n",
    "        method: method for generating data\n",
    "                0: Euler's Method\n",
    "                1: Huen's Method\n",
    "                etc...\n",
    "                \n",
    "        return a vectorized array of positions, velocities, and accelerations for each body over \n",
    "               the course of the simulation using the chosen method\n",
    "        '''\n",
    "        \n",
    "        if method == 0:\n",
    "            self.sim_positions, self.sim_velocities, self.sim_accelerations = pf.kinematic_Euler(h,time,self.positions,self.velocities,self.masses)\n",
    "            \n",
    "            #updating the positions and velocities arrays to the most recent of each\n",
    "            self.positions = self.sim_positions[len(self.sim_positions)]\n",
    "            self.velocities = self.sim_velocities[len(self.sim_positions)]\n",
    "            \n",
    "        elif method == 1:\n",
    "            self.sim_positions, self.sim_velocities, self.sim_accelerations = pf.kinematic_Huens(h,time,self.positions,self.velocities,self.masses)\n",
    "            \n",
    "            #updating the positions and velocities arrays to the most recent of each\n",
    "            self.positions = self.sim_positions[len(self.sim_positions)]\n",
    "            self.velocities = self.sim_velocities[len(self.sim_positions)]\n",
    "        \n",
    "        else:\n",
    "            raise ValueError(method,' Is not a valid method identifier, please input a valid identifier')\n",
    "            \n",
    "    def generate_SimulationOrbitGraph(self, path, prefix, title, axesTF = True):\n",
    "        '''\n",
    "        generate a graph containing the plots of the objects path over the course of the simulation\n",
    "        \n",
    "        path: relative path to were the animation frames will be stored (end with /)\n",
    "        prefix: generated image filename prefix\n",
    "        n_iteration: \n",
    "        axesTF: conditional for whether to have the axes elements on or off\n",
    "        '''\n",
    "        \n",
    "        xPlot, yPlot, zPlot = self.sim_positions[:,0], self.sim_positions[:,1], self.sim_positions[:,2]\n",
    "        \n",
    "        fig = plt.figure(figsize = (15,15))\n",
    "        ax = fig.add_subplot(111, projection='3d')\n",
    "\n",
    "        for i in range(len(self.names)):\n",
    "            tempAx = ax.plot(xPlot[:,i], yPlot[:,i], zPlot[:,i], label = self.names[i])\n",
    "\n",
    "        ax.view_init(elev=90, azim=0) #Change view parameters (spin along the azimuth)\n",
    "\n",
    "        #Set axes state\n",
    "        ax.axis('on')\n",
    "        if axesTF == False:\n",
    "            ax.axis('off')\n",
    "\n",
    "        ax.set_xlabel('x', fontsize = 15) #Assign label\n",
    "        ax.set_ylabel('y', fontsize = 15) #Assign label\n",
    "        ax.set_zlabel('z', fontsize = 15) #Assign label\n",
    "\n",
    "        systemScale = 10e13\n",
    "\n",
    "        ax.set_xlim3d(-systemScale,systemScale)\n",
    "        ax.set_ylim3d(-systemScale,systemScale)\n",
    "        ax.set_zlim3d(-systemScale,systemScale)\n",
    "\n",
    "        ax.set_title(title, y=0.95, fontsize=15)\n",
    "        \n",
    "        ax.legend()\n",
    "\n",
    "        #Saving the graph\n",
    "        fig.savefig(path + prefix + '.jpeg')\n",
    "        fig.clear()\n",
    "        plt.close(fig)\n",
    "        \n",
    "    def generate_SimulationAnimation(self, path, prefix, title, n_iteration, axesTF = True):\n",
    "        '''\n",
    "        run the simulation with given input parameters and save the output images\n",
    "        \n",
    "        path: relative path to were the animation frames will be stored (end with /)\n",
    "        prefix: generated image filename prefix\n",
    "        n_iteration: \n",
    "        axesTF: conditional for whether to have the axes elements on or off\n",
    "        \n",
    "        #ffmpeg -framerate 10 -i Test_3DScatter_s40_cross_%04d.jpeg  Test_3DScatter_s40_3d_fr_cross_Movie.mp4\n",
    "        '''\n",
    "        \n",
    "        #Use generated data to produce an animation for the same data\n",
    "        xPlot, yPlot, zPlot = self.sim_positions[:,0], self.sim_positions[:,1], self.sim_positions[:,2]\n",
    "        \n",
    "        #Generate, output, and clear the figure for each frame\n",
    "        count = 0 #Used to update the image filenames \n",
    "        for i in range(0,n_iteration,1):\n",
    "            fig = plt.figure(figsize = (15,15))\n",
    "            ax = fig.add_subplot(111, projection='3d')\n",
    "            \n",
    "            tempAx = ax.scatter(xPlot[i], yPlot[i], zPlot[i], s = 60, edgecolors = 'black', alpha = 0.8)\n",
    "            \n",
    "            ax.view_init(elev=45, azim=-90) #Change view parameters (spin along the azimuth)\n",
    "            \n",
    "            #Set axes state\n",
    "            ax.axis('on')\n",
    "            if axesTF == False:\n",
    "                ax.axis('off')\n",
    "            \n",
    "            ax.set_xlabel('x', fontsize = 15) #Assign label\n",
    "            ax.set_ylabel('y', fontsize = 15) #Assign label\n",
    "            ax.set_zlabel('z', fontsize = 15) #Assign label\n",
    "            \n",
    "            systemScale = 10e12\n",
    "            \n",
    "            ax.set_xlim3d(-systemScale,systemScale)\n",
    "            ax.set_ylim3d(-systemScale,systemScale)\n",
    "            ax.set_zlim3d(-systemScale,systemScale)\n",
    "            \n",
    "            ax.set_title(title, y=0.95, fontsize=15)\n",
    "            \n",
    "            #Saving of each frame\n",
    "            i_str = str(count)\n",
    "            suffix = i_str.rjust(4,'0')\n",
    "            fig.savefig(path + prefix + suffix + '.jpeg')\n",
    "            fig.clear()\n",
    "            plt.close(fig)\n",
    "            count += 1"
   ]
  },
  {
   "cell_type": "markdown",
   "id": "173402a5",
   "metadata": {},
   "source": [
    "## Testing"
   ]
  },
  {
   "cell_type": "code",
   "execution_count": 17,
   "id": "faeb9543",
   "metadata": {},
   "outputs": [
    {
     "data": {
      "text/html": [
       "<div>\n",
       "<style scoped>\n",
       "    .dataframe tbody tr th:only-of-type {\n",
       "        vertical-align: middle;\n",
       "    }\n",
       "\n",
       "    .dataframe tbody tr th {\n",
       "        vertical-align: top;\n",
       "    }\n",
       "\n",
       "    .dataframe thead th {\n",
       "        text-align: right;\n",
       "    }\n",
       "</style>\n",
       "<table border=\"1\" class=\"dataframe\">\n",
       "  <thead>\n",
       "    <tr style=\"text-align: right;\">\n",
       "      <th></th>\n",
       "      <th>Position (m)</th>\n",
       "      <th>Mass (kg)</th>\n",
       "      <th>Velocity (m/s)</th>\n",
       "      <th>Diameter (m)</th>\n",
       "      <th>Gravity (m/s^2)</th>\n",
       "      <th>Position Index</th>\n",
       "    </tr>\n",
       "  </thead>\n",
       "  <tbody>\n",
       "    <tr>\n",
       "      <th>Sun</th>\n",
       "      <td>[0, 0, 0]</td>\n",
       "      <td>1.988000e+33</td>\n",
       "      <td>[0, 0, 0]</td>\n",
       "      <td>139000</td>\n",
       "      <td>NaN</td>\n",
       "      <td>0</td>\n",
       "    </tr>\n",
       "    <tr>\n",
       "      <th>Mercury</th>\n",
       "      <td>[-44070000000.0, -47140000000.0, -20620000000.0]</td>\n",
       "      <td>3.300000e+23</td>\n",
       "      <td>[27100.0, -25100.0, -16200.0]</td>\n",
       "      <td>4897000</td>\n",
       "      <td>3.7</td>\n",
       "      <td>1</td>\n",
       "    </tr>\n",
       "    <tr>\n",
       "      <th>Venus</th>\n",
       "      <td>[91070000000.0, 55420000000.0, 19170000000.0]</td>\n",
       "      <td>4.870000e+24</td>\n",
       "      <td>[-19000.0, 26300.0, 13000.0]</td>\n",
       "      <td>12104000</td>\n",
       "      <td>8.9</td>\n",
       "      <td>2</td>\n",
       "    </tr>\n",
       "    <tr>\n",
       "      <th>Earth</th>\n",
       "      <td>[72510000000.0, 118100000000.0, 51190000000.0]</td>\n",
       "      <td>5.970000e+24</td>\n",
       "      <td>[-26400.0, 13300.0, 5770.0]</td>\n",
       "      <td>12756000</td>\n",
       "      <td>9.8</td>\n",
       "      <td>3</td>\n",
       "    </tr>\n",
       "    <tr>\n",
       "      <th>Moon</th>\n",
       "      <td>[72440000000.0, 118500000000.0, 51370000000.0]</td>\n",
       "      <td>7.300000e+22</td>\n",
       "      <td>[-27400.0, 13100.0, 5760.0]</td>\n",
       "      <td>3475000</td>\n",
       "      <td>1.6</td>\n",
       "      <td>4</td>\n",
       "    </tr>\n",
       "    <tr>\n",
       "      <th>Mars</th>\n",
       "      <td>[-191000000000.0, -129400000000.0, -5418000000...</td>\n",
       "      <td>6.420000e+23</td>\n",
       "      <td>[15240.0, -15700.0, -7620.0]</td>\n",
       "      <td>6792000</td>\n",
       "      <td>3.7</td>\n",
       "      <td>5</td>\n",
       "    </tr>\n",
       "    <tr>\n",
       "      <th>Jupiter</th>\n",
       "      <td>[680300000000.0, -279900000000.0, -13650000000...</td>\n",
       "      <td>1.898000e+27</td>\n",
       "      <td>[5290.0, 11500.0, 4820.0]</td>\n",
       "      <td>142984000</td>\n",
       "      <td>23.1</td>\n",
       "      <td>6</td>\n",
       "    </tr>\n",
       "    <tr>\n",
       "      <th>Saturn</th>\n",
       "      <td>[1020000000000.0, -981900000000.0, -4495000000...</td>\n",
       "      <td>5.680000e+26</td>\n",
       "      <td>[6490.0, 6220.0, 2290.0]</td>\n",
       "      <td>120356000</td>\n",
       "      <td>9.0</td>\n",
       "      <td>7</td>\n",
       "    </tr>\n",
       "    <tr>\n",
       "      <th>Uranus</th>\n",
       "      <td>[2170.0, 1844000000000.0, 776800000000.0]</td>\n",
       "      <td>8.680000e+25</td>\n",
       "      <td>[-4660.0, 4280.0, 1940.0]</td>\n",
       "      <td>51118000</td>\n",
       "      <td>8.7</td>\n",
       "      <td>8</td>\n",
       "    </tr>\n",
       "    <tr>\n",
       "      <th>Neptune</th>\n",
       "      <td>[4431000000000.0, -542800000000.0, -3325000000...</td>\n",
       "      <td>1.020000e+26</td>\n",
       "      <td>[736.3, 5030.0, 2040.0]</td>\n",
       "      <td>49528000</td>\n",
       "      <td>11.0</td>\n",
       "      <td>9</td>\n",
       "    </tr>\n",
       "    <tr>\n",
       "      <th>Pluto</th>\n",
       "      <td>[2246000000000.0, -4186000000000.0, -198300000...</td>\n",
       "      <td>1.460000e+22</td>\n",
       "      <td>[5046.0, 1756.0, -975.0]</td>\n",
       "      <td>2370000</td>\n",
       "      <td>0.7</td>\n",
       "      <td>10</td>\n",
       "    </tr>\n",
       "  </tbody>\n",
       "</table>\n",
       "</div>"
      ],
      "text/plain": [
       "                                              Position (m)     Mass (kg)  \\\n",
       "Sun                                              [0, 0, 0]  1.988000e+33   \n",
       "Mercury   [-44070000000.0, -47140000000.0, -20620000000.0]  3.300000e+23   \n",
       "Venus        [91070000000.0, 55420000000.0, 19170000000.0]  4.870000e+24   \n",
       "Earth       [72510000000.0, 118100000000.0, 51190000000.0]  5.970000e+24   \n",
       "Moon        [72440000000.0, 118500000000.0, 51370000000.0]  7.300000e+22   \n",
       "Mars     [-191000000000.0, -129400000000.0, -5418000000...  6.420000e+23   \n",
       "Jupiter  [680300000000.0, -279900000000.0, -13650000000...  1.898000e+27   \n",
       "Saturn   [1020000000000.0, -981900000000.0, -4495000000...  5.680000e+26   \n",
       "Uranus           [2170.0, 1844000000000.0, 776800000000.0]  8.680000e+25   \n",
       "Neptune  [4431000000000.0, -542800000000.0, -3325000000...  1.020000e+26   \n",
       "Pluto    [2246000000000.0, -4186000000000.0, -198300000...  1.460000e+22   \n",
       "\n",
       "                        Velocity (m/s) Diameter (m)  Gravity (m/s^2)  \\\n",
       "Sun                          [0, 0, 0]       139000              NaN   \n",
       "Mercury  [27100.0, -25100.0, -16200.0]      4897000              3.7   \n",
       "Venus     [-19000.0, 26300.0, 13000.0]     12104000              8.9   \n",
       "Earth      [-26400.0, 13300.0, 5770.0]     12756000              9.8   \n",
       "Moon       [-27400.0, 13100.0, 5760.0]      3475000              1.6   \n",
       "Mars      [15240.0, -15700.0, -7620.0]      6792000              3.7   \n",
       "Jupiter      [5290.0, 11500.0, 4820.0]    142984000             23.1   \n",
       "Saturn        [6490.0, 6220.0, 2290.0]    120356000              9.0   \n",
       "Uranus       [-4660.0, 4280.0, 1940.0]     51118000              8.7   \n",
       "Neptune        [736.3, 5030.0, 2040.0]     49528000             11.0   \n",
       "Pluto         [5046.0, 1756.0, -975.0]      2370000              0.7   \n",
       "\n",
       "        Position Index  \n",
       "Sun                  0  \n",
       "Mercury              1  \n",
       "Venus                2  \n",
       "Earth                3  \n",
       "Moon                 4  \n",
       "Mars                 5  \n",
       "Jupiter              6  \n",
       "Saturn               7  \n",
       "Uranus               8  \n",
       "Neptune              9  \n",
       "Pluto               10  "
      ]
     },
     "execution_count": 17,
     "metadata": {},
     "output_type": "execute_result"
    }
   ],
   "source": [
    "#creating our solar system base for testing\n",
    "#pos and vel as of 11/23/21 using NASA's Horizons System\n",
    "\n",
    "solar_system = system('Sun', 1.988E30*1000, diameter=139000) #the diameter of the sun is not accurate (made this way to produce more visible bodies in the graphs.\n",
    "solar_system.add_body(name='Mercury', mass=0.33E24, pos=[-4.407E7*1000,-4.714E7*1000,-2.062E7*1000], velocity=[2.71E1*1000,-2.51E1*1000,-1.62E1*1000], \n",
    "                      diameter=4897*1000, gravity=3.7)\n",
    "solar_system.add_body(name='Venus', mass=4.87E24, pos=[9.107E7*1000,5.542E7*1000,1.917E7*1000], velocity=[-1.9E1*1000,2.63E1*1000,1.30E1*1000], \n",
    "                      diameter=12104*1000, gravity=8.9)\n",
    "solar_system.add_body(name='Earth', mass=5.97E24, pos=[7.251E7*1000,1.181E8*1000,5.119E7*1000], velocity=[-2.64E1*1000,1.33E1*1000,5.77E0*1000], \n",
    "                      diameter=12756*1000, gravity=9.8)\n",
    "solar_system.add_body(name='Moon', mass=0.073E24, pos=[7.244E7*1000,1.185E8*1000,5.137E7*1000], velocity=[-2.74E1*1000,1.31E1*1000,5.76E0*1000], \n",
    "                      diameter=3475*1000, gravity=1.6)\n",
    "solar_system.add_body(name='Mars', mass=0.642E24, pos=[-1.910E8*1000,-1.294E8*1000,-5.418E7*1000], velocity=[1.524E1*1000,-1.57E1*1000,-7.62E0*1000], \n",
    "                      diameter=6792*1000, gravity=3.7)\n",
    "solar_system.add_body(name='Jupiter', mass=1898.0E24, pos=[6.803E8*1000,-2.799E8*1000,-1.365E8*1000], velocity=[5.29E0*1000,1.15E1*1000,4.82E0*1000], \n",
    "                      diameter=142984*1000, gravity=23.1)\n",
    "solar_system.add_body(name='Saturn', mass=568.0E24, pos=[1.020E9*1000,-9.819E8*1000,-4.495E08*1000], velocity=[6.49E0*1000,6.22E0*1000,2.29E0*1000], \n",
    "                      diameter=120356*1000, gravity=9.0)\n",
    "solar_system.add_body(name='Uranus', mass=86.8E24, pos=[2.170E0*1000,1.844E9*1000,7.768E8*1000], velocity=[-4.66E0*1000,4.28E0*1000,1.94E0*1000], \n",
    "                      diameter=51118*1000, gravity=8.7)\n",
    "solar_system.add_body(name='Neptune', mass=102.0E24, pos=[4.431E9*1000,-5.428E8*1000,-3.325E8*1000], velocity=[7.363E-1*1000,5.03E0*1000,2.04E0*1000], \n",
    "                      diameter=49528*1000, gravity=11.0)\n",
    "solar_system.add_body(name='Pluto', mass=0.0146E24, pos=[2.246E9*1000,-4.186E9*1000,-1.983E9*1000], velocity=[5.046E0*1000,1.756E0*1000,-9.75E-1*1000], \n",
    "                      diameter=2370*1000, gravity=0.7)\n",
    "\n",
    "#return the bodies dataframe\n",
    "solar_system.return_bodies()"
   ]
  },
  {
   "cell_type": "markdown",
   "id": "ec7e8329",
   "metadata": {},
   "source": [
    "# plotting our solar system initial params"
   ]
  },
  {
   "cell_type": "code",
   "execution_count": 19,
   "id": "29387aff",
   "metadata": {},
   "outputs": [
    {
     "data": {
      "application/vnd.plotly.v1+json": {
       "config": {
        "plotlyServerURL": "https://plot.ly"
       },
       "data": [
        {
         "hovertemplate": "<b>%{hovertext}</b><br><br>x=%{x}<br>y=%{y}<br>z=%{z}<br>size=%{marker.size}<br>text=%{text}<br>color=%{marker.color}<extra></extra>",
         "hovertext": [
          "Sun",
          "Mercury",
          "Venus",
          "Earth",
          "Moon",
          "Mars",
          "Jupiter",
          "Saturn",
          "Uranus",
          "Neptune",
          "Pluto"
         ],
         "legendgroup": "",
         "marker": {
          "color": [
           0,
           1,
           2,
           3,
           4,
           5,
           6,
           7,
           8,
           9,
           10
          ],
          "coloraxis": "coloraxis",
          "size": [
           139000,
           4897000,
           12104000,
           12756000,
           3475000,
           6792000,
           142984000,
           120356000,
           51118000,
           49528000,
           2370000
          ],
          "sizemode": "area",
          "sizeref": 357460,
          "symbol": "circle"
         },
         "mode": "markers+text",
         "name": "",
         "scene": "scene",
         "showlegend": false,
         "text": [
          "Sun",
          "Mercury",
          "Venus",
          "Earth",
          "Moon",
          "Mars",
          "Jupiter",
          "Saturn",
          "Uranus",
          "Neptune",
          "Pluto"
         ],
         "type": "scatter3d",
         "x": [
          0,
          -44070000000,
          91070000000,
          72510000000,
          72440000000,
          -191000000000,
          680300000000,
          1020000000000,
          2170,
          4431000000000,
          2246000000000
         ],
         "y": [
          0,
          -47140000000,
          55420000000,
          118100000000,
          118500000000,
          -129400000000,
          -279900000000,
          -981900000000,
          1844000000000,
          -542800000000,
          -4186000000000
         ],
         "z": [
          0,
          -20620000000,
          19170000000,
          51190000000,
          51370000000,
          -54180000000,
          -136500000000,
          -449500000000,
          776800000000,
          -332500000000,
          -1983000000000
         ]
        }
       ],
       "layout": {
        "coloraxis": {
         "colorbar": {
          "title": {
           "text": "color"
          }
         },
         "colorscale": [
          [
           0,
           "#0d0887"
          ],
          [
           0.1111111111111111,
           "#46039f"
          ],
          [
           0.2222222222222222,
           "#7201a8"
          ],
          [
           0.3333333333333333,
           "#9c179e"
          ],
          [
           0.4444444444444444,
           "#bd3786"
          ],
          [
           0.5555555555555556,
           "#d8576b"
          ],
          [
           0.6666666666666666,
           "#ed7953"
          ],
          [
           0.7777777777777778,
           "#fb9f3a"
          ],
          [
           0.8888888888888888,
           "#fdca26"
          ],
          [
           1,
           "#f0f921"
          ]
         ],
         "showscale": false
        },
        "legend": {
         "itemsizing": "constant",
         "tracegroupgap": 0
        },
        "scene": {
         "camera": {
          "projection": {
           "type": "orthographic"
          }
         },
         "domain": {
          "x": [
           0,
           1
          ],
          "y": [
           0,
           1
          ]
         },
         "xaxis": {
          "showgrid": false,
          "showticklabels": false,
          "title": {
           "text": "x"
          },
          "zeroline": false
         },
         "yaxis": {
          "showgrid": false,
          "showticklabels": false,
          "title": {
           "text": "y"
          },
          "zeroline": false
         },
         "zaxis": {
          "showgrid": false,
          "showticklabels": false,
          "title": {
           "text": "z"
          },
          "zeroline": false
         }
        },
        "template": {
         "data": {
          "bar": [
           {
            "error_x": {
             "color": "#f2f5fa"
            },
            "error_y": {
             "color": "#f2f5fa"
            },
            "marker": {
             "line": {
              "color": "rgb(17,17,17)",
              "width": 0.5
             },
             "pattern": {
              "fillmode": "overlay",
              "size": 10,
              "solidity": 0.2
             }
            },
            "type": "bar"
           }
          ],
          "barpolar": [
           {
            "marker": {
             "line": {
              "color": "rgb(17,17,17)",
              "width": 0.5
             },
             "pattern": {
              "fillmode": "overlay",
              "size": 10,
              "solidity": 0.2
             }
            },
            "type": "barpolar"
           }
          ],
          "carpet": [
           {
            "aaxis": {
             "endlinecolor": "#A2B1C6",
             "gridcolor": "#506784",
             "linecolor": "#506784",
             "minorgridcolor": "#506784",
             "startlinecolor": "#A2B1C6"
            },
            "baxis": {
             "endlinecolor": "#A2B1C6",
             "gridcolor": "#506784",
             "linecolor": "#506784",
             "minorgridcolor": "#506784",
             "startlinecolor": "#A2B1C6"
            },
            "type": "carpet"
           }
          ],
          "choropleth": [
           {
            "colorbar": {
             "outlinewidth": 0,
             "ticks": ""
            },
            "type": "choropleth"
           }
          ],
          "contour": [
           {
            "colorbar": {
             "outlinewidth": 0,
             "ticks": ""
            },
            "colorscale": [
             [
              0,
              "#0d0887"
             ],
             [
              0.1111111111111111,
              "#46039f"
             ],
             [
              0.2222222222222222,
              "#7201a8"
             ],
             [
              0.3333333333333333,
              "#9c179e"
             ],
             [
              0.4444444444444444,
              "#bd3786"
             ],
             [
              0.5555555555555556,
              "#d8576b"
             ],
             [
              0.6666666666666666,
              "#ed7953"
             ],
             [
              0.7777777777777778,
              "#fb9f3a"
             ],
             [
              0.8888888888888888,
              "#fdca26"
             ],
             [
              1,
              "#f0f921"
             ]
            ],
            "type": "contour"
           }
          ],
          "contourcarpet": [
           {
            "colorbar": {
             "outlinewidth": 0,
             "ticks": ""
            },
            "type": "contourcarpet"
           }
          ],
          "heatmap": [
           {
            "colorbar": {
             "outlinewidth": 0,
             "ticks": ""
            },
            "colorscale": [
             [
              0,
              "#0d0887"
             ],
             [
              0.1111111111111111,
              "#46039f"
             ],
             [
              0.2222222222222222,
              "#7201a8"
             ],
             [
              0.3333333333333333,
              "#9c179e"
             ],
             [
              0.4444444444444444,
              "#bd3786"
             ],
             [
              0.5555555555555556,
              "#d8576b"
             ],
             [
              0.6666666666666666,
              "#ed7953"
             ],
             [
              0.7777777777777778,
              "#fb9f3a"
             ],
             [
              0.8888888888888888,
              "#fdca26"
             ],
             [
              1,
              "#f0f921"
             ]
            ],
            "type": "heatmap"
           }
          ],
          "heatmapgl": [
           {
            "colorbar": {
             "outlinewidth": 0,
             "ticks": ""
            },
            "colorscale": [
             [
              0,
              "#0d0887"
             ],
             [
              0.1111111111111111,
              "#46039f"
             ],
             [
              0.2222222222222222,
              "#7201a8"
             ],
             [
              0.3333333333333333,
              "#9c179e"
             ],
             [
              0.4444444444444444,
              "#bd3786"
             ],
             [
              0.5555555555555556,
              "#d8576b"
             ],
             [
              0.6666666666666666,
              "#ed7953"
             ],
             [
              0.7777777777777778,
              "#fb9f3a"
             ],
             [
              0.8888888888888888,
              "#fdca26"
             ],
             [
              1,
              "#f0f921"
             ]
            ],
            "type": "heatmapgl"
           }
          ],
          "histogram": [
           {
            "marker": {
             "pattern": {
              "fillmode": "overlay",
              "size": 10,
              "solidity": 0.2
             }
            },
            "type": "histogram"
           }
          ],
          "histogram2d": [
           {
            "colorbar": {
             "outlinewidth": 0,
             "ticks": ""
            },
            "colorscale": [
             [
              0,
              "#0d0887"
             ],
             [
              0.1111111111111111,
              "#46039f"
             ],
             [
              0.2222222222222222,
              "#7201a8"
             ],
             [
              0.3333333333333333,
              "#9c179e"
             ],
             [
              0.4444444444444444,
              "#bd3786"
             ],
             [
              0.5555555555555556,
              "#d8576b"
             ],
             [
              0.6666666666666666,
              "#ed7953"
             ],
             [
              0.7777777777777778,
              "#fb9f3a"
             ],
             [
              0.8888888888888888,
              "#fdca26"
             ],
             [
              1,
              "#f0f921"
             ]
            ],
            "type": "histogram2d"
           }
          ],
          "histogram2dcontour": [
           {
            "colorbar": {
             "outlinewidth": 0,
             "ticks": ""
            },
            "colorscale": [
             [
              0,
              "#0d0887"
             ],
             [
              0.1111111111111111,
              "#46039f"
             ],
             [
              0.2222222222222222,
              "#7201a8"
             ],
             [
              0.3333333333333333,
              "#9c179e"
             ],
             [
              0.4444444444444444,
              "#bd3786"
             ],
             [
              0.5555555555555556,
              "#d8576b"
             ],
             [
              0.6666666666666666,
              "#ed7953"
             ],
             [
              0.7777777777777778,
              "#fb9f3a"
             ],
             [
              0.8888888888888888,
              "#fdca26"
             ],
             [
              1,
              "#f0f921"
             ]
            ],
            "type": "histogram2dcontour"
           }
          ],
          "mesh3d": [
           {
            "colorbar": {
             "outlinewidth": 0,
             "ticks": ""
            },
            "type": "mesh3d"
           }
          ],
          "parcoords": [
           {
            "line": {
             "colorbar": {
              "outlinewidth": 0,
              "ticks": ""
             }
            },
            "type": "parcoords"
           }
          ],
          "pie": [
           {
            "automargin": true,
            "type": "pie"
           }
          ],
          "scatter": [
           {
            "marker": {
             "line": {
              "color": "#283442"
             }
            },
            "type": "scatter"
           }
          ],
          "scatter3d": [
           {
            "line": {
             "colorbar": {
              "outlinewidth": 0,
              "ticks": ""
             }
            },
            "marker": {
             "colorbar": {
              "outlinewidth": 0,
              "ticks": ""
             }
            },
            "type": "scatter3d"
           }
          ],
          "scattercarpet": [
           {
            "marker": {
             "colorbar": {
              "outlinewidth": 0,
              "ticks": ""
             }
            },
            "type": "scattercarpet"
           }
          ],
          "scattergeo": [
           {
            "marker": {
             "colorbar": {
              "outlinewidth": 0,
              "ticks": ""
             }
            },
            "type": "scattergeo"
           }
          ],
          "scattergl": [
           {
            "marker": {
             "line": {
              "color": "#283442"
             }
            },
            "type": "scattergl"
           }
          ],
          "scattermapbox": [
           {
            "marker": {
             "colorbar": {
              "outlinewidth": 0,
              "ticks": ""
             }
            },
            "type": "scattermapbox"
           }
          ],
          "scatterpolar": [
           {
            "marker": {
             "colorbar": {
              "outlinewidth": 0,
              "ticks": ""
             }
            },
            "type": "scatterpolar"
           }
          ],
          "scatterpolargl": [
           {
            "marker": {
             "colorbar": {
              "outlinewidth": 0,
              "ticks": ""
             }
            },
            "type": "scatterpolargl"
           }
          ],
          "scatterternary": [
           {
            "marker": {
             "colorbar": {
              "outlinewidth": 0,
              "ticks": ""
             }
            },
            "type": "scatterternary"
           }
          ],
          "surface": [
           {
            "colorbar": {
             "outlinewidth": 0,
             "ticks": ""
            },
            "colorscale": [
             [
              0,
              "#0d0887"
             ],
             [
              0.1111111111111111,
              "#46039f"
             ],
             [
              0.2222222222222222,
              "#7201a8"
             ],
             [
              0.3333333333333333,
              "#9c179e"
             ],
             [
              0.4444444444444444,
              "#bd3786"
             ],
             [
              0.5555555555555556,
              "#d8576b"
             ],
             [
              0.6666666666666666,
              "#ed7953"
             ],
             [
              0.7777777777777778,
              "#fb9f3a"
             ],
             [
              0.8888888888888888,
              "#fdca26"
             ],
             [
              1,
              "#f0f921"
             ]
            ],
            "type": "surface"
           }
          ],
          "table": [
           {
            "cells": {
             "fill": {
              "color": "#506784"
             },
             "line": {
              "color": "rgb(17,17,17)"
             }
            },
            "header": {
             "fill": {
              "color": "#2a3f5f"
             },
             "line": {
              "color": "rgb(17,17,17)"
             }
            },
            "type": "table"
           }
          ]
         },
         "layout": {
          "annotationdefaults": {
           "arrowcolor": "#f2f5fa",
           "arrowhead": 0,
           "arrowwidth": 1
          },
          "autotypenumbers": "strict",
          "coloraxis": {
           "colorbar": {
            "outlinewidth": 0,
            "ticks": ""
           }
          },
          "colorscale": {
           "diverging": [
            [
             0,
             "#8e0152"
            ],
            [
             0.1,
             "#c51b7d"
            ],
            [
             0.2,
             "#de77ae"
            ],
            [
             0.3,
             "#f1b6da"
            ],
            [
             0.4,
             "#fde0ef"
            ],
            [
             0.5,
             "#f7f7f7"
            ],
            [
             0.6,
             "#e6f5d0"
            ],
            [
             0.7,
             "#b8e186"
            ],
            [
             0.8,
             "#7fbc41"
            ],
            [
             0.9,
             "#4d9221"
            ],
            [
             1,
             "#276419"
            ]
           ],
           "sequential": [
            [
             0,
             "#0d0887"
            ],
            [
             0.1111111111111111,
             "#46039f"
            ],
            [
             0.2222222222222222,
             "#7201a8"
            ],
            [
             0.3333333333333333,
             "#9c179e"
            ],
            [
             0.4444444444444444,
             "#bd3786"
            ],
            [
             0.5555555555555556,
             "#d8576b"
            ],
            [
             0.6666666666666666,
             "#ed7953"
            ],
            [
             0.7777777777777778,
             "#fb9f3a"
            ],
            [
             0.8888888888888888,
             "#fdca26"
            ],
            [
             1,
             "#f0f921"
            ]
           ],
           "sequentialminus": [
            [
             0,
             "#0d0887"
            ],
            [
             0.1111111111111111,
             "#46039f"
            ],
            [
             0.2222222222222222,
             "#7201a8"
            ],
            [
             0.3333333333333333,
             "#9c179e"
            ],
            [
             0.4444444444444444,
             "#bd3786"
            ],
            [
             0.5555555555555556,
             "#d8576b"
            ],
            [
             0.6666666666666666,
             "#ed7953"
            ],
            [
             0.7777777777777778,
             "#fb9f3a"
            ],
            [
             0.8888888888888888,
             "#fdca26"
            ],
            [
             1,
             "#f0f921"
            ]
           ]
          },
          "colorway": [
           "#636efa",
           "#EF553B",
           "#00cc96",
           "#ab63fa",
           "#FFA15A",
           "#19d3f3",
           "#FF6692",
           "#B6E880",
           "#FF97FF",
           "#FECB52"
          ],
          "font": {
           "color": "#f2f5fa"
          },
          "geo": {
           "bgcolor": "rgb(17,17,17)",
           "lakecolor": "rgb(17,17,17)",
           "landcolor": "rgb(17,17,17)",
           "showlakes": true,
           "showland": true,
           "subunitcolor": "#506784"
          },
          "hoverlabel": {
           "align": "left"
          },
          "hovermode": "closest",
          "mapbox": {
           "style": "dark"
          },
          "paper_bgcolor": "rgb(17,17,17)",
          "plot_bgcolor": "rgb(17,17,17)",
          "polar": {
           "angularaxis": {
            "gridcolor": "#506784",
            "linecolor": "#506784",
            "ticks": ""
           },
           "bgcolor": "rgb(17,17,17)",
           "radialaxis": {
            "gridcolor": "#506784",
            "linecolor": "#506784",
            "ticks": ""
           }
          },
          "scene": {
           "xaxis": {
            "backgroundcolor": "rgb(17,17,17)",
            "gridcolor": "#506784",
            "gridwidth": 2,
            "linecolor": "#506784",
            "showbackground": true,
            "ticks": "",
            "zerolinecolor": "#C8D4E3"
           },
           "yaxis": {
            "backgroundcolor": "rgb(17,17,17)",
            "gridcolor": "#506784",
            "gridwidth": 2,
            "linecolor": "#506784",
            "showbackground": true,
            "ticks": "",
            "zerolinecolor": "#C8D4E3"
           },
           "zaxis": {
            "backgroundcolor": "rgb(17,17,17)",
            "gridcolor": "#506784",
            "gridwidth": 2,
            "linecolor": "#506784",
            "showbackground": true,
            "ticks": "",
            "zerolinecolor": "#C8D4E3"
           }
          },
          "shapedefaults": {
           "line": {
            "color": "#f2f5fa"
           }
          },
          "sliderdefaults": {
           "bgcolor": "#C8D4E3",
           "bordercolor": "rgb(17,17,17)",
           "borderwidth": 1,
           "tickwidth": 0
          },
          "ternary": {
           "aaxis": {
            "gridcolor": "#506784",
            "linecolor": "#506784",
            "ticks": ""
           },
           "baxis": {
            "gridcolor": "#506784",
            "linecolor": "#506784",
            "ticks": ""
           },
           "bgcolor": "rgb(17,17,17)",
           "caxis": {
            "gridcolor": "#506784",
            "linecolor": "#506784",
            "ticks": ""
           }
          },
          "title": {
           "x": 0.05
          },
          "updatemenudefaults": {
           "bgcolor": "#506784",
           "borderwidth": 0
          },
          "xaxis": {
           "automargin": true,
           "gridcolor": "#283442",
           "linecolor": "#506784",
           "ticks": "",
           "title": {
            "standoff": 15
           },
           "zerolinecolor": "#283442",
           "zerolinewidth": 2
          },
          "yaxis": {
           "automargin": true,
           "gridcolor": "#283442",
           "linecolor": "#506784",
           "ticks": "",
           "title": {
            "standoff": 15
           },
           "zerolinecolor": "#283442",
           "zerolinewidth": 2
          }
         }
        },
        "title": {
         "text": "Current Positions and Data"
        }
       }
      },
      "text/html": [
       "<div>                            <div id=\"5c8daa7d-4660-443c-b2a3-70705c4c9a28\" class=\"plotly-graph-div\" style=\"height:525px; width:100%;\"></div>            <script type=\"text/javascript\">                require([\"plotly\"], function(Plotly) {                    window.PLOTLYENV=window.PLOTLYENV || {};                                    if (document.getElementById(\"5c8daa7d-4660-443c-b2a3-70705c4c9a28\")) {                    Plotly.newPlot(                        \"5c8daa7d-4660-443c-b2a3-70705c4c9a28\",                        [{\"hovertemplate\":\"<b>%{hovertext}</b><br><br>x=%{x}<br>y=%{y}<br>z=%{z}<br>size=%{marker.size}<br>text=%{text}<br>color=%{marker.color}<extra></extra>\",\"hovertext\":[\"Sun\",\"Mercury\",\"Venus\",\"Earth\",\"Moon\",\"Mars\",\"Jupiter\",\"Saturn\",\"Uranus\",\"Neptune\",\"Pluto\"],\"legendgroup\":\"\",\"marker\":{\"color\":[0,1,2,3,4,5,6,7,8,9,10],\"coloraxis\":\"coloraxis\",\"size\":[139000,4897000,12104000,12756000,3475000,6792000,142984000,120356000,51118000,49528000,2370000],\"sizemode\":\"area\",\"sizeref\":357460.0,\"symbol\":\"circle\"},\"mode\":\"markers+text\",\"name\":\"\",\"scene\":\"scene\",\"showlegend\":false,\"text\":[\"Sun\",\"Mercury\",\"Venus\",\"Earth\",\"Moon\",\"Mars\",\"Jupiter\",\"Saturn\",\"Uranus\",\"Neptune\",\"Pluto\"],\"type\":\"scatter3d\",\"x\":[0.0,-44070000000.0,91070000000.0,72510000000.0,72440000000.0,-191000000000.0,680300000000.0,1020000000000.0,2170.0,4431000000000.0,2246000000000.0],\"y\":[0.0,-47140000000.0,55420000000.0,118100000000.0,118500000000.0,-129400000000.0,-279900000000.0,-981900000000.0,1844000000000.0,-542800000000.0,-4186000000000.0],\"z\":[0.0,-20620000000.0,19170000000.0,51190000000.0,51370000000.0,-54180000000.0,-136500000000.0,-449500000000.0,776800000000.0,-332500000000.0,-1983000000000.0]}],                        {\"coloraxis\":{\"colorbar\":{\"title\":{\"text\":\"color\"}},\"colorscale\":[[0.0,\"#0d0887\"],[0.1111111111111111,\"#46039f\"],[0.2222222222222222,\"#7201a8\"],[0.3333333333333333,\"#9c179e\"],[0.4444444444444444,\"#bd3786\"],[0.5555555555555556,\"#d8576b\"],[0.6666666666666666,\"#ed7953\"],[0.7777777777777778,\"#fb9f3a\"],[0.8888888888888888,\"#fdca26\"],[1.0,\"#f0f921\"]],\"showscale\":false},\"legend\":{\"itemsizing\":\"constant\",\"tracegroupgap\":0},\"scene\":{\"camera\":{\"projection\":{\"type\":\"orthographic\"}},\"domain\":{\"x\":[0.0,1.0],\"y\":[0.0,1.0]},\"xaxis\":{\"showgrid\":false,\"showticklabels\":false,\"title\":{\"text\":\"x\"},\"zeroline\":false},\"yaxis\":{\"showgrid\":false,\"showticklabels\":false,\"title\":{\"text\":\"y\"},\"zeroline\":false},\"zaxis\":{\"showgrid\":false,\"showticklabels\":false,\"title\":{\"text\":\"z\"},\"zeroline\":false}},\"template\":{\"data\":{\"bar\":[{\"error_x\":{\"color\":\"#f2f5fa\"},\"error_y\":{\"color\":\"#f2f5fa\"},\"marker\":{\"line\":{\"color\":\"rgb(17,17,17)\",\"width\":0.5},\"pattern\":{\"fillmode\":\"overlay\",\"size\":10,\"solidity\":0.2}},\"type\":\"bar\"}],\"barpolar\":[{\"marker\":{\"line\":{\"color\":\"rgb(17,17,17)\",\"width\":0.5},\"pattern\":{\"fillmode\":\"overlay\",\"size\":10,\"solidity\":0.2}},\"type\":\"barpolar\"}],\"carpet\":[{\"aaxis\":{\"endlinecolor\":\"#A2B1C6\",\"gridcolor\":\"#506784\",\"linecolor\":\"#506784\",\"minorgridcolor\":\"#506784\",\"startlinecolor\":\"#A2B1C6\"},\"baxis\":{\"endlinecolor\":\"#A2B1C6\",\"gridcolor\":\"#506784\",\"linecolor\":\"#506784\",\"minorgridcolor\":\"#506784\",\"startlinecolor\":\"#A2B1C6\"},\"type\":\"carpet\"}],\"choropleth\":[{\"colorbar\":{\"outlinewidth\":0,\"ticks\":\"\"},\"type\":\"choropleth\"}],\"contour\":[{\"colorbar\":{\"outlinewidth\":0,\"ticks\":\"\"},\"colorscale\":[[0.0,\"#0d0887\"],[0.1111111111111111,\"#46039f\"],[0.2222222222222222,\"#7201a8\"],[0.3333333333333333,\"#9c179e\"],[0.4444444444444444,\"#bd3786\"],[0.5555555555555556,\"#d8576b\"],[0.6666666666666666,\"#ed7953\"],[0.7777777777777778,\"#fb9f3a\"],[0.8888888888888888,\"#fdca26\"],[1.0,\"#f0f921\"]],\"type\":\"contour\"}],\"contourcarpet\":[{\"colorbar\":{\"outlinewidth\":0,\"ticks\":\"\"},\"type\":\"contourcarpet\"}],\"heatmap\":[{\"colorbar\":{\"outlinewidth\":0,\"ticks\":\"\"},\"colorscale\":[[0.0,\"#0d0887\"],[0.1111111111111111,\"#46039f\"],[0.2222222222222222,\"#7201a8\"],[0.3333333333333333,\"#9c179e\"],[0.4444444444444444,\"#bd3786\"],[0.5555555555555556,\"#d8576b\"],[0.6666666666666666,\"#ed7953\"],[0.7777777777777778,\"#fb9f3a\"],[0.8888888888888888,\"#fdca26\"],[1.0,\"#f0f921\"]],\"type\":\"heatmap\"}],\"heatmapgl\":[{\"colorbar\":{\"outlinewidth\":0,\"ticks\":\"\"},\"colorscale\":[[0.0,\"#0d0887\"],[0.1111111111111111,\"#46039f\"],[0.2222222222222222,\"#7201a8\"],[0.3333333333333333,\"#9c179e\"],[0.4444444444444444,\"#bd3786\"],[0.5555555555555556,\"#d8576b\"],[0.6666666666666666,\"#ed7953\"],[0.7777777777777778,\"#fb9f3a\"],[0.8888888888888888,\"#fdca26\"],[1.0,\"#f0f921\"]],\"type\":\"heatmapgl\"}],\"histogram\":[{\"marker\":{\"pattern\":{\"fillmode\":\"overlay\",\"size\":10,\"solidity\":0.2}},\"type\":\"histogram\"}],\"histogram2d\":[{\"colorbar\":{\"outlinewidth\":0,\"ticks\":\"\"},\"colorscale\":[[0.0,\"#0d0887\"],[0.1111111111111111,\"#46039f\"],[0.2222222222222222,\"#7201a8\"],[0.3333333333333333,\"#9c179e\"],[0.4444444444444444,\"#bd3786\"],[0.5555555555555556,\"#d8576b\"],[0.6666666666666666,\"#ed7953\"],[0.7777777777777778,\"#fb9f3a\"],[0.8888888888888888,\"#fdca26\"],[1.0,\"#f0f921\"]],\"type\":\"histogram2d\"}],\"histogram2dcontour\":[{\"colorbar\":{\"outlinewidth\":0,\"ticks\":\"\"},\"colorscale\":[[0.0,\"#0d0887\"],[0.1111111111111111,\"#46039f\"],[0.2222222222222222,\"#7201a8\"],[0.3333333333333333,\"#9c179e\"],[0.4444444444444444,\"#bd3786\"],[0.5555555555555556,\"#d8576b\"],[0.6666666666666666,\"#ed7953\"],[0.7777777777777778,\"#fb9f3a\"],[0.8888888888888888,\"#fdca26\"],[1.0,\"#f0f921\"]],\"type\":\"histogram2dcontour\"}],\"mesh3d\":[{\"colorbar\":{\"outlinewidth\":0,\"ticks\":\"\"},\"type\":\"mesh3d\"}],\"parcoords\":[{\"line\":{\"colorbar\":{\"outlinewidth\":0,\"ticks\":\"\"}},\"type\":\"parcoords\"}],\"pie\":[{\"automargin\":true,\"type\":\"pie\"}],\"scatter\":[{\"marker\":{\"line\":{\"color\":\"#283442\"}},\"type\":\"scatter\"}],\"scatter3d\":[{\"line\":{\"colorbar\":{\"outlinewidth\":0,\"ticks\":\"\"}},\"marker\":{\"colorbar\":{\"outlinewidth\":0,\"ticks\":\"\"}},\"type\":\"scatter3d\"}],\"scattercarpet\":[{\"marker\":{\"colorbar\":{\"outlinewidth\":0,\"ticks\":\"\"}},\"type\":\"scattercarpet\"}],\"scattergeo\":[{\"marker\":{\"colorbar\":{\"outlinewidth\":0,\"ticks\":\"\"}},\"type\":\"scattergeo\"}],\"scattergl\":[{\"marker\":{\"line\":{\"color\":\"#283442\"}},\"type\":\"scattergl\"}],\"scattermapbox\":[{\"marker\":{\"colorbar\":{\"outlinewidth\":0,\"ticks\":\"\"}},\"type\":\"scattermapbox\"}],\"scatterpolar\":[{\"marker\":{\"colorbar\":{\"outlinewidth\":0,\"ticks\":\"\"}},\"type\":\"scatterpolar\"}],\"scatterpolargl\":[{\"marker\":{\"colorbar\":{\"outlinewidth\":0,\"ticks\":\"\"}},\"type\":\"scatterpolargl\"}],\"scatterternary\":[{\"marker\":{\"colorbar\":{\"outlinewidth\":0,\"ticks\":\"\"}},\"type\":\"scatterternary\"}],\"surface\":[{\"colorbar\":{\"outlinewidth\":0,\"ticks\":\"\"},\"colorscale\":[[0.0,\"#0d0887\"],[0.1111111111111111,\"#46039f\"],[0.2222222222222222,\"#7201a8\"],[0.3333333333333333,\"#9c179e\"],[0.4444444444444444,\"#bd3786\"],[0.5555555555555556,\"#d8576b\"],[0.6666666666666666,\"#ed7953\"],[0.7777777777777778,\"#fb9f3a\"],[0.8888888888888888,\"#fdca26\"],[1.0,\"#f0f921\"]],\"type\":\"surface\"}],\"table\":[{\"cells\":{\"fill\":{\"color\":\"#506784\"},\"line\":{\"color\":\"rgb(17,17,17)\"}},\"header\":{\"fill\":{\"color\":\"#2a3f5f\"},\"line\":{\"color\":\"rgb(17,17,17)\"}},\"type\":\"table\"}]},\"layout\":{\"annotationdefaults\":{\"arrowcolor\":\"#f2f5fa\",\"arrowhead\":0,\"arrowwidth\":1},\"autotypenumbers\":\"strict\",\"coloraxis\":{\"colorbar\":{\"outlinewidth\":0,\"ticks\":\"\"}},\"colorscale\":{\"diverging\":[[0,\"#8e0152\"],[0.1,\"#c51b7d\"],[0.2,\"#de77ae\"],[0.3,\"#f1b6da\"],[0.4,\"#fde0ef\"],[0.5,\"#f7f7f7\"],[0.6,\"#e6f5d0\"],[0.7,\"#b8e186\"],[0.8,\"#7fbc41\"],[0.9,\"#4d9221\"],[1,\"#276419\"]],\"sequential\":[[0.0,\"#0d0887\"],[0.1111111111111111,\"#46039f\"],[0.2222222222222222,\"#7201a8\"],[0.3333333333333333,\"#9c179e\"],[0.4444444444444444,\"#bd3786\"],[0.5555555555555556,\"#d8576b\"],[0.6666666666666666,\"#ed7953\"],[0.7777777777777778,\"#fb9f3a\"],[0.8888888888888888,\"#fdca26\"],[1.0,\"#f0f921\"]],\"sequentialminus\":[[0.0,\"#0d0887\"],[0.1111111111111111,\"#46039f\"],[0.2222222222222222,\"#7201a8\"],[0.3333333333333333,\"#9c179e\"],[0.4444444444444444,\"#bd3786\"],[0.5555555555555556,\"#d8576b\"],[0.6666666666666666,\"#ed7953\"],[0.7777777777777778,\"#fb9f3a\"],[0.8888888888888888,\"#fdca26\"],[1.0,\"#f0f921\"]]},\"colorway\":[\"#636efa\",\"#EF553B\",\"#00cc96\",\"#ab63fa\",\"#FFA15A\",\"#19d3f3\",\"#FF6692\",\"#B6E880\",\"#FF97FF\",\"#FECB52\"],\"font\":{\"color\":\"#f2f5fa\"},\"geo\":{\"bgcolor\":\"rgb(17,17,17)\",\"lakecolor\":\"rgb(17,17,17)\",\"landcolor\":\"rgb(17,17,17)\",\"showlakes\":true,\"showland\":true,\"subunitcolor\":\"#506784\"},\"hoverlabel\":{\"align\":\"left\"},\"hovermode\":\"closest\",\"mapbox\":{\"style\":\"dark\"},\"paper_bgcolor\":\"rgb(17,17,17)\",\"plot_bgcolor\":\"rgb(17,17,17)\",\"polar\":{\"angularaxis\":{\"gridcolor\":\"#506784\",\"linecolor\":\"#506784\",\"ticks\":\"\"},\"bgcolor\":\"rgb(17,17,17)\",\"radialaxis\":{\"gridcolor\":\"#506784\",\"linecolor\":\"#506784\",\"ticks\":\"\"}},\"scene\":{\"xaxis\":{\"backgroundcolor\":\"rgb(17,17,17)\",\"gridcolor\":\"#506784\",\"gridwidth\":2,\"linecolor\":\"#506784\",\"showbackground\":true,\"ticks\":\"\",\"zerolinecolor\":\"#C8D4E3\"},\"yaxis\":{\"backgroundcolor\":\"rgb(17,17,17)\",\"gridcolor\":\"#506784\",\"gridwidth\":2,\"linecolor\":\"#506784\",\"showbackground\":true,\"ticks\":\"\",\"zerolinecolor\":\"#C8D4E3\"},\"zaxis\":{\"backgroundcolor\":\"rgb(17,17,17)\",\"gridcolor\":\"#506784\",\"gridwidth\":2,\"linecolor\":\"#506784\",\"showbackground\":true,\"ticks\":\"\",\"zerolinecolor\":\"#C8D4E3\"}},\"shapedefaults\":{\"line\":{\"color\":\"#f2f5fa\"}},\"sliderdefaults\":{\"bgcolor\":\"#C8D4E3\",\"bordercolor\":\"rgb(17,17,17)\",\"borderwidth\":1,\"tickwidth\":0},\"ternary\":{\"aaxis\":{\"gridcolor\":\"#506784\",\"linecolor\":\"#506784\",\"ticks\":\"\"},\"baxis\":{\"gridcolor\":\"#506784\",\"linecolor\":\"#506784\",\"ticks\":\"\"},\"bgcolor\":\"rgb(17,17,17)\",\"caxis\":{\"gridcolor\":\"#506784\",\"linecolor\":\"#506784\",\"ticks\":\"\"}},\"title\":{\"x\":0.05},\"updatemenudefaults\":{\"bgcolor\":\"#506784\",\"borderwidth\":0},\"xaxis\":{\"automargin\":true,\"gridcolor\":\"#283442\",\"linecolor\":\"#506784\",\"ticks\":\"\",\"title\":{\"standoff\":15},\"zerolinecolor\":\"#283442\",\"zerolinewidth\":2},\"yaxis\":{\"automargin\":true,\"gridcolor\":\"#283442\",\"linecolor\":\"#506784\",\"ticks\":\"\",\"title\":{\"standoff\":15},\"zerolinecolor\":\"#283442\",\"zerolinewidth\":2}}},\"title\":{\"text\":\"Current Positions and Data\"}},                        {\"responsive\": true}                    ).then(function(){\n",
       "                            \n",
       "var gd = document.getElementById('5c8daa7d-4660-443c-b2a3-70705c4c9a28');\n",
       "var x = new MutationObserver(function (mutations, observer) {{\n",
       "        var display = window.getComputedStyle(gd).display;\n",
       "        if (!display || display === 'none') {{\n",
       "            console.log([gd, 'removed!']);\n",
       "            Plotly.purge(gd);\n",
       "            observer.disconnect();\n",
       "        }}\n",
       "}});\n",
       "\n",
       "// Listen for the removal of the full notebook cells\n",
       "var notebookContainer = gd.closest('#notebook-container');\n",
       "if (notebookContainer) {{\n",
       "    x.observe(notebookContainer, {childList: true});\n",
       "}}\n",
       "\n",
       "// Listen for the clearing of the current output cell\n",
       "var outputEl = gd.closest('.output');\n",
       "if (outputEl) {{\n",
       "    x.observe(outputEl, {childList: true});\n",
       "}}\n",
       "\n",
       "                        })                };                });            </script>        </div>"
      ]
     },
     "metadata": {},
     "output_type": "display_data"
    }
   ],
   "source": [
    "solar_system.interactive(3)"
   ]
  },
  {
   "cell_type": "code",
   "execution_count": 133,
   "id": "bfaf8425",
   "metadata": {},
   "outputs": [],
   "source": [
    "solar_system.delete_body('Moon')"
   ]
  },
  {
   "cell_type": "code",
   "execution_count": 134,
   "id": "cbf8d9ba",
   "metadata": {},
   "outputs": [
    {
     "name": "stdout",
     "output_type": "stream",
     "text": [
      "To model 1 years with a step-size (h) value of 1, set h and time parameters to the following.\n",
      "h: 84000.0\n",
      "time: 365\n"
     ]
    }
   ],
   "source": [
    "solar_system.idealStepTimeValues(1)"
   ]
  },
  {
   "cell_type": "code",
   "execution_count": 15,
   "id": "92b6968a",
   "metadata": {},
   "outputs": [
    {
     "name": "stdout",
     "output_type": "stream",
     "text": [
      "[[ 0.000e+00 -4.407e+10  9.107e+10  7.251e+10  7.244e+10 -1.910e+11\n",
      "   6.803e+11  1.020e+12  2.170e+03  4.431e+12  2.246e+12]\n",
      " [ 0.000e+00 -4.714e+10  5.542e+10  1.181e+11  1.185e+11 -1.294e+11\n",
      "  -2.799e+11 -9.819e+11  1.844e+12 -5.428e+11 -4.186e+12]\n",
      " [ 0.000e+00 -2.062e+10  1.917e+10  5.119e+10  5.137e+10 -5.418e+10\n",
      "  -1.365e+11 -4.495e+11  7.768e+11 -3.325e+11 -1.983e+12]]\n"
     ]
    },
    {
     "data": {
      "text/plain": [
       "array([[[ 0.00000000e+00, -4.40700000e+10,  9.10700000e+10, ...,\n",
       "          2.17000000e+03,  4.43100000e+12,  2.24600000e+12],\n",
       "        [ 0.00000000e+00, -4.71400000e+10,  5.54200000e+10, ...,\n",
       "          1.84400000e+12, -5.42800000e+11, -4.18600000e+12],\n",
       "        [ 0.00000000e+00, -2.06200000e+10,  1.91700000e+10, ...,\n",
       "          7.76800000e+11, -3.32500000e+11, -1.98300000e+12]],\n",
       "\n",
       "       [[ 0.00000000e+00, -4.17936000e+10,  8.94740000e+10, ...,\n",
       "         -3.91437830e+08,  4.43106185e+12,  2.24642386e+12],\n",
       "        [ 0.00000000e+00, -4.92484000e+10,  5.76292000e+10, ...,\n",
       "          1.84435952e+12, -5.42377480e+11, -4.18585250e+12],\n",
       "        [ 0.00000000e+00, -2.19808000e+10,  2.02620000e+10, ...,\n",
       "          7.76962960e+11, -3.32328640e+11, -1.98308190e+12]],\n",
       "\n",
       "       [[ 1.73941009e+03,  9.31786231e+10,  2.07892463e+10, ...,\n",
       "         -7.82877777e+08,  4.43107745e+12,  2.24683231e+12],\n",
       "        [-4.90607185e+02,  9.05828643e+10,  1.90120153e+10, ...,\n",
       "          1.84450355e+12, -5.41949295e+11, -4.18567626e+12],\n",
       "        [-2.55966654e+02,  3.87457118e+10,  7.23198994e+09, ...,\n",
       "          7.77035143e+11, -3.32153810e+11, -1.98315019e+12]],\n",
       "\n",
       "       ...,\n",
       "\n",
       "       [[ 2.49716451e+09,  3.50849905e+14, -9.32746522e+14, ...,\n",
       "          4.51209924e+15, -2.73802430e+14, -2.77246095e+14],\n",
       "        [ 1.84285292e+09,  3.87528383e+14, -8.11105983e+14, ...,\n",
       "          1.97199747e+15, -6.05577454e+14,  1.94169149e+13],\n",
       "        [ 7.23045946e+08,  1.70694057e+14, -3.05662941e+14, ...,\n",
       "          6.98302484e+14, -2.40941855e+14,  9.02047317e+13]],\n",
       "\n",
       "       [[ 2.49973554e+09,  3.51202457e+14, -9.33685461e+14, ...,\n",
       "          4.51718614e+15, -2.74224997e+14, -2.77737330e+14],\n",
       "        [ 1.84478671e+09,  3.87917823e+14, -8.11922588e+14, ...,\n",
       "          1.97422115e+15, -6.06513459e+14,  1.94507456e+13],\n",
       "        [ 7.23805312e+08,  1.70865596e+14, -3.05970685e+14, ...,\n",
       "          6.99089938e+14, -2.41314280e+14,  9.03643812e+13]],\n",
       "\n",
       "       [[ 2.50230656e+09,  3.51555008e+14, -9.34624401e+14, ...,\n",
       "          4.52227304e+15, -2.74647563e+14, -2.78228566e+14],\n",
       "        [ 1.84672050e+09,  3.88307262e+14, -8.12739193e+14, ...,\n",
       "          1.97644482e+15, -6.07449464e+14,  1.94845763e+13],\n",
       "        [ 7.24564677e+08,  1.71037135e+14, -3.06278428e+14, ...,\n",
       "          6.99877393e+14, -2.41686706e+14,  9.05240307e+13]]])"
      ]
     },
     "execution_count": 15,
     "metadata": {},
     "output_type": "execute_result"
    }
   ],
   "source": [
    "solar_system.generate_SimulationData(84000,1000,0)\n",
    "print(solar_system.sim_positions[0])\n",
    "solar_system.sim_positions"
   ]
  },
  {
   "cell_type": "code",
   "execution_count": 140,
   "id": "16e3320e",
   "metadata": {},
   "outputs": [
    {
     "ename": "NameError",
     "evalue": "name 'correct_pos' is not defined",
     "output_type": "error",
     "traceback": [
      "\u001b[0;31m---------------------------------------------------------------------------\u001b[0m",
      "\u001b[0;31mNameError\u001b[0m                                 Traceback (most recent call last)",
      "\u001b[0;32m<ipython-input-140-170017bb06a4>\u001b[0m in \u001b[0;36m<module>\u001b[0;34m\u001b[0m\n\u001b[0;32m----> 1\u001b[0;31m \u001b[0msolar_system\u001b[0m\u001b[0;34m.\u001b[0m\u001b[0mcalculate_residuals\u001b[0m\u001b[0;34m(\u001b[0m\u001b[0;34m)\u001b[0m\u001b[0;34m\u001b[0m\u001b[0;34m\u001b[0m\u001b[0m\n\u001b[0m",
      "\u001b[0;32m<ipython-input-131-87e9f027de6d>\u001b[0m in \u001b[0;36mcalculate_residuals\u001b[0;34m(self)\u001b[0m\n\u001b[1;32m    181\u001b[0m \u001b[0;34m\u001b[0m\u001b[0m\n\u001b[1;32m    182\u001b[0m     \u001b[0;32mdef\u001b[0m \u001b[0mcalculate_residuals\u001b[0m\u001b[0;34m(\u001b[0m\u001b[0mself\u001b[0m\u001b[0;34m)\u001b[0m\u001b[0;34m:\u001b[0m\u001b[0;34m\u001b[0m\u001b[0;34m\u001b[0m\u001b[0m\n\u001b[0;32m--> 183\u001b[0;31m             \u001b[0mself\u001b[0m\u001b[0;34m.\u001b[0m\u001b[0mcorrect_pos\u001b[0m \u001b[0;34m=\u001b[0m \u001b[0mcorrect_pos\u001b[0m\u001b[0;34m\u001b[0m\u001b[0;34m\u001b[0m\u001b[0m\n\u001b[0m\u001b[1;32m    184\u001b[0m             '''\n\u001b[1;32m    185\u001b[0m             \u001b[0mh\u001b[0m\u001b[0;34m:\u001b[0m \u001b[0mnumber\u001b[0m \u001b[0mof\u001b[0m \u001b[0msteps\u001b[0m \u001b[0;32min\u001b[0m \u001b[0mthe\u001b[0m \u001b[0msimulation\u001b[0m\u001b[0;34m\u001b[0m\u001b[0;34m\u001b[0m\u001b[0m\n",
      "\u001b[0;31mNameError\u001b[0m: name 'correct_pos' is not defined"
     ]
    }
   ],
   "source": [
    "solar_system"
   ]
  },
  {
   "cell_type": "code",
   "execution_count": 122,
   "id": "be9cf8a7",
   "metadata": {},
   "outputs": [
    {
     "ename": "FileNotFoundError",
     "evalue": "[Errno 2] No such file or directory: 'AnimationTesting/OrbitPlot.jpeg'",
     "output_type": "error",
     "traceback": [
      "\u001b[0;31m---------------------------------------------------------------------------\u001b[0m",
      "\u001b[0;31mFileNotFoundError\u001b[0m                         Traceback (most recent call last)",
      "\u001b[0;32m<ipython-input-122-7a96db4d1b90>\u001b[0m in \u001b[0;36m<module>\u001b[0;34m\u001b[0m\n\u001b[0;32m----> 1\u001b[0;31m \u001b[0msolar_system\u001b[0m\u001b[0;34m.\u001b[0m\u001b[0mgenerate_SimulationOrbitGraph\u001b[0m\u001b[0;34m(\u001b[0m\u001b[0;34m'AnimationTesting/'\u001b[0m\u001b[0;34m,\u001b[0m \u001b[0;34m'OrbitPlot'\u001b[0m\u001b[0;34m,\u001b[0m \u001b[0;34m'TestTitle'\u001b[0m\u001b[0;34m)\u001b[0m\u001b[0;34m\u001b[0m\u001b[0;34m\u001b[0m\u001b[0m\n\u001b[0m",
      "\u001b[0;32m<ipython-input-115-bc22345f3946>\u001b[0m in \u001b[0;36mgenerate_SimulationOrbitGraph\u001b[0;34m(self, path, prefix, title, axesTF)\u001b[0m\n\u001b[1;32m    252\u001b[0m \u001b[0;34m\u001b[0m\u001b[0m\n\u001b[1;32m    253\u001b[0m         \u001b[0;31m#Saving the graph\u001b[0m\u001b[0;34m\u001b[0m\u001b[0;34m\u001b[0m\u001b[0;34m\u001b[0m\u001b[0m\n\u001b[0;32m--> 254\u001b[0;31m         \u001b[0mfig\u001b[0m\u001b[0;34m.\u001b[0m\u001b[0msavefig\u001b[0m\u001b[0;34m(\u001b[0m\u001b[0mpath\u001b[0m \u001b[0;34m+\u001b[0m \u001b[0mprefix\u001b[0m \u001b[0;34m+\u001b[0m \u001b[0;34m'.jpeg'\u001b[0m\u001b[0;34m)\u001b[0m\u001b[0;34m\u001b[0m\u001b[0;34m\u001b[0m\u001b[0m\n\u001b[0m\u001b[1;32m    255\u001b[0m         \u001b[0mfig\u001b[0m\u001b[0;34m.\u001b[0m\u001b[0mclear\u001b[0m\u001b[0;34m(\u001b[0m\u001b[0;34m)\u001b[0m\u001b[0;34m\u001b[0m\u001b[0;34m\u001b[0m\u001b[0m\n\u001b[1;32m    256\u001b[0m         \u001b[0mplt\u001b[0m\u001b[0;34m.\u001b[0m\u001b[0mclose\u001b[0m\u001b[0;34m(\u001b[0m\u001b[0mfig\u001b[0m\u001b[0;34m)\u001b[0m\u001b[0;34m\u001b[0m\u001b[0;34m\u001b[0m\u001b[0m\n",
      "\u001b[0;32m/opt/anaconda3/lib/python3.8/site-packages/matplotlib/figure.py\u001b[0m in \u001b[0;36msavefig\u001b[0;34m(self, fname, transparent, **kwargs)\u001b[0m\n\u001b[1;32m   2309\u001b[0m                 \u001b[0mpatch\u001b[0m\u001b[0;34m.\u001b[0m\u001b[0mset_edgecolor\u001b[0m\u001b[0;34m(\u001b[0m\u001b[0;34m'none'\u001b[0m\u001b[0;34m)\u001b[0m\u001b[0;34m\u001b[0m\u001b[0;34m\u001b[0m\u001b[0m\n\u001b[1;32m   2310\u001b[0m \u001b[0;34m\u001b[0m\u001b[0m\n\u001b[0;32m-> 2311\u001b[0;31m         \u001b[0mself\u001b[0m\u001b[0;34m.\u001b[0m\u001b[0mcanvas\u001b[0m\u001b[0;34m.\u001b[0m\u001b[0mprint_figure\u001b[0m\u001b[0;34m(\u001b[0m\u001b[0mfname\u001b[0m\u001b[0;34m,\u001b[0m \u001b[0;34m**\u001b[0m\u001b[0mkwargs\u001b[0m\u001b[0;34m)\u001b[0m\u001b[0;34m\u001b[0m\u001b[0;34m\u001b[0m\u001b[0m\n\u001b[0m\u001b[1;32m   2312\u001b[0m \u001b[0;34m\u001b[0m\u001b[0m\n\u001b[1;32m   2313\u001b[0m         \u001b[0;32mif\u001b[0m \u001b[0mtransparent\u001b[0m\u001b[0;34m:\u001b[0m\u001b[0;34m\u001b[0m\u001b[0;34m\u001b[0m\u001b[0m\n",
      "\u001b[0;32m/opt/anaconda3/lib/python3.8/site-packages/matplotlib/backend_bases.py\u001b[0m in \u001b[0;36mprint_figure\u001b[0;34m(self, filename, dpi, facecolor, edgecolor, orientation, format, bbox_inches, pad_inches, bbox_extra_artists, backend, **kwargs)\u001b[0m\n\u001b[1;32m   2208\u001b[0m \u001b[0;34m\u001b[0m\u001b[0m\n\u001b[1;32m   2209\u001b[0m             \u001b[0;32mtry\u001b[0m\u001b[0;34m:\u001b[0m\u001b[0;34m\u001b[0m\u001b[0;34m\u001b[0m\u001b[0m\n\u001b[0;32m-> 2210\u001b[0;31m                 result = print_method(\n\u001b[0m\u001b[1;32m   2211\u001b[0m                     \u001b[0mfilename\u001b[0m\u001b[0;34m,\u001b[0m\u001b[0;34m\u001b[0m\u001b[0;34m\u001b[0m\u001b[0m\n\u001b[1;32m   2212\u001b[0m                     \u001b[0mdpi\u001b[0m\u001b[0;34m=\u001b[0m\u001b[0mdpi\u001b[0m\u001b[0;34m,\u001b[0m\u001b[0;34m\u001b[0m\u001b[0;34m\u001b[0m\u001b[0m\n",
      "\u001b[0;32m/opt/anaconda3/lib/python3.8/site-packages/matplotlib/backend_bases.py\u001b[0m in \u001b[0;36mwrapper\u001b[0;34m(*args, **kwargs)\u001b[0m\n\u001b[1;32m   1637\u001b[0m             \u001b[0mkwargs\u001b[0m\u001b[0;34m.\u001b[0m\u001b[0mpop\u001b[0m\u001b[0;34m(\u001b[0m\u001b[0marg\u001b[0m\u001b[0;34m)\u001b[0m\u001b[0;34m\u001b[0m\u001b[0;34m\u001b[0m\u001b[0m\n\u001b[1;32m   1638\u001b[0m \u001b[0;34m\u001b[0m\u001b[0m\n\u001b[0;32m-> 1639\u001b[0;31m         \u001b[0;32mreturn\u001b[0m \u001b[0mfunc\u001b[0m\u001b[0;34m(\u001b[0m\u001b[0;34m*\u001b[0m\u001b[0margs\u001b[0m\u001b[0;34m,\u001b[0m \u001b[0;34m**\u001b[0m\u001b[0mkwargs\u001b[0m\u001b[0;34m)\u001b[0m\u001b[0;34m\u001b[0m\u001b[0;34m\u001b[0m\u001b[0m\n\u001b[0m\u001b[1;32m   1640\u001b[0m \u001b[0;34m\u001b[0m\u001b[0m\n\u001b[1;32m   1641\u001b[0m     \u001b[0;32mreturn\u001b[0m \u001b[0mwrapper\u001b[0m\u001b[0;34m\u001b[0m\u001b[0;34m\u001b[0m\u001b[0m\n",
      "\u001b[0;32m/opt/anaconda3/lib/python3.8/site-packages/matplotlib/cbook/deprecation.py\u001b[0m in \u001b[0;36mwrapper\u001b[0;34m(*inner_args, **inner_kwargs)\u001b[0m\n\u001b[1;32m    409\u001b[0m                          \u001b[0;32melse\u001b[0m \u001b[0mdeprecation_addendum\u001b[0m\u001b[0;34m,\u001b[0m\u001b[0;34m\u001b[0m\u001b[0;34m\u001b[0m\u001b[0m\n\u001b[1;32m    410\u001b[0m                 **kwargs)\n\u001b[0;32m--> 411\u001b[0;31m         \u001b[0;32mreturn\u001b[0m \u001b[0mfunc\u001b[0m\u001b[0;34m(\u001b[0m\u001b[0;34m*\u001b[0m\u001b[0minner_args\u001b[0m\u001b[0;34m,\u001b[0m \u001b[0;34m**\u001b[0m\u001b[0minner_kwargs\u001b[0m\u001b[0;34m)\u001b[0m\u001b[0;34m\u001b[0m\u001b[0;34m\u001b[0m\u001b[0m\n\u001b[0m\u001b[1;32m    412\u001b[0m \u001b[0;34m\u001b[0m\u001b[0m\n\u001b[1;32m    413\u001b[0m     \u001b[0;32mreturn\u001b[0m \u001b[0mwrapper\u001b[0m\u001b[0;34m\u001b[0m\u001b[0;34m\u001b[0m\u001b[0m\n",
      "\u001b[0;32m/opt/anaconda3/lib/python3.8/site-packages/matplotlib/cbook/deprecation.py\u001b[0m in \u001b[0;36mwrapper\u001b[0;34m(*inner_args, **inner_kwargs)\u001b[0m\n\u001b[1;32m    409\u001b[0m                          \u001b[0;32melse\u001b[0m \u001b[0mdeprecation_addendum\u001b[0m\u001b[0;34m,\u001b[0m\u001b[0;34m\u001b[0m\u001b[0;34m\u001b[0m\u001b[0m\n\u001b[1;32m    410\u001b[0m                 **kwargs)\n\u001b[0;32m--> 411\u001b[0;31m         \u001b[0;32mreturn\u001b[0m \u001b[0mfunc\u001b[0m\u001b[0;34m(\u001b[0m\u001b[0;34m*\u001b[0m\u001b[0minner_args\u001b[0m\u001b[0;34m,\u001b[0m \u001b[0;34m**\u001b[0m\u001b[0minner_kwargs\u001b[0m\u001b[0;34m)\u001b[0m\u001b[0;34m\u001b[0m\u001b[0;34m\u001b[0m\u001b[0m\n\u001b[0m\u001b[1;32m    412\u001b[0m \u001b[0;34m\u001b[0m\u001b[0m\n\u001b[1;32m    413\u001b[0m     \u001b[0;32mreturn\u001b[0m \u001b[0mwrapper\u001b[0m\u001b[0;34m\u001b[0m\u001b[0;34m\u001b[0m\u001b[0m\n",
      "\u001b[0;32m/opt/anaconda3/lib/python3.8/site-packages/matplotlib/cbook/deprecation.py\u001b[0m in \u001b[0;36mwrapper\u001b[0;34m(*inner_args, **inner_kwargs)\u001b[0m\n\u001b[1;32m    409\u001b[0m                          \u001b[0;32melse\u001b[0m \u001b[0mdeprecation_addendum\u001b[0m\u001b[0;34m,\u001b[0m\u001b[0;34m\u001b[0m\u001b[0;34m\u001b[0m\u001b[0m\n\u001b[1;32m    410\u001b[0m                 **kwargs)\n\u001b[0;32m--> 411\u001b[0;31m         \u001b[0;32mreturn\u001b[0m \u001b[0mfunc\u001b[0m\u001b[0;34m(\u001b[0m\u001b[0;34m*\u001b[0m\u001b[0minner_args\u001b[0m\u001b[0;34m,\u001b[0m \u001b[0;34m**\u001b[0m\u001b[0minner_kwargs\u001b[0m\u001b[0;34m)\u001b[0m\u001b[0;34m\u001b[0m\u001b[0;34m\u001b[0m\u001b[0m\n\u001b[0m\u001b[1;32m    412\u001b[0m \u001b[0;34m\u001b[0m\u001b[0m\n\u001b[1;32m    413\u001b[0m     \u001b[0;32mreturn\u001b[0m \u001b[0mwrapper\u001b[0m\u001b[0;34m\u001b[0m\u001b[0;34m\u001b[0m\u001b[0m\n",
      "\u001b[0;32m/opt/anaconda3/lib/python3.8/site-packages/matplotlib/cbook/deprecation.py\u001b[0m in \u001b[0;36mwrapper\u001b[0;34m(*inner_args, **inner_kwargs)\u001b[0m\n\u001b[1;32m    409\u001b[0m                          \u001b[0;32melse\u001b[0m \u001b[0mdeprecation_addendum\u001b[0m\u001b[0;34m,\u001b[0m\u001b[0;34m\u001b[0m\u001b[0;34m\u001b[0m\u001b[0m\n\u001b[1;32m    410\u001b[0m                 **kwargs)\n\u001b[0;32m--> 411\u001b[0;31m         \u001b[0;32mreturn\u001b[0m \u001b[0mfunc\u001b[0m\u001b[0;34m(\u001b[0m\u001b[0;34m*\u001b[0m\u001b[0minner_args\u001b[0m\u001b[0;34m,\u001b[0m \u001b[0;34m**\u001b[0m\u001b[0minner_kwargs\u001b[0m\u001b[0;34m)\u001b[0m\u001b[0;34m\u001b[0m\u001b[0;34m\u001b[0m\u001b[0m\n\u001b[0m\u001b[1;32m    412\u001b[0m \u001b[0;34m\u001b[0m\u001b[0m\n\u001b[1;32m    413\u001b[0m     \u001b[0;32mreturn\u001b[0m \u001b[0mwrapper\u001b[0m\u001b[0;34m\u001b[0m\u001b[0;34m\u001b[0m\u001b[0m\n",
      "\u001b[0;32m/opt/anaconda3/lib/python3.8/site-packages/matplotlib/backends/backend_agg.py\u001b[0m in \u001b[0;36mprint_jpg\u001b[0;34m(self, filename_or_obj, dryrun, pil_kwargs, *args, **kwargs)\u001b[0m\n\u001b[1;32m    590\u001b[0m         \u001b[0mpil_kwargs\u001b[0m\u001b[0;34m.\u001b[0m\u001b[0msetdefault\u001b[0m\u001b[0;34m(\u001b[0m\u001b[0;34m\"dpi\"\u001b[0m\u001b[0;34m,\u001b[0m \u001b[0;34m(\u001b[0m\u001b[0mself\u001b[0m\u001b[0;34m.\u001b[0m\u001b[0mfigure\u001b[0m\u001b[0;34m.\u001b[0m\u001b[0mdpi\u001b[0m\u001b[0;34m,\u001b[0m \u001b[0mself\u001b[0m\u001b[0;34m.\u001b[0m\u001b[0mfigure\u001b[0m\u001b[0;34m.\u001b[0m\u001b[0mdpi\u001b[0m\u001b[0;34m)\u001b[0m\u001b[0;34m)\u001b[0m\u001b[0;34m\u001b[0m\u001b[0;34m\u001b[0m\u001b[0m\n\u001b[1;32m    591\u001b[0m         \u001b[0;31m# Drop alpha channel now.\u001b[0m\u001b[0;34m\u001b[0m\u001b[0;34m\u001b[0m\u001b[0;34m\u001b[0m\u001b[0m\n\u001b[0;32m--> 592\u001b[0;31m         return (Image.fromarray(np.asarray(self.buffer_rgba())[..., :3])\n\u001b[0m\u001b[1;32m    593\u001b[0m                 .save(filename_or_obj, format='jpeg', **pil_kwargs))\n\u001b[1;32m    594\u001b[0m \u001b[0;34m\u001b[0m\u001b[0m\n",
      "\u001b[0;32m/opt/anaconda3/lib/python3.8/site-packages/PIL/Image.py\u001b[0m in \u001b[0;36msave\u001b[0;34m(self, fp, format, **params)\u001b[0m\n\u001b[1;32m   2167\u001b[0m                 \u001b[0mfp\u001b[0m \u001b[0;34m=\u001b[0m \u001b[0mbuiltins\u001b[0m\u001b[0;34m.\u001b[0m\u001b[0mopen\u001b[0m\u001b[0;34m(\u001b[0m\u001b[0mfilename\u001b[0m\u001b[0;34m,\u001b[0m \u001b[0;34m\"r+b\"\u001b[0m\u001b[0;34m)\u001b[0m\u001b[0;34m\u001b[0m\u001b[0;34m\u001b[0m\u001b[0m\n\u001b[1;32m   2168\u001b[0m             \u001b[0;32melse\u001b[0m\u001b[0;34m:\u001b[0m\u001b[0;34m\u001b[0m\u001b[0;34m\u001b[0m\u001b[0m\n\u001b[0;32m-> 2169\u001b[0;31m                 \u001b[0mfp\u001b[0m \u001b[0;34m=\u001b[0m \u001b[0mbuiltins\u001b[0m\u001b[0;34m.\u001b[0m\u001b[0mopen\u001b[0m\u001b[0;34m(\u001b[0m\u001b[0mfilename\u001b[0m\u001b[0;34m,\u001b[0m \u001b[0;34m\"w+b\"\u001b[0m\u001b[0;34m)\u001b[0m\u001b[0;34m\u001b[0m\u001b[0;34m\u001b[0m\u001b[0m\n\u001b[0m\u001b[1;32m   2170\u001b[0m \u001b[0;34m\u001b[0m\u001b[0m\n\u001b[1;32m   2171\u001b[0m         \u001b[0;32mtry\u001b[0m\u001b[0;34m:\u001b[0m\u001b[0;34m\u001b[0m\u001b[0;34m\u001b[0m\u001b[0m\n",
      "\u001b[0;31mFileNotFoundError\u001b[0m: [Errno 2] No such file or directory: 'AnimationTesting/OrbitPlot.jpeg'"
     ]
    },
    {
     "data": {
      "image/png": "[encoded data removed]",
      "text/plain": [
       "<Figure size 1080x1080 with 1 Axes>"
      ]
     },
     "metadata": {},
     "output_type": "display_data"
    }
   ],
   "source": [
    "solar_system.generate_SimulationOrbitGraph('AnimationTesting/', 'OrbitPlot', 'TestTitle')"
   ]
  },
  {
   "cell_type": "code",
   "execution_count": 127,
   "id": "2dc7c224",
   "metadata": {},
   "outputs": [],
   "source": [
    "'''\n",
    "Create a folder nameed AnimationTesting in the same directory as this program to test the program\n",
    "To create the animation download ffmpeg, navigate to the folder with the animation frames then run the commented line\n",
    "    at the bottom of this cell in the command line\n",
    "'''\n",
    "solar_system.positions\n",
    "solar_system.run_sim_full_output('AnimationTesting/', 'TestImage', 'TestTitle', 50)\n",
    "\n",
    "#ffmpeg -framerate 10 -i TestImage%04d.jpeg  TestImage_Movie.mp4"
   ]
  },
  {
   "cell_type": "markdown",
   "id": "ce8a2682",
   "metadata": {},
   "source": [
    "## Secondary Class?"
   ]
  },
  {
   "cell_type": "markdown",
   "id": "a85ffbe1",
   "metadata": {},
   "source": [
    "https://plotly.com/python-api-reference/generated/plotly.express.scatter_3d.html\n",
    "https://www.geeksforgeeks.org/plotly-express-scatter_3d-function-in-python/\n"
   ]
  },
  {
   "cell_type": "markdown",
   "id": "d602ebcf",
   "metadata": {},
   "source": [
    "https://ssd.jpl.nasa.gov/horizons/app.html#/"
   ]
  },
  {
   "cell_type": "code",
   "execution_count": null,
   "id": "defdf4ac",
   "metadata": {},
   "outputs": [],
   "source": [
    "class celestial_body():\n",
    "    \n",
    "    def __init__(name, pos, mass, velocity):\n",
    "        \n",
    "        self.name = name #string\n",
    "        self.position = np.array(pos) #list\n",
    "        self.mass = mass #integer\n",
    "        self.velocity = np.array(velocity) #list of component velocities\n",
    "        \n",
    "    \n",
    "    "
   ]
  }
 ],
 "metadata": {
  "kernelspec": {
   "display_name": "Python 3",
   "language": "python",
   "name": "python3"
  },
  "language_info": {
   "codemirror_mode": {
    "name": "ipython",
    "version": 3
   },
   "file_extension": ".py",
   "mimetype": "text/x-python",
   "name": "python",
   "nbconvert_exporter": "python",
   "pygments_lexer": "ipython3",
   "version": "3.8.8"
  }
 },
 "nbformat": 4,
 "nbformat_minor": 5
}
