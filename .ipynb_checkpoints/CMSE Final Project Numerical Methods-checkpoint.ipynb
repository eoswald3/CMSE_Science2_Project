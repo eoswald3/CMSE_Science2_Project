{
 "cells": [
  {
   "cell_type": "markdown",
   "id": "eb8db49f",
   "metadata": {},
   "source": [
    "# CMSE 202 Numerical Methods"
   ]
  },
  {
   "cell_type": "markdown",
   "id": "7f6f868a",
   "metadata": {},
   "source": [
    "## Euler Loop\n",
    "\n",
    "- h = step size \n",
    "- a = accelration \n",
    "- v = velocity\n",
    "- r = position \n",
    "- G = gravitional constant \n",
    "- m1  = object experiencing accelration \n",
    "- t = time interval"
   ]
  },
  {
   "cell_type": "code",
   "execution_count": null,
   "id": "3149c0ff",
   "metadata": {},
   "outputs": [],
   "source": [
    "for i in range(0,len(t)-1):\n",
    "    v[i+1] = v[i] + h * a[i]\n",
    "    r[i+1] = r[i] + dt * v[i]\n",
    "    a[i+1] = Gm1/((r[i+1])**2)"
   ]
  },
  {
   "cell_type": "markdown",
   "id": "2ffe0928",
   "metadata": {},
   "source": [
    "## Huen Loop "
   ]
  },
  {
   "cell_type": "code",
   "execution_count": null,
   "id": "71bce3ac",
   "metadata": {},
   "outputs": [],
   "source": [
    "for i in range(0,len(t)-1):\n",
    "    v[i+1] = v[i] + h * a[i]\n",
    "    r[i+1] = r[i] + (h/2)(v[i] + v[i+1])\n",
    "    a[i+1] = Gm1/((r[i+1])**2)"
   ]
  },
  {
   "cell_type": "markdown",
   "id": "f47be5dd",
   "metadata": {},
   "source": [
    "## Odeint Scipy"
   ]
  },
  {
   "cell_type": "code",
   "execution_count": null,
   "id": "a84657b3",
   "metadata": {},
   "outputs": [],
   "source": [
    "def acc(y,t,G,m1):\n",
    "    r, v = y\n",
    "    dydt = [v, G*m1/r**2]\n",
    "    return dydt\n",
    "\n",
    "# y0 = \n",
    "\n",
    "# t = \n",
    "\n",
    "sol = odeint(acc, y0, t, args=(G, m1))"
   ]
  }
 ],
 "metadata": {
  "kernelspec": {
   "display_name": "Python 3",
   "language": "python",
   "name": "python3"
  },
  "language_info": {
   "codemirror_mode": {
    "name": "ipython",
    "version": 3
   },
   "file_extension": ".py",
   "mimetype": "text/x-python",
   "name": "python",
   "nbconvert_exporter": "python",
   "pygments_lexer": "ipython3",
   "version": "3.8.8"
  }
 },
 "nbformat": 4,
 "nbformat_minor": 5
}
