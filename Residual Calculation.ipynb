{
 "cells": [
  {
   "cell_type": "markdown",
   "id": "c0d8cb10",
   "metadata": {},
   "source": [
    "# Residual Calculation"
   ]
  },
  {
   "cell_type": "code",
   "execution_count": null,
   "id": "e47c8f86",
   "metadata": {},
   "outputs": [],
   "source": [
    "import numpy as np\n",
    "import pandas as pd\n",
    "import matplotlib.pyplot as plt\n",
    "import seaborn as sns\n",
    "import time\n",
    "from IPython.display import display, clear_output\n",
    "\n",
    "import plotly.express as px #import for 3d interactive plotting\n",
    "import ProjectFunctions as pf\n",
    "import seaborn as sns"
   ]
  },
  {
   "cell_type": "code",
   "execution_count": null,
   "id": "996e1714",
   "metadata": {},
   "outputs": [],
   "source": [
    "names = ['JDTDB','cal','x','y','z', 'vx', 'vy', 'vz', 'LT', 'RG', 'RR','LL']\n",
    "\n",
    "mercury_data = pd.read_csv('mercury.txt',names=names, skiprows = 46, skipfooter=61)\n",
    "venus_data = pd.read_csv('venus.txt',names=names, skiprows = 46, skipfooter=61)\n",
    "earth_data = pd.read_csv('earth.txt',names=names, skiprows = 53, skipfooter=61)\n",
    "moon_data = pd.read_csv('moon.txt',names=names, skiprows = 47, skipfooter=61)\n",
    "mars_data = pd.read_csv('mars.txt',names=names, skiprows = 48, skipfooter=61)\n",
    "jupiter_data = pd.read_csv('jupiter.txt',names=names, skiprows = 47, skipfooter=61)\n",
    "saturn_data = pd.read_csv('saturn.txt',names=names, skiprows = 47, skipfooter=61)\n",
    "uranus_data = pd.read_csv('uranus.txt',names=names, skiprows = 47, skipfooter=61)\n",
    "neptune_data = pd.read_csv('neptune.txt',names=names, skiprows = 47, skipfooter=61)\n",
    "pluto_data = pd.read_csv('pluto.txt',names=names, skiprows = 42, skipfooter=61)"
   ]
  },
  {
   "cell_type": "code",
   "execution_count": null,
   "id": "de1b4f46",
   "metadata": {},
   "outputs": [],
   "source": [
    "corr_pos = np.array([mercury_data['RG'],venus_data['RG'],earth_data['RG'],moon_data['RG'],\n",
    "                    mars_data['RG'],jupiter_data['RG'],saturn_data['RG'],uranus_data['RG'],\n",
    "                    neptune_data['RG'], pluto_data['RG']])/1.496e+08"
   ]
  },
  {
   "cell_type": "code",
   "execution_count": null,
   "id": "e73d9480",
   "metadata": {},
   "outputs": [],
   "source": [
    "# Euler's Method\n",
    "\n",
    "solar_system.generate_SimulationData(84000,366,0)\n",
    "\n",
    "t = np.arange(1,367)\n",
    "\n",
    "labels = ['mercury', 'venus', 'earth','moon', 'mars', 'jupiter', 'saturn', 'uranus', 'neptune', 'pluto']\n",
    "\n",
    "colors = ['black', 'red', 'blue', 'grey', 'orange', 'yellow', 'brown', 'green', 'deepskyblue', 'm' ]"
   ]
  },
  {
   "cell_type": "code",
   "execution_count": null,
   "id": "04dc68c6",
   "metadata": {},
   "outputs": [],
   "source": [
    "sns.set_style('whitegrid')\n",
    "fig, axs = plt.subplots(5,2, figsize = (20,20))\n",
    "axs = axs.ravel()\n",
    "\n",
    "for (i,j) in zip(range(np.shape(solar_system.sim_positions)[2]), range(len(labels))):\n",
    "    positions = np.delete(solar_system.sim_positions,0,axis=2)\n",
    "    positions = positions/1.496e+11\n",
    "    r = np.sqrt(positions[:,0,i]**2 + positions[:,1,i]**2 + positions[:,2,i]**2)\n",
    "    resid = corr_pos[i] - r\n",
    "    axs[i].scatter(t, resid,  c = colors[i])\n",
    "    axs[i].set_title(labels[j])\n",
    "    axs[i].set_ylabel('error (Au)')"
   ]
  },
  {
   "cell_type": "code",
   "execution_count": null,
   "id": "2e833150",
   "metadata": {},
   "outputs": [],
   "source": [
    "# Heun's Method \n",
    "\n",
    "solar_system.generate_SimulationData(84000,366,1)"
   ]
  },
  {
   "cell_type": "code",
   "execution_count": null,
   "id": "b02ae828",
   "metadata": {},
   "outputs": [],
   "source": [
    "sns.set_style('whitegrid')\n",
    "fig, axs = plt.subplots(5,2, figsize = (20,20))\n",
    "axs = axs.ravel()\n",
    "\n",
    "for (i,j) in zip(range(np.shape(solar_system.sim_positions)[2]), range(len(labels))):\n",
    "    positions = np.delete(solar_system.sim_positions,0,axis=2)\n",
    "    positions = positions/1.496e+11\n",
    "    r = np.sqrt(positions[:,0,i]**2 + positions[:,1,i]**2 + positions[:,2,i]**2)\n",
    "    resid = corr_pos[i] - r\n",
    "    axs[i].scatter(t, resid,c = colors[i])\n",
    "    axs[i].set_title(labels[j])\n",
    "    axs[i].set_ylabel('error (Au)')"
   ]
  },
  {
   "cell_type": "code",
   "execution_count": null,
   "id": "3a89c76f",
   "metadata": {},
   "outputs": [],
   "source": [
    "# Velocity Verlet \n",
    "\n",
    "solar_system.generate_SimulationData(84000,366,2)"
   ]
  },
  {
   "cell_type": "code",
   "execution_count": null,
   "id": "cb95121f",
   "metadata": {},
   "outputs": [],
   "source": [
    "sns.set_style('whitegrid')\n",
    "fig, axs = plt.subplots(5,2, figsize = (20,20))\n",
    "axs = axs.ravel()\n",
    "\n",
    "for (i,j) in zip(range(np.shape(solar_system.sim_positions)[2]), range(len(labels))):\n",
    "    positions = np.delete(solar_system.sim_positions,0,axis=2)\n",
    "    positions = positions/1.496e+11\n",
    "    r = np.sqrt(positions[:,0,i]**2 + positions[:,1,i]**2 + positions[:,2,i]**2)\n",
    "    resid = corr_pos[i] - r\n",
    "    axs[i].scatter(t, resid, c = colors[i])\n",
    "    axs[i].set_title(labels[j])\n",
    "    axs[i].set_ylabel('error (Au)')"
   ]
  }
 ],
 "metadata": {
  "kernelspec": {
   "display_name": "Python 3 (ipykernel)",
   "language": "python",
   "name": "python3"
  },
  "language_info": {
   "codemirror_mode": {
    "name": "ipython",
    "version": 3
   },
   "file_extension": ".py",
   "mimetype": "text/x-python",
   "name": "python",
   "nbconvert_exporter": "python",
   "pygments_lexer": "ipython3",
   "version": "3.8.11"
  }
 },
 "nbformat": 4,
 "nbformat_minor": 5
}
