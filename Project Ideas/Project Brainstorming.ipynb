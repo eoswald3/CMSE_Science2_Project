{
 "cells": [
  {
   "cell_type": "markdown",
   "id": "a26ed585",
   "metadata": {},
   "source": [
    "Asteroid Modeling (Emma)"
   ]
  },
  {
   "cell_type": "markdown",
   "id": "517eee31",
   "metadata": {},
   "source": [
    "Particle Collisions (Ethan)"
   ]
  },
  {
   "cell_type": "markdown",
   "id": "d7541502",
   "metadata": {},
   "source": [
    "Gravitational Redshift (Steven)"
   ]
  },
  {
   "cell_type": "markdown",
   "id": "08059f57",
   "metadata": {},
   "source": [
    "Star Spectral Analysis (Steven)"
   ]
  },
  {
   "cell_type": "markdown",
   "id": "4f4fe3be",
   "metadata": {},
   "source": [
    "Modeling a Star System (Emma)"
   ]
  },
  {
   "cell_type": "markdown",
   "id": "a7171183",
   "metadata": {},
   "source": [
    "Oscillations (Patrick)\n",
    " - Binary Stars?"
   ]
  }
 ],
 "metadata": {
  "kernelspec": {
   "display_name": "Python 3",
   "language": "python",
   "name": "python3"
  },
  "language_info": {
   "codemirror_mode": {
    "name": "ipython",
    "version": 3
   },
   "file_extension": ".py",
   "mimetype": "text/x-python",
   "name": "python",
   "nbconvert_exporter": "python",
   "pygments_lexer": "ipython3",
   "version": "3.8.8"
  }
 },
 "nbformat": 4,
 "nbformat_minor": 5
}
