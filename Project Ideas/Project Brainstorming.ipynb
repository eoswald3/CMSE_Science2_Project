{
 "cells": [
  {
   "cell_type": "markdown",
   "id": "9a82e122",
   "metadata": {},
   "source": [
    "Asteroid Modeling (Emma)\n",
    " - NASA data: https://ssd.jpl.nasa.gov/tools/sbdb_query.html#!#results\n",
    " - Orbit Modeling https://en.wikipedia.org/wiki/Orbit_modeling\n",
    " - orbital-sim https://pypi.org/project/orbital-sim/#:~:text=orbital-sim%20A%20customisable%20and%20interactive%20Python%20simulation%20build,or%20create%20your%20own%20simulation%20configuration%20from%20scratch%21\n",
    "    - pygame https://www.pygame.org/wiki/about\n",
    "    "
   ]
  },
  {
   "cell_type": "markdown",
   "id": "9d7b4c3f",
   "metadata": {},
   "source": [
    "Particle Collisions (Ethan)"
   ]
  },
  {
   "cell_type": "markdown",
   "id": "8d236d55",
   "metadata": {},
   "source": [
    "Gravitational Redshift (Steven)"
   ]
  },
  {
   "cell_type": "markdown",
   "id": "ec77cccb",
   "metadata": {},
   "source": [
    "Star Spectral Analysis (Steven)"
   ]
  },
  {
   "cell_type": "markdown",
   "id": "9381b77c",
   "metadata": {},
   "source": [
    "Modeling a Star System (Emma)"
   ]
  },
  {
   "cell_type": "markdown",
   "id": "d55dafd5",
   "metadata": {},
   "source": [
    "Oscillations (Patrick)\n",
    " - Binary Stars?"
   ]
  }
 ],
 "metadata": {
  "kernelspec": {
   "display_name": "Python 3",
   "language": "python",
   "name": "python3"
  },
  "language_info": {
   "codemirror_mode": {
    "name": "ipython",
    "version": 3
   },
   "file_extension": ".py",
   "mimetype": "text/x-python",
   "name": "python",
   "nbconvert_exporter": "python",
   "pygments_lexer": "ipython3",
   "version": "3.8.8"
  }
 },
 "nbformat": 4,
 "nbformat_minor": 5
}
