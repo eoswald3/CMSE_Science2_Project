{
 "cells": [
  {
   "cell_type": "code",
   "execution_count": 2,
   "id": "b8fca37e",
   "metadata": {},
   "outputs": [],
   "source": [
    "import numpy as np\n",
    "import pandas as pd\n",
    "import matplotlib.pyplot as plt"
   ]
  },
  {
   "cell_type": "code",
   "execution_count": 17,
   "id": "e31e7d45",
   "metadata": {},
   "outputs": [],
   "source": [
    "class system():\n",
    "    \n",
    "    def __init__(self, name, mass, pos=np.array([[0,0,0]])):\n",
    "        \n",
    "        self.bodies = pd.DataFrame(col=['Name','Position','Mass','Density'])\n",
    "        self.positions = pos.T #numpy array of shape dimension 2 or 3, number of objects\n",
    "        self.central_pos = pos\n",
    "        self.central_name = name\n",
    "        self.central_mass = mass      \n",
    "        \n",
    "        \n",
    "        pass\n",
    "    \n",
    "    \n",
    "    def add_body(self, name, mass, pos, velocity):\n",
    "        \n",
    "        new_row = {'Name': name, 'Position': pos, 'Mass': mass, 'Velocity': velocity}\n",
    "        \n",
    "        self.bodies.append(new_row)\n",
    "        \n",
    "        pass\n",
    "    \n",
    "    def return_positions()\n",
    "    \n",
    "        return self.positions\n",
    "    \n",
    "    def update_kinematics(self, ):\n",
    "        \n",
    "        pass\n",
    "    \n",
    "    def delete_body(self, body):\n",
    "        \n",
    "        pass\n",
    "    \n",
    "    def move(self, time):\n",
    "        \n",
    "        pass\n",
    "    \n",
    "    def run_sim(self, n_iteration):\n",
    "        \n",
    "        pass\n",
    "    "
   ]
  },
  {
   "cell_type": "code",
   "execution_count": 20,
   "id": "b06e7878",
   "metadata": {},
   "outputs": [
    {
     "name": "stdout",
     "output_type": "stream",
     "text": [
      "[[0]\n",
      " [0]\n",
      " [0]]\n"
     ]
    }
   ],
   "source": [
    "test_sys = system('Sun', 1)\n",
    "\n",
    "print(test_sys.positions)"
   ]
  },
  {
   "cell_type": "code",
   "execution_count": 19,
   "id": "1e047c81",
   "metadata": {},
   "outputs": [],
   "source": [
    "class celestial_body():\n",
    "    \n",
    "    def __init__(name, pos, mass, velocity):\n",
    "        \n",
    "        self.name = name #string\n",
    "        self.position = np.array(pos) #list\n",
    "        self.mass = mass #integer\n",
    "        self.velocity = np.array(velocity) #list of component velocities\n",
    "        \n",
    "    \n",
    "    "
   ]
  },
  {
   "cell_type": "code",
   "execution_count": null,
   "id": "2cac1635",
   "metadata": {},
   "outputs": [],
   "source": []
  }
 ],
 "metadata": {
  "kernelspec": {
   "display_name": "Python 3",
   "language": "python",
   "name": "python3"
  },
  "language_info": {
   "codemirror_mode": {
    "name": "ipython",
    "version": 3
   },
   "file_extension": ".py",
   "mimetype": "text/x-python",
   "name": "python",
   "nbconvert_exporter": "python",
   "pygments_lexer": "ipython3",
   "version": "3.8.8"
  }
 },
 "nbformat": 4,
 "nbformat_minor": 5
}
