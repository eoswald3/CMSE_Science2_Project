{
 "cells": [
  {
   "cell_type": "code",
   "execution_count": 10,
   "id": "43e4b7d5",
   "metadata": {},
   "outputs": [],
   "source": [
    "import numpy as np\n",
    "import pandas as pd\n",
    "import matplotlib.pyplot as plt\n",
    "import seaborn as sns\n",
    "import time\n",
    "from IPython.display import display, clear_output\n",
    "\n",
    "import plotly.express as px #import for 3d interactive plotting\n",
    "import ProjectFunctions as pf"
   ]
  },
  {
   "cell_type": "markdown",
   "id": "e152741b",
   "metadata": {},
   "source": [
    "## Main Class"
   ]
  },
  {
   "cell_type": "code",
   "execution_count": 11,
   "id": "201e4a79",
   "metadata": {},
   "outputs": [],
   "source": [
    "class system():\n",
    "    \n",
    "    def __init__(self, name, mass, diameter, pos=[0,0,0], gravity=0): #diameter in kilometers. \n",
    "        \n",
    "        '''\n",
    "        Initializes the class.\n",
    "        \n",
    "        Takes inputs for the central body of the system.\n",
    "            Central body at pos (0,0,0)\n",
    "        \n",
    "        Creates Array and DataFrame of Info.\n",
    "            \n",
    "        '''\n",
    "        \n",
    "        #initializing the body dataframe\n",
    "        self.bodies = pd.DataFrame(columns=['Initial Position (m)','Initial Velocity (m/s)', 'Mass (kg)', 'Diameter (m)', \n",
    "                                            'Gravity (m/s^2)', 'Position Index'])\n",
    "        \n",
    "        \n",
    "        #numpy array of shape dimension 3, number of objects\n",
    "        self.positions = np.array([pos]).T\n",
    "        self.velocities = np.array([pos]).T\n",
    "        self.masses = np.array(mass)\n",
    "        self.names = np.array(name)\n",
    "        \n",
    "        self.central_pos = pos #setting the position of the central body\n",
    "        self.central_name = name #setting the name of the central body\n",
    "        self.central_mass = mass #setting the mass of the central body\n",
    "        \n",
    "        #adding the parameters of the central body to the dataframe\n",
    "        self.bodies.loc[name] = {'Initial Position (m)': pos, 'Mass (kg)': mass, 'Initial Velocity (m/s)': [0,0,0], \n",
    "                                 'Diameter (m)': diameter, 'Position Index': 0} \n",
    "    \n",
    "    \n",
    "    def add_body(self, name, mass, pos, velocity, diameter, gravity=0):\n",
    "        \n",
    "        '''\n",
    "        Adds an individual body into the system.\n",
    "        '''\n",
    "        \n",
    "        #find the index of the new row\n",
    "        index = len(self.bodies) \n",
    "        \n",
    "        #create dict of data for new row\n",
    "        new_row = {'Initial Position (m)': pos, 'Mass (kg)': mass, 'Initial Velocity (m/s)': velocity, \n",
    "                   'Diameter (m)': diameter, 'Gravity (m/s^2)': gravity, 'Position Index': index}\n",
    "        \n",
    "        #create array of positions of shape dimension 3 by 1\n",
    "        pos = np.array([pos]).T \n",
    "        vel = np.array([velocity]).T\n",
    "        \n",
    "        #insert new row in dataframe\n",
    "        self.bodies.loc[name] = new_row \n",
    "        \n",
    "        #append individual position,velocity,and mass information to the respective full array\n",
    "        self.positions = np.append(self.positions, pos, axis=1) \n",
    "        self.velocities = np.append(self.velocities, vel, axis=1)\n",
    "        self.masses = np.append(self.masses, mass)\n",
    "        self.names = np.append(self.names, name)\n",
    "        \n",
    "    def return_positions(self):\n",
    "        \n",
    "        '''\n",
    "        Return fuction for positions\n",
    "        '''\n",
    "    \n",
    "        return self.positions\n",
    "    \n",
    "    def return_bodies(self):\n",
    "        \n",
    "        '''\n",
    "        Return fuction for the bodies DataFrame.\n",
    "        '''\n",
    "        \n",
    "        return self.bodies\n",
    "    \n",
    "    def delete_body(self, body):\n",
    "        \n",
    "        '''\n",
    "        Removes a single body from the system\n",
    "        \n",
    "        Body: The name of the body you wish to remove. Dtype = string.\n",
    "        '''\n",
    "        \n",
    "        #pulls body's position index in the array from dataframe\n",
    "        index = self.bodies.loc[body,'Position Index'] \n",
    "        \n",
    "        #removes the body from the vectorized data arrays\n",
    "        self.positions = np.delete(self.positions, index, 1) \n",
    "        self.velocities = np.delete(self.velocities, index, 1)\n",
    "        self.masses = np.delete(self.masses, index)\n",
    "        self.names = np.delete(self.names, index)\n",
    "        \n",
    "        #removes the body from the dataframe\n",
    "        self.bodies = self.bodies.drop(body) \n",
    "        \n",
    "        #resets the index position column in the DF to be in line with positions array.\n",
    "        for row in range(len(self.bodies)):\n",
    "            if self.bodies.iloc[row, 5] > index: \n",
    "                self.bodies.iloc[row, 5] -= 1\n",
    "                \n",
    "    \n",
    "    def interactive(self, dimension):\n",
    "        \n",
    "        '''\n",
    "        This method provides two different interactive looks at the positions at the most recent update.\n",
    "        Dimension: The dimension in which they want to view the system. Options: 1, or 3. Input as an integer.\n",
    "        \n",
    "        This method can only be run after generate_SimulationData is run, because of calling positional values.\n",
    "        '''\n",
    "        \n",
    "        #insert update_update kinematics function\n",
    "        \n",
    "        #calling and saving the diameter of each body to use later.\n",
    "        diameter = self.bodies['Diameter (m)'].to_list()\n",
    "        \n",
    "        #sets a color map so each body has a different color based on their initial velocity\n",
    "        c = self.velocities[0]\n",
    "        \n",
    "        \n",
    "        '''\n",
    "        This will return the three dimensional interactive graph.\n",
    "        \n",
    "        The if statments use the argument entered into the method.\n",
    "        '''\n",
    "        \n",
    "        #If three dimensions are requested\n",
    "        if dimension == 3:\n",
    "\n",
    "            #initializing x, y, and z values\n",
    "            x = self.sim_positions[len(self.sim_positions)-1, 0] \n",
    "            y = self.sim_positions[len(self.sim_positions)-1, 1]\n",
    "            z = self.sim_positions[len(self.sim_positions)-1, 2]\n",
    "\n",
    "            #create the 3d plot\n",
    "            scatter3d = px.scatter_3d(x=x, y=y, z=z, color=c, text=self.bodies.index.to_list(), template='plotly_dark', \n",
    "                                      hover_name=self.bodies.index.to_list(), size = diameter, title = 'Current Positions and Data')\n",
    "            \n",
    "            #update the background, and aesthetics for a cleaner image.\n",
    "            scatter3d.update_scenes(xaxis_showgrid=False,yaxis_showgrid=False, zaxis_showgrid=False, xaxis_showticklabels=False, \n",
    "                                    yaxis_showticklabels=False, zaxis_showticklabels=False, camera_projection_type='orthographic',\n",
    "                                    xaxis_zeroline=False, yaxis_zeroline=False, zaxis_zeroline=False)\n",
    "            \n",
    "            #removes the colorbar from the image\n",
    "            scatter3d.update_coloraxes(showscale=False)\n",
    "            \n",
    "            #makes the hoverdata display next to the body\n",
    "            scatter3d.update_layout(hovermode='x')\n",
    "            \n",
    "            #returns the 3d scatter plot\n",
    "            return scatter3d.show()\n",
    "        \n",
    "        \n",
    "        '''\n",
    "        This will return the one dimensional interactive graphs.\n",
    "        \n",
    "        It returns two graphs of the magnitude of the distance of each body from the central body.\n",
    "         - Graph 1: The real scale of distance.\n",
    "         - Graph 2: The logarithmic scale of distance.\n",
    "        \n",
    "        The if statments use the argument entered into the method.\n",
    "        '''\n",
    "        \n",
    "        # if one dimension is requested\n",
    "        if dimension == 1:\n",
    "            \n",
    "            #initializing the list of magnitudes\n",
    "            mag = []\n",
    "            \n",
    "            #Looping over the planets in the system by index of the planet\n",
    "            for i in range(0,len(self.bodies)):\n",
    "                planet_mag = np.linalg.norm(self.positions[:,i]) # np.linalg.norm takes in an multidimensional array and returns the magnitude of that vector.\n",
    "                mag.append(planet_mag) # adds the magnitudes to a new list.\n",
    "        \n",
    "            # graphing the magnitudes on a 1d plane being labeled the same way as the 3d interactive graph. Y axis is simply zeros.\n",
    "            fig = px.scatter(x=mag, y=np.zeros(11),hover_name=self.bodies.index.to_list(), color=c, \n",
    "                            size=diameter, template='plotly_dark', title = 'Magnitude of Distance Normal') \n",
    "\n",
    "            # same as before but we want our x axis to be logarithmic so some bodies are easier to view.\n",
    "            logfig = px.scatter(x=mag, y=np.zeros(11),hover_name=self.bodies.index.to_list(),log_x=True, \n",
    "                                color=c, size=diameter, template='plotly_dark', title = 'Magnitude of Distance Logarithmic')\n",
    "            \n",
    "            # returns both figures\n",
    "            return fig.show(), logfig.show()\n",
    "        \n",
    "        # if an integer other than 1 or 3 is inputed, it will return this error message.\n",
    "        else:\n",
    "            \n",
    "            print('Uh Oh! That dimension is not correct! Please input 1 or 3.') # will print the two argument options.\n",
    "            \n",
    "    def calculate_residuals(self, correct_pos):\n",
    "        \n",
    "            '''\n",
    "            This method would only be used when using actual planets/bodies.\n",
    "            \n",
    "            correct_pos: the correct positions of the planets based on actual data.\n",
    "            \n",
    "            returns an array of residuals that are the difference\n",
    "            between the correct plantery positions and the predicted ones.\n",
    "            '''\n",
    "            \n",
    "            for i in range(len(sim.positions)):\n",
    "                val = np.linalg.norm(self.sim_positions[i])\n",
    "            residuals = correct_pos - val\n",
    "            return residuals\n",
    "            \n",
    "    \n",
    "    def idealStepTimeValues(self, numYears):\n",
    "        iterTime = 365*numYears\n",
    "        h = 84000/numYears\n",
    "        t = np.arange(0,iterTime,1)\n",
    "        \n",
    "        print('To model', numYears, 'years with a step-size (h) value of 1, set h and time parameters to the following.')\n",
    "        print('h:',h)\n",
    "        print('time:',iterTime)\n",
    "    \n",
    "    def generate_SimulationData(self, h, time=1, method=0):\n",
    "        '''\n",
    "        h: number of iterations in the simulation\n",
    "        time: number of _____ to run the simulation for !!!\n",
    "        method: method for generating data\n",
    "                0: Euler's Method\n",
    "                1: Huen's Method\n",
    "                2: Verlat's Method\n",
    "                etc...\n",
    "                \n",
    "        return a vectorized array of positions, velocities, and accelerations for each body over \n",
    "               the course of the simulation using the chosen method\n",
    "        '''\n",
    "        time = int(time)\n",
    "        \n",
    "        m_aU = 1/(1.494E11) #convert from meters to aU\n",
    "        mS_aUYr = 1/4744 #convert from meters/sec to aU/yr\n",
    "        earthMass = 1/(5.972E24) #Convert from kg to Earth masses\n",
    "        \n",
    "        if method == 0:\n",
    "            self.sim_positions, self.sim_velocities, self.sim_accelerations = pf.kinematic_Euler(h,time,self.positions,self.velocities,self.masses)\n",
    "            \n",
    "            \n",
    "#             #updating the positions and velocities arrays to the most recent of each\n",
    "#             self.positions = self.sim_positions[len(self.sim_positions)-1]\n",
    "#             self.velocities = self.sim_velocities[len(self.sim_positions)-1]\n",
    "            \n",
    "        elif method == 1:\n",
    "            self.sim_positions, self.sim_velocities, self.sim_accelerations = pf.kinematic_Huens(h,time,self.positions,self.velocities,self.masses)\n",
    "            \n",
    "            \n",
    "#             #updating the positions and velocities arrays to the most recent of each\n",
    "#             self.positions = self.sim_positions[len(self.sim_positions)-1]\n",
    "#             self.velocities = self.sim_velocities[len(self.sim_positions)-1]\n",
    "        \n",
    "        elif method == 2:\n",
    "            h2 = h/3.145e7 #Convert from seconds to years\n",
    "            \n",
    "            self.sim_positions, self.sim_velocities, self.sim_accelerations = pf.kinematic_Verlat(h2,time,self.positions*m_aU,self.velocities*mS_aUYr,self.masses*earthMass)\n",
    "            self.sim_positions = self.sim_positions/m_aU #Convert back to mks units\n",
    "            self.sim_velocities = self.sim_velocities/mS_aUYr #Convert back to mks units\n",
    "            self.sim_accelerations = self.sim_accelerations/earthMass #Convert back to mks units\n",
    "            \n",
    "            \n",
    "#             #updating the positions and velocities arrays to the most recent of each\n",
    "#             self.positions = self.sim_positions[len(self.sim_positions)-1]\n",
    "#             self.velocities = self.sim_velocities[len(self.sim_positions)-1]\n",
    "        \n",
    "        \n",
    "        else:\n",
    "            raise ValueError(method,' Is not a valid method identifier, please input a valid identifier')\n",
    "            \n",
    "    def generate_SimulationOrbitGraph(self, path, prefix, title, axesTF = True, second_View = False):\n",
    "        '''\n",
    "        generate a graph containing the plots of the objects path over the course of the simulation\n",
    "        \n",
    "        path: relative path to were the animation frames will be stored (end with /)\n",
    "        prefix: generated image filename prefix\n",
    "        axesTF: conditional for whether to have the axes elements on or off\n",
    "        second_View: conditional for whether to plot a second view, orthogonal to the first\n",
    "        '''\n",
    "        plt.style.use('default') #Set style of the plot\n",
    "        \n",
    "        #Check which type of image is to be created\n",
    "        if second_View == True:\n",
    "            fig = plt.figure(figsize = (10,15)) #Set figure size\n",
    "            ax = fig.add_subplot(211, projection='3d')\n",
    "            \n",
    "        else:\n",
    "            fig = plt.figure(figsize = (10,10)) #Set figure size\n",
    "            ax = fig.add_subplot(111, projection='3d')\n",
    "            \n",
    "        names = self.bodies.index.to_list() #Get names of objects to be ploted \n",
    "        \n",
    "        for i in range(np.shape(solar_system.sim_positions)[2]):\n",
    "            xPlot = self.sim_positions[:,0,i] # Grab x position data of object i\n",
    "            yPlot = self.sim_positions[:,1,i] # Grab y position data of object i\n",
    "            zPlot = self.sim_positions[:,2,i] # Grab z position data of object i\n",
    "\n",
    "            ax.plot(xPlot, yPlot, zPlot, label = names[i]) #Plot the full orbit of each object\n",
    "            ax.scatter(xPlot[0], yPlot[0], zPlot[0], c = 'green') #Indicate initial position\n",
    "            ax.scatter(xPlot[-1], yPlot[-1], zPlot[-1], c = 'red') #Indicate final position\n",
    "\n",
    "        ax.view_init(elev=90, azim=90) #Change view parameters (spin along the azimuth)\n",
    "        \n",
    "        ax.set_xlabel('x', fontsize = 15) #Assign label\n",
    "        ax.set_ylabel('y', fontsize = 15) #Assign label\n",
    "        ax.set_zlabel('z', fontsize = 15) #Assign label\n",
    "        \n",
    "        #Plot second view if conditional is True\n",
    "        if second_View == True:\n",
    "            ax1 = fig.add_subplot(212, projection='3d')\n",
    "\n",
    "            for i in range(np.shape(solar_system.sim_positions)[2]):\n",
    "                xPlot = self.sim_positions[:,0,i] # Grab x position data of object i\n",
    "                yPlot = self.sim_positions[:,1,i] # Grab y position data of object i\n",
    "                zPlot = self.sim_positions[:,2,i] # Grab z position data of object i\n",
    "\n",
    "                ax1.plot(xPlot, yPlot, zPlot, label = names[i]) #Plot the full orbit of each object\n",
    "                ax1.scatter(xPlot[0], yPlot[0], zPlot[0], c = 'green') #Indicate initial position\n",
    "                ax1.scatter(xPlot[-1], yPlot[-1], zPlot[-1], c = 'red') #Indicate final position\n",
    "                \n",
    "            ax1.view_init(elev=0, azim=90) #Change view parameters (spin along the azimuth)\n",
    "            \n",
    "            ax1.set_xlabel('x', fontsize = 15) #Assign label\n",
    "            ax1.set_ylabel('y', fontsize = 15) #Assign label\n",
    "            ax1.set_zlabel('z', fontsize = 15) #Assign label\n",
    "            \n",
    "            plt.subplots_adjust(hspace=-0.3)\n",
    "\n",
    "        #Set axes state\n",
    "        ax.axis('on')\n",
    "        if axesTF == False:\n",
    "            ax.axis('off')\n",
    "\n",
    "#         systemScale = 10e13\n",
    "\n",
    "#         ax.set_xlim3d(-systemScale,systemScale)\n",
    "#         ax.set_ylim3d(-systemScale,systemScale)\n",
    "#         ax.set_zlim3d(-systemScale,systemScale)\n",
    "\n",
    "        ax.set_title(title, y=0.95, fontsize=15)\n",
    "        \n",
    "        ax.legend()\n",
    "\n",
    "        #Saving the graph\n",
    "        fig.savefig(path + prefix + '.png',transparent=True)\n",
    "        fig.clear()\n",
    "        plt.close(fig)\n",
    "        \n",
    "    def generate_SimulationAnimation(self, path, prefix, title, scale = 1e11, axesTF = True):\n",
    "        '''\n",
    "        run the simulation with given input parameters and save the output images\n",
    "        \n",
    "        path: relative path to were the animation frames will be stored (end with /)\n",
    "        prefix: generated image filename prefix\n",
    "        title:\n",
    "        scale: scale of the plot\n",
    "        axesTF: conditional for whether to have the axes elements on or off\n",
    "        \n",
    "        #ffmpeg -framerate 10 -i Test_3DScatter_s40_cross_%04d.jpeg  Test_3DScatter_s40_3d_fr_cross_Movie.mp4\n",
    "        '''\n",
    "        \n",
    "        #Use generated data to produce an animation for the same data\n",
    "        xPlot, yPlot, zPlot = self.sim_positions[:,0], self.sim_positions[:,1], self.sim_positions[:,2]\n",
    "        \n",
    "        num_iterations = len(xPlot)\n",
    "        \n",
    "        diameter = self.bodies['Diameter (m)'].to_list()\n",
    "        names = self.bodies.index.to_list()\n",
    "    \n",
    "        plt.style.use('dark_background')\n",
    "        \n",
    "        #Generate, output, and clear the figure for each frame\n",
    "        count = 0 #Used to update the image filenames\n",
    "        for i in range(0,num_iterations,1):\n",
    "            fig = plt.figure(figsize = (10,10))\n",
    "            ax = fig.add_subplot(111, projection='3d')\n",
    "            \n",
    "            diameterShow = (np.round(diameter/np.min(diameter))*5)\n",
    "            diameterShow[0] = np.max(diameterShow)*1.5\n",
    "            \n",
    "            #tempAx = ax.scatter(xPlot[i], yPlot[i], zPlot[i], c = c, s = np.round(diameter/np.min(diameter))*4, edgecolors = 'black', alpha = 1, label = c)\n",
    "            \n",
    "            for k in range(len(xPlot[i])):\n",
    "                ax.scatter(xPlot[i,k], yPlot[i,k], zPlot[i,k], s = diameterShow[k], edgecolors = 'white', alpha = 1, label = names[k])\n",
    "            \n",
    "            ax.view_init(elev=45, azim=-90) #Change view parameters (spin along the azimuth)\n",
    "            \n",
    "            #Set axes state\n",
    "            ax.axis('on')\n",
    "            if axesTF == False:\n",
    "                ax.axis('off')\n",
    "            \n",
    "            ax.set_xlabel('x', fontsize = 15) #Assign label\n",
    "            ax.set_ylabel('y', fontsize = 15) #Assign label\n",
    "            ax.set_zlabel('z', fontsize = 15) #Assign label\n",
    "            \n",
    "            ax.set_xlim3d(-scale,scale)\n",
    "            ax.set_ylim3d(-scale,scale)\n",
    "            ax.set_zlim3d(-scale,scale)\n",
    "            \n",
    "            ax.set_title(title, y=0.95, fontsize=15)\n",
    "            \n",
    "            ax.legend(borderpad=1, labelspacing=1)\n",
    "            \n",
    "            #Saving of each frame\n",
    "            i_str = str(count)\n",
    "            suffix = i_str.rjust(4,'0')\n",
    "            fig.savefig(path + prefix + suffix + '.jpeg')\n",
    "            fig.clear()\n",
    "            plt.close(fig)\n",
    "            count += 1"
   ]
  },
  {
   "cell_type": "markdown",
   "id": "0cab3b64",
   "metadata": {},
   "source": [
    "## Testing"
   ]
  },
  {
   "cell_type": "code",
   "execution_count": 12,
   "id": "b8815a00",
   "metadata": {},
   "outputs": [],
   "source": [
    "#creating our solar system base for testing\n",
    "#pos and vel as of 11/23/21 using NASA's Horizons System\n",
    "\n",
    "solar_system = system('Sun', 1.988E30, diameter=135000) #the diameter of the sun is not accurate (made this way to produce more visible bodies in the graphs.\n",
    "solar_system.add_body(name='Mercury', mass=0.33E24, pos=[1.411631933633117E+05*1000,-6.850588330933845E+07*1000,-5.745725007852197E+06*1000], velocity=[3.892676067653318E+01*1000,3.480672837855545E+00*1000,-3.285348719219936E+00*1000], \n",
    "                      diameter=4897*1000, gravity=3.7)\n",
    "solar_system.add_body(name='Venus', mass=4.87E24, pos=[5.796478561470394E+07*1000,  9.082886771284731E+07*1000, -2.153501888780259E+06*1000], velocity=[-2.939889975611381E+01*1000,  1.904023474165492E+01*1000,  1.957888804928725E+00*1000], \n",
    "                      diameter=12104*1000, gravity=8.9)\n",
    "solar_system.add_body(name='Earth', mass=5.97E24, pos=[3.486755659092455E+07*1000,  1.434042934317392E+08*1000,  1.869680778456479E+04*1000], velocity=[-2.938035979759798E+01*1000,  7.171334894359852E+00*1000,  5.699950105326756E-04*1000], \n",
    "                      diameter=12756*1000, gravity=9.8)\n",
    "'''\n",
    "Look at Moons Data\n",
    "'''\n",
    "solar_system.add_body(name='Moon', mass=0.073E24, pos=[3.508852298940533E+07*1000,  1.431113948586145E+08*1000, -1.218082899700105E+04*1000], velocity=[-2.849458907946676E+01*1000,  7.763180064088835E+00*1000, -4.507247294064554E-02*1000], \n",
    "                      diameter=3475*1000, gravity=1.6)\n",
    "solar_system.add_body(name='Mars', mass=0.642E24, pos=[-1.710054904272133E+08*1000, -1.610758715735669E+08*1000,  8.020083742107451E+05*1000], velocity=[1.760768703836943E+01*1000, -1.548854111241624E+01*1000, -7.561076938316038E-01*1000], \n",
    "                      diameter=6792*1000, gravity=3.7)\n",
    "solar_system.add_body(name='Jupiter', mass=1898.0E24, pos=[6.856665866756903E+08*1000, -2.943260211957452E+08*1000, -1.411899156613560E+07*1000], velocity=[4.997121302406234E+00*1000,  1.262152554622346E+01*1000, -1.640654766091609E-01*1000], \n",
    "                      diameter=142984*1000, gravity=23.1)\n",
    "solar_system.add_body(name='Saturn', mass=568.0E24, pos=[1.026683465189495E+09*1000, -1.070565144113797E+09*1000, -2.226182209885722E+07*1000], velocity=[6.429917082539228E+00*1000,  6.665341784124929E+00*1000, -3.716432151009892E-01*1000], \n",
    "                      diameter=120356*1000, gravity=9.0)\n",
    "solar_system.add_body(name='Uranus', mass=86.8E24, pos=[2.162305331530191E+09*1000,  2.007218965443874E+09*1000, -2.055818762966955E+07*1000], velocity=[-4.683152746767849E+00*1000,  4.673787365015551E+00*1000,  7.772282906080452E-02*1000], \n",
    "                      diameter=51118*1000, gravity=8.7)\n",
    "solar_system.add_body(name='Neptune', mass=102.0E24, pos=[4.430310173440724E+09*1000, -6.226784460054778E+08*1000, -8.927815516648003E+07*1000], velocity=[7.199096205094541E-01*1000,  5.414847558356772E+00*1000, -1.274347212130118E-01*1000], \n",
    "                      diameter=49528*1000, gravity=11.0)\n",
    "solar_system.add_body(name='Pluto', mass=0.0146E24, pos=[2.251243846932051E+09*1000, -4.626827852868666E+09*1000, -1.560968490567470E+08*1000], velocity=[ 5.005706635845364E+00*1000,  1.184939227962514E+00*1000, -1.588280728467764E+00*1000], \n",
    "                      diameter=2370*1000, gravity=0.7)\n",
    "\n",
    "#return the bodies dataframe\n",
    "# solar_system.return_bodies()"
   ]
  },
  {
   "cell_type": "code",
   "execution_count": 13,
   "id": "ccacf9b1",
   "metadata": {},
   "outputs": [
    {
     "data": {
      "text/html": [
       "<div>\n",
       "<style scoped>\n",
       "    .dataframe tbody tr th:only-of-type {\n",
       "        vertical-align: middle;\n",
       "    }\n",
       "\n",
       "    .dataframe tbody tr th {\n",
       "        vertical-align: top;\n",
       "    }\n",
       "\n",
       "    .dataframe thead th {\n",
       "        text-align: right;\n",
       "    }\n",
       "</style>\n",
       "<table border=\"1\" class=\"dataframe\">\n",
       "  <thead>\n",
       "    <tr style=\"text-align: right;\">\n",
       "      <th></th>\n",
       "      <th>Initial Position (m)</th>\n",
       "      <th>Initial Velocity (m/s)</th>\n",
       "      <th>Mass (kg)</th>\n",
       "      <th>Diameter (m)</th>\n",
       "      <th>Gravity (m/s^2)</th>\n",
       "      <th>Position Index</th>\n",
       "    </tr>\n",
       "  </thead>\n",
       "  <tbody>\n",
       "    <tr>\n",
       "      <th>Sun</th>\n",
       "      <td>[0, 0, 0]</td>\n",
       "      <td>[0, 0, 0]</td>\n",
       "      <td>1.988000e+30</td>\n",
       "      <td>135000</td>\n",
       "      <td>NaN</td>\n",
       "      <td>0</td>\n",
       "    </tr>\n",
       "    <tr>\n",
       "      <th>Mercury</th>\n",
       "      <td>[141163193.3633117, -68505883309.33845, -57457...</td>\n",
       "      <td>[38926.76067653318, 3480.6728378555454, -3285....</td>\n",
       "      <td>3.300000e+23</td>\n",
       "      <td>4897000</td>\n",
       "      <td>3.7</td>\n",
       "      <td>1</td>\n",
       "    </tr>\n",
       "    <tr>\n",
       "      <th>Venus</th>\n",
       "      <td>[57964785614.70394, 90828867712.8473, -2153501...</td>\n",
       "      <td>[-29398.89975611381, 19040.23474165492, 1957.8...</td>\n",
       "      <td>4.870000e+24</td>\n",
       "      <td>12104000</td>\n",
       "      <td>8.9</td>\n",
       "      <td>2</td>\n",
       "    </tr>\n",
       "    <tr>\n",
       "      <th>Earth</th>\n",
       "      <td>[34867556590.92455, 143404293431.7392, 1869680...</td>\n",
       "      <td>[-29380.35979759798, 7171.334894359852, 0.5699...</td>\n",
       "      <td>5.970000e+24</td>\n",
       "      <td>12756000</td>\n",
       "      <td>9.8</td>\n",
       "      <td>3</td>\n",
       "    </tr>\n",
       "    <tr>\n",
       "      <th>Moon</th>\n",
       "      <td>[35088522989.40533, 143111394858.6145, -121808...</td>\n",
       "      <td>[-28494.58907946676, 7763.180064088835, -45.07...</td>\n",
       "      <td>7.300000e+22</td>\n",
       "      <td>3475000</td>\n",
       "      <td>1.6</td>\n",
       "      <td>4</td>\n",
       "    </tr>\n",
       "    <tr>\n",
       "      <th>Mars</th>\n",
       "      <td>[-171005490427.21332, -161075871573.56693, 802...</td>\n",
       "      <td>[17607.68703836943, -15488.54111241624, -756.1...</td>\n",
       "      <td>6.420000e+23</td>\n",
       "      <td>6792000</td>\n",
       "      <td>3.7</td>\n",
       "      <td>5</td>\n",
       "    </tr>\n",
       "    <tr>\n",
       "      <th>Jupiter</th>\n",
       "      <td>[685666586675.6903, -294326021195.74524, -1411...</td>\n",
       "      <td>[4997.1213024062345, 12621.52554622346, -164.0...</td>\n",
       "      <td>1.898000e+27</td>\n",
       "      <td>142984000</td>\n",
       "      <td>23.1</td>\n",
       "      <td>6</td>\n",
       "    </tr>\n",
       "    <tr>\n",
       "      <th>Saturn</th>\n",
       "      <td>[1026683465189.495, -1070565144113.797, -22261...</td>\n",
       "      <td>[6429.9170825392275, 6665.341784124929, -371.6...</td>\n",
       "      <td>5.680000e+26</td>\n",
       "      <td>120356000</td>\n",
       "      <td>9.0</td>\n",
       "      <td>7</td>\n",
       "    </tr>\n",
       "    <tr>\n",
       "      <th>Uranus</th>\n",
       "      <td>[2162305331530.191, 2007218965443.8738, -20558...</td>\n",
       "      <td>[-4683.152746767849, 4673.787365015551, 77.722...</td>\n",
       "      <td>8.680000e+25</td>\n",
       "      <td>51118000</td>\n",
       "      <td>8.7</td>\n",
       "      <td>8</td>\n",
       "    </tr>\n",
       "    <tr>\n",
       "      <th>Neptune</th>\n",
       "      <td>[4430310173440.725, -622678446005.4778, -89278...</td>\n",
       "      <td>[719.909620509454, 5414.847558356772, -127.434...</td>\n",
       "      <td>1.020000e+26</td>\n",
       "      <td>49528000</td>\n",
       "      <td>11.0</td>\n",
       "      <td>9</td>\n",
       "    </tr>\n",
       "    <tr>\n",
       "      <th>Pluto</th>\n",
       "      <td>[2251243846932.0513, -4626827852868.666, -1560...</td>\n",
       "      <td>[5005.706635845364, 1184.939227962514, -1588.2...</td>\n",
       "      <td>1.460000e+22</td>\n",
       "      <td>2370000</td>\n",
       "      <td>0.7</td>\n",
       "      <td>10</td>\n",
       "    </tr>\n",
       "  </tbody>\n",
       "</table>\n",
       "</div>"
      ],
      "text/plain": [
       "                                      Initial Position (m)  \\\n",
       "Sun                                              [0, 0, 0]   \n",
       "Mercury  [141163193.3633117, -68505883309.33845, -57457...   \n",
       "Venus    [57964785614.70394, 90828867712.8473, -2153501...   \n",
       "Earth    [34867556590.92455, 143404293431.7392, 1869680...   \n",
       "Moon     [35088522989.40533, 143111394858.6145, -121808...   \n",
       "Mars     [-171005490427.21332, -161075871573.56693, 802...   \n",
       "Jupiter  [685666586675.6903, -294326021195.74524, -1411...   \n",
       "Saturn   [1026683465189.495, -1070565144113.797, -22261...   \n",
       "Uranus   [2162305331530.191, 2007218965443.8738, -20558...   \n",
       "Neptune  [4430310173440.725, -622678446005.4778, -89278...   \n",
       "Pluto    [2251243846932.0513, -4626827852868.666, -1560...   \n",
       "\n",
       "                                    Initial Velocity (m/s)     Mass (kg)  \\\n",
       "Sun                                              [0, 0, 0]  1.988000e+30   \n",
       "Mercury  [38926.76067653318, 3480.6728378555454, -3285....  3.300000e+23   \n",
       "Venus    [-29398.89975611381, 19040.23474165492, 1957.8...  4.870000e+24   \n",
       "Earth    [-29380.35979759798, 7171.334894359852, 0.5699...  5.970000e+24   \n",
       "Moon     [-28494.58907946676, 7763.180064088835, -45.07...  7.300000e+22   \n",
       "Mars     [17607.68703836943, -15488.54111241624, -756.1...  6.420000e+23   \n",
       "Jupiter  [4997.1213024062345, 12621.52554622346, -164.0...  1.898000e+27   \n",
       "Saturn   [6429.9170825392275, 6665.341784124929, -371.6...  5.680000e+26   \n",
       "Uranus   [-4683.152746767849, 4673.787365015551, 77.722...  8.680000e+25   \n",
       "Neptune  [719.909620509454, 5414.847558356772, -127.434...  1.020000e+26   \n",
       "Pluto    [5005.706635845364, 1184.939227962514, -1588.2...  1.460000e+22   \n",
       "\n",
       "        Diameter (m)  Gravity (m/s^2) Position Index  \n",
       "Sun           135000              NaN              0  \n",
       "Mercury      4897000              3.7              1  \n",
       "Venus       12104000              8.9              2  \n",
       "Earth       12756000              9.8              3  \n",
       "Moon         3475000              1.6              4  \n",
       "Mars         6792000              3.7              5  \n",
       "Jupiter    142984000             23.1              6  \n",
       "Saturn     120356000              9.0              7  \n",
       "Uranus      51118000              8.7              8  \n",
       "Neptune     49528000             11.0              9  \n",
       "Pluto        2370000              0.7             10  "
      ]
     },
     "execution_count": 13,
     "metadata": {},
     "output_type": "execute_result"
    }
   ],
   "source": [
    "solar_system.bodies"
   ]
  },
  {
   "cell_type": "markdown",
   "id": "e3d25359",
   "metadata": {},
   "source": [
    "# Plotting our solar system"
   ]
  },
  {
   "cell_type": "code",
   "execution_count": 14,
   "id": "6263e20b",
   "metadata": {},
   "outputs": [],
   "source": [
    "#running through 8 years of modeling orbits, in order to produce an interactive graph\n",
    "solar_system.generate_SimulationData(86400/8,365*8,2)"
   ]
  },
  {
   "cell_type": "code",
   "execution_count": 15,
   "id": "ce914472",
   "metadata": {},
   "outputs": [
    {
     "data": {
      "application/vnd.plotly.v1+json": {
       "config": {
        "plotlyServerURL": "https://plot.ly"
       },
       "data": [
        {
         "hovertemplate": "<b>%{hovertext}</b><br><br>x=%{x}<br>y=%{y}<br>z=%{z}<br>size=%{marker.size}<br>text=%{text}<br>color=%{marker.color}<extra></extra>",
         "hovertext": [
          "Sun",
          "Mercury",
          "Venus",
          "Earth",
          "Moon",
          "Mars",
          "Jupiter",
          "Saturn",
          "Uranus",
          "Neptune",
          "Pluto"
         ],
         "legendgroup": "",
         "marker": {
          "color": [
           0,
           38926.76067653318,
           -29398.89975611381,
           -29380.35979759798,
           -28494.58907946676,
           17607.68703836943,
           4997.1213024062345,
           6429.9170825392275,
           -4683.152746767849,
           719.909620509454,
           5005.706635845364
          ],
          "coloraxis": "coloraxis",
          "size": [
           135000,
           4897000,
           12104000,
           12756000,
           3475000,
           6792000,
           142984000,
           120356000,
           51118000,
           49528000,
           2370000
          ],
          "sizemode": "area",
          "sizeref": 357460,
          "symbol": "circle"
         },
         "mode": "markers+text",
         "name": "",
         "scene": "scene",
         "showlegend": false,
         "text": [
          "Sun",
          "Mercury",
          "Venus",
          "Earth",
          "Moon",
          "Mars",
          "Jupiter",
          "Saturn",
          "Uranus",
          "Neptune",
          "Pluto"
         ],
         "type": "scatter3d",
         "x": [
          112741681.15740223,
          51546821180.40076,
          29104495611.563858,
          39224141763.20387,
          39331203760.28272,
          60017550015.11084,
          727468518622.9342,
          1207358487984.357,
          2009011526790.2964,
          4449754512840.088,
          2408152812210.4473
         ],
         "y": [
          -27096142.053398542,
          -19405885705.063828,
          -103219531828.32005,
          142268712916.85257,
          142654190972.79877,
          223427243488.63467,
          129078940931.57254,
          -839739663403.4917,
          2149443571721.549,
          -451326143266.1837,
          -4587197660157.146
         ],
         "z": [
          -2407524.371479256,
          -6349809410.59513,
          -3055876969.2228785,
          15130655.294696312,
          34138082.75905574,
          3224244558.885577,
          -16808059482.076487,
          -33459960538.966373,
          -18053717886.532787,
          -93233971325.78545,
          -206151970551.7168
         ]
        }
       ],
       "layout": {
        "coloraxis": {
         "colorbar": {
          "title": {
           "text": "color"
          }
         },
         "colorscale": [
          [
           0,
           "#0d0887"
          ],
          [
           0.1111111111111111,
           "#46039f"
          ],
          [
           0.2222222222222222,
           "#7201a8"
          ],
          [
           0.3333333333333333,
           "#9c179e"
          ],
          [
           0.4444444444444444,
           "#bd3786"
          ],
          [
           0.5555555555555556,
           "#d8576b"
          ],
          [
           0.6666666666666666,
           "#ed7953"
          ],
          [
           0.7777777777777778,
           "#fb9f3a"
          ],
          [
           0.8888888888888888,
           "#fdca26"
          ],
          [
           1,
           "#f0f921"
          ]
         ],
         "showscale": false
        },
        "hovermode": "x",
        "legend": {
         "itemsizing": "constant",
         "tracegroupgap": 0
        },
        "scene": {
         "camera": {
          "projection": {
           "type": "orthographic"
          }
         },
         "domain": {
          "x": [
           0,
           1
          ],
          "y": [
           0,
           1
          ]
         },
         "xaxis": {
          "showgrid": false,
          "showticklabels": false,
          "title": {
           "text": "x"
          },
          "zeroline": false
         },
         "yaxis": {
          "showgrid": false,
          "showticklabels": false,
          "title": {
           "text": "y"
          },
          "zeroline": false
         },
         "zaxis": {
          "showgrid": false,
          "showticklabels": false,
          "title": {
           "text": "z"
          },
          "zeroline": false
         }
        },
        "template": {
         "data": {
          "bar": [
           {
            "error_x": {
             "color": "#f2f5fa"
            },
            "error_y": {
             "color": "#f2f5fa"
            },
            "marker": {
             "line": {
              "color": "rgb(17,17,17)",
              "width": 0.5
             },
             "pattern": {
              "fillmode": "overlay",
              "size": 10,
              "solidity": 0.2
             }
            },
            "type": "bar"
           }
          ],
          "barpolar": [
           {
            "marker": {
             "line": {
              "color": "rgb(17,17,17)",
              "width": 0.5
             },
             "pattern": {
              "fillmode": "overlay",
              "size": 10,
              "solidity": 0.2
             }
            },
            "type": "barpolar"
           }
          ],
          "carpet": [
           {
            "aaxis": {
             "endlinecolor": "#A2B1C6",
             "gridcolor": "#506784",
             "linecolor": "#506784",
             "minorgridcolor": "#506784",
             "startlinecolor": "#A2B1C6"
            },
            "baxis": {
             "endlinecolor": "#A2B1C6",
             "gridcolor": "#506784",
             "linecolor": "#506784",
             "minorgridcolor": "#506784",
             "startlinecolor": "#A2B1C6"
            },
            "type": "carpet"
           }
          ],
          "choropleth": [
           {
            "colorbar": {
             "outlinewidth": 0,
             "ticks": ""
            },
            "type": "choropleth"
           }
          ],
          "contour": [
           {
            "colorbar": {
             "outlinewidth": 0,
             "ticks": ""
            },
            "colorscale": [
             [
              0,
              "#0d0887"
             ],
             [
              0.1111111111111111,
              "#46039f"
             ],
             [
              0.2222222222222222,
              "#7201a8"
             ],
             [
              0.3333333333333333,
              "#9c179e"
             ],
             [
              0.4444444444444444,
              "#bd3786"
             ],
             [
              0.5555555555555556,
              "#d8576b"
             ],
             [
              0.6666666666666666,
              "#ed7953"
             ],
             [
              0.7777777777777778,
              "#fb9f3a"
             ],
             [
              0.8888888888888888,
              "#fdca26"
             ],
             [
              1,
              "#f0f921"
             ]
            ],
            "type": "contour"
           }
          ],
          "contourcarpet": [
           {
            "colorbar": {
             "outlinewidth": 0,
             "ticks": ""
            },
            "type": "contourcarpet"
           }
          ],
          "heatmap": [
           {
            "colorbar": {
             "outlinewidth": 0,
             "ticks": ""
            },
            "colorscale": [
             [
              0,
              "#0d0887"
             ],
             [
              0.1111111111111111,
              "#46039f"
             ],
             [
              0.2222222222222222,
              "#7201a8"
             ],
             [
              0.3333333333333333,
              "#9c179e"
             ],
             [
              0.4444444444444444,
              "#bd3786"
             ],
             [
              0.5555555555555556,
              "#d8576b"
             ],
             [
              0.6666666666666666,
              "#ed7953"
             ],
             [
              0.7777777777777778,
              "#fb9f3a"
             ],
             [
              0.8888888888888888,
              "#fdca26"
             ],
             [
              1,
              "#f0f921"
             ]
            ],
            "type": "heatmap"
           }
          ],
          "heatmapgl": [
           {
            "colorbar": {
             "outlinewidth": 0,
             "ticks": ""
            },
            "colorscale": [
             [
              0,
              "#0d0887"
             ],
             [
              0.1111111111111111,
              "#46039f"
             ],
             [
              0.2222222222222222,
              "#7201a8"
             ],
             [
              0.3333333333333333,
              "#9c179e"
             ],
             [
              0.4444444444444444,
              "#bd3786"
             ],
             [
              0.5555555555555556,
              "#d8576b"
             ],
             [
              0.6666666666666666,
              "#ed7953"
             ],
             [
              0.7777777777777778,
              "#fb9f3a"
             ],
             [
              0.8888888888888888,
              "#fdca26"
             ],
             [
              1,
              "#f0f921"
             ]
            ],
            "type": "heatmapgl"
           }
          ],
          "histogram": [
           {
            "marker": {
             "pattern": {
              "fillmode": "overlay",
              "size": 10,
              "solidity": 0.2
             }
            },
            "type": "histogram"
           }
          ],
          "histogram2d": [
           {
            "colorbar": {
             "outlinewidth": 0,
             "ticks": ""
            },
            "colorscale": [
             [
              0,
              "#0d0887"
             ],
             [
              0.1111111111111111,
              "#46039f"
             ],
             [
              0.2222222222222222,
              "#7201a8"
             ],
             [
              0.3333333333333333,
              "#9c179e"
             ],
             [
              0.4444444444444444,
              "#bd3786"
             ],
             [
              0.5555555555555556,
              "#d8576b"
             ],
             [
              0.6666666666666666,
              "#ed7953"
             ],
             [
              0.7777777777777778,
              "#fb9f3a"
             ],
             [
              0.8888888888888888,
              "#fdca26"
             ],
             [
              1,
              "#f0f921"
             ]
            ],
            "type": "histogram2d"
           }
          ],
          "histogram2dcontour": [
           {
            "colorbar": {
             "outlinewidth": 0,
             "ticks": ""
            },
            "colorscale": [
             [
              0,
              "#0d0887"
             ],
             [
              0.1111111111111111,
              "#46039f"
             ],
             [
              0.2222222222222222,
              "#7201a8"
             ],
             [
              0.3333333333333333,
              "#9c179e"
             ],
             [
              0.4444444444444444,
              "#bd3786"
             ],
             [
              0.5555555555555556,
              "#d8576b"
             ],
             [
              0.6666666666666666,
              "#ed7953"
             ],
             [
              0.7777777777777778,
              "#fb9f3a"
             ],
             [
              0.8888888888888888,
              "#fdca26"
             ],
             [
              1,
              "#f0f921"
             ]
            ],
            "type": "histogram2dcontour"
           }
          ],
          "mesh3d": [
           {
            "colorbar": {
             "outlinewidth": 0,
             "ticks": ""
            },
            "type": "mesh3d"
           }
          ],
          "parcoords": [
           {
            "line": {
             "colorbar": {
              "outlinewidth": 0,
              "ticks": ""
             }
            },
            "type": "parcoords"
           }
          ],
          "pie": [
           {
            "automargin": true,
            "type": "pie"
           }
          ],
          "scatter": [
           {
            "marker": {
             "line": {
              "color": "#283442"
             }
            },
            "type": "scatter"
           }
          ],
          "scatter3d": [
           {
            "line": {
             "colorbar": {
              "outlinewidth": 0,
              "ticks": ""
             }
            },
            "marker": {
             "colorbar": {
              "outlinewidth": 0,
              "ticks": ""
             }
            },
            "type": "scatter3d"
           }
          ],
          "scattercarpet": [
           {
            "marker": {
             "colorbar": {
              "outlinewidth": 0,
              "ticks": ""
             }
            },
            "type": "scattercarpet"
           }
          ],
          "scattergeo": [
           {
            "marker": {
             "colorbar": {
              "outlinewidth": 0,
              "ticks": ""
             }
            },
            "type": "scattergeo"
           }
          ],
          "scattergl": [
           {
            "marker": {
             "line": {
              "color": "#283442"
             }
            },
            "type": "scattergl"
           }
          ],
          "scattermapbox": [
           {
            "marker": {
             "colorbar": {
              "outlinewidth": 0,
              "ticks": ""
             }
            },
            "type": "scattermapbox"
           }
          ],
          "scatterpolar": [
           {
            "marker": {
             "colorbar": {
              "outlinewidth": 0,
              "ticks": ""
             }
            },
            "type": "scatterpolar"
           }
          ],
          "scatterpolargl": [
           {
            "marker": {
             "colorbar": {
              "outlinewidth": 0,
              "ticks": ""
             }
            },
            "type": "scatterpolargl"
           }
          ],
          "scatterternary": [
           {
            "marker": {
             "colorbar": {
              "outlinewidth": 0,
              "ticks": ""
             }
            },
            "type": "scatterternary"
           }
          ],
          "surface": [
           {
            "colorbar": {
             "outlinewidth": 0,
             "ticks": ""
            },
            "colorscale": [
             [
              0,
              "#0d0887"
             ],
             [
              0.1111111111111111,
              "#46039f"
             ],
             [
              0.2222222222222222,
              "#7201a8"
             ],
             [
              0.3333333333333333,
              "#9c179e"
             ],
             [
              0.4444444444444444,
              "#bd3786"
             ],
             [
              0.5555555555555556,
              "#d8576b"
             ],
             [
              0.6666666666666666,
              "#ed7953"
             ],
             [
              0.7777777777777778,
              "#fb9f3a"
             ],
             [
              0.8888888888888888,
              "#fdca26"
             ],
             [
              1,
              "#f0f921"
             ]
            ],
            "type": "surface"
           }
          ],
          "table": [
           {
            "cells": {
             "fill": {
              "color": "#506784"
             },
             "line": {
              "color": "rgb(17,17,17)"
             }
            },
            "header": {
             "fill": {
              "color": "#2a3f5f"
             },
             "line": {
              "color": "rgb(17,17,17)"
             }
            },
            "type": "table"
           }
          ]
         },
         "layout": {
          "annotationdefaults": {
           "arrowcolor": "#f2f5fa",
           "arrowhead": 0,
           "arrowwidth": 1
          },
          "autotypenumbers": "strict",
          "coloraxis": {
           "colorbar": {
            "outlinewidth": 0,
            "ticks": ""
           }
          },
          "colorscale": {
           "diverging": [
            [
             0,
             "#8e0152"
            ],
            [
             0.1,
             "#c51b7d"
            ],
            [
             0.2,
             "#de77ae"
            ],
            [
             0.3,
             "#f1b6da"
            ],
            [
             0.4,
             "#fde0ef"
            ],
            [
             0.5,
             "#f7f7f7"
            ],
            [
             0.6,
             "#e6f5d0"
            ],
            [
             0.7,
             "#b8e186"
            ],
            [
             0.8,
             "#7fbc41"
            ],
            [
             0.9,
             "#4d9221"
            ],
            [
             1,
             "#276419"
            ]
           ],
           "sequential": [
            [
             0,
             "#0d0887"
            ],
            [
             0.1111111111111111,
             "#46039f"
            ],
            [
             0.2222222222222222,
             "#7201a8"
            ],
            [
             0.3333333333333333,
             "#9c179e"
            ],
            [
             0.4444444444444444,
             "#bd3786"
            ],
            [
             0.5555555555555556,
             "#d8576b"
            ],
            [
             0.6666666666666666,
             "#ed7953"
            ],
            [
             0.7777777777777778,
             "#fb9f3a"
            ],
            [
             0.8888888888888888,
             "#fdca26"
            ],
            [
             1,
             "#f0f921"
            ]
           ],
           "sequentialminus": [
            [
             0,
             "#0d0887"
            ],
            [
             0.1111111111111111,
             "#46039f"
            ],
            [
             0.2222222222222222,
             "#7201a8"
            ],
            [
             0.3333333333333333,
             "#9c179e"
            ],
            [
             0.4444444444444444,
             "#bd3786"
            ],
            [
             0.5555555555555556,
             "#d8576b"
            ],
            [
             0.6666666666666666,
             "#ed7953"
            ],
            [
             0.7777777777777778,
             "#fb9f3a"
            ],
            [
             0.8888888888888888,
             "#fdca26"
            ],
            [
             1,
             "#f0f921"
            ]
           ]
          },
          "colorway": [
           "#636efa",
           "#EF553B",
           "#00cc96",
           "#ab63fa",
           "#FFA15A",
           "#19d3f3",
           "#FF6692",
           "#B6E880",
           "#FF97FF",
           "#FECB52"
          ],
          "font": {
           "color": "#f2f5fa"
          },
          "geo": {
           "bgcolor": "rgb(17,17,17)",
           "lakecolor": "rgb(17,17,17)",
           "landcolor": "rgb(17,17,17)",
           "showlakes": true,
           "showland": true,
           "subunitcolor": "#506784"
          },
          "hoverlabel": {
           "align": "left"
          },
          "hovermode": "closest",
          "mapbox": {
           "style": "dark"
          },
          "paper_bgcolor": "rgb(17,17,17)",
          "plot_bgcolor": "rgb(17,17,17)",
          "polar": {
           "angularaxis": {
            "gridcolor": "#506784",
            "linecolor": "#506784",
            "ticks": ""
           },
           "bgcolor": "rgb(17,17,17)",
           "radialaxis": {
            "gridcolor": "#506784",
            "linecolor": "#506784",
            "ticks": ""
           }
          },
          "scene": {
           "xaxis": {
            "backgroundcolor": "rgb(17,17,17)",
            "gridcolor": "#506784",
            "gridwidth": 2,
            "linecolor": "#506784",
            "showbackground": true,
            "ticks": "",
            "zerolinecolor": "#C8D4E3"
           },
           "yaxis": {
            "backgroundcolor": "rgb(17,17,17)",
            "gridcolor": "#506784",
            "gridwidth": 2,
            "linecolor": "#506784",
            "showbackground": true,
            "ticks": "",
            "zerolinecolor": "#C8D4E3"
           },
           "zaxis": {
            "backgroundcolor": "rgb(17,17,17)",
            "gridcolor": "#506784",
            "gridwidth": 2,
            "linecolor": "#506784",
            "showbackground": true,
            "ticks": "",
            "zerolinecolor": "#C8D4E3"
           }
          },
          "shapedefaults": {
           "line": {
            "color": "#f2f5fa"
           }
          },
          "sliderdefaults": {
           "bgcolor": "#C8D4E3",
           "bordercolor": "rgb(17,17,17)",
           "borderwidth": 1,
           "tickwidth": 0
          },
          "ternary": {
           "aaxis": {
            "gridcolor": "#506784",
            "linecolor": "#506784",
            "ticks": ""
           },
           "baxis": {
            "gridcolor": "#506784",
            "linecolor": "#506784",
            "ticks": ""
           },
           "bgcolor": "rgb(17,17,17)",
           "caxis": {
            "gridcolor": "#506784",
            "linecolor": "#506784",
            "ticks": ""
           }
          },
          "title": {
           "x": 0.05
          },
          "updatemenudefaults": {
           "bgcolor": "#506784",
           "borderwidth": 0
          },
          "xaxis": {
           "automargin": true,
           "gridcolor": "#283442",
           "linecolor": "#506784",
           "ticks": "",
           "title": {
            "standoff": 15
           },
           "zerolinecolor": "#283442",
           "zerolinewidth": 2
          },
          "yaxis": {
           "automargin": true,
           "gridcolor": "#283442",
           "linecolor": "#506784",
           "ticks": "",
           "title": {
            "standoff": 15
           },
           "zerolinecolor": "#283442",
           "zerolinewidth": 2
          }
         }
        },
        "title": {
         "text": "Current Positions and Data"
        }
       }
      },
      "text/html": [
       "<div>                            <div id=\"7f512743-a20f-46a4-94b5-4775110bea26\" class=\"plotly-graph-div\" style=\"height:525px; width:100%;\"></div>            <script type=\"text/javascript\">                require([\"plotly\"], function(Plotly) {                    window.PLOTLYENV=window.PLOTLYENV || {};                                    if (document.getElementById(\"7f512743-a20f-46a4-94b5-4775110bea26\")) {                    Plotly.newPlot(                        \"7f512743-a20f-46a4-94b5-4775110bea26\",                        [{\"hovertemplate\":\"<b>%{hovertext}</b><br><br>x=%{x}<br>y=%{y}<br>z=%{z}<br>size=%{marker.size}<br>text=%{text}<br>color=%{marker.color}<extra></extra>\",\"hovertext\":[\"Sun\",\"Mercury\",\"Venus\",\"Earth\",\"Moon\",\"Mars\",\"Jupiter\",\"Saturn\",\"Uranus\",\"Neptune\",\"Pluto\"],\"legendgroup\":\"\",\"marker\":{\"color\":[0.0,38926.76067653318,-29398.89975611381,-29380.35979759798,-28494.58907946676,17607.68703836943,4997.1213024062345,6429.9170825392275,-4683.152746767849,719.909620509454,5005.706635845364],\"coloraxis\":\"coloraxis\",\"size\":[135000,4897000,12104000,12756000,3475000,6792000,142984000,120356000,51118000,49528000,2370000],\"sizemode\":\"area\",\"sizeref\":357460.0,\"symbol\":\"circle\"},\"mode\":\"markers+text\",\"name\":\"\",\"scene\":\"scene\",\"showlegend\":false,\"text\":[\"Sun\",\"Mercury\",\"Venus\",\"Earth\",\"Moon\",\"Mars\",\"Jupiter\",\"Saturn\",\"Uranus\",\"Neptune\",\"Pluto\"],\"type\":\"scatter3d\",\"x\":[112741681.15740223,51546821180.40076,29104495611.563858,39224141763.20387,39331203760.28272,60017550015.11084,727468518622.9342,1207358487984.357,2009011526790.2964,4449754512840.088,2408152812210.4473],\"y\":[-27096142.053398542,-19405885705.063828,-103219531828.32005,142268712916.85257,142654190972.79877,223427243488.63467,129078940931.57254,-839739663403.4917,2149443571721.549,-451326143266.1837,-4587197660157.146],\"z\":[-2407524.371479256,-6349809410.59513,-3055876969.2228785,15130655.294696312,34138082.75905574,3224244558.885577,-16808059482.076487,-33459960538.966373,-18053717886.532787,-93233971325.78545,-206151970551.7168]}],                        {\"coloraxis\":{\"colorbar\":{\"title\":{\"text\":\"color\"}},\"colorscale\":[[0.0,\"#0d0887\"],[0.1111111111111111,\"#46039f\"],[0.2222222222222222,\"#7201a8\"],[0.3333333333333333,\"#9c179e\"],[0.4444444444444444,\"#bd3786\"],[0.5555555555555556,\"#d8576b\"],[0.6666666666666666,\"#ed7953\"],[0.7777777777777778,\"#fb9f3a\"],[0.8888888888888888,\"#fdca26\"],[1.0,\"#f0f921\"]],\"showscale\":false},\"hovermode\":\"x\",\"legend\":{\"itemsizing\":\"constant\",\"tracegroupgap\":0},\"scene\":{\"camera\":{\"projection\":{\"type\":\"orthographic\"}},\"domain\":{\"x\":[0.0,1.0],\"y\":[0.0,1.0]},\"xaxis\":{\"showgrid\":false,\"showticklabels\":false,\"title\":{\"text\":\"x\"},\"zeroline\":false},\"yaxis\":{\"showgrid\":false,\"showticklabels\":false,\"title\":{\"text\":\"y\"},\"zeroline\":false},\"zaxis\":{\"showgrid\":false,\"showticklabels\":false,\"title\":{\"text\":\"z\"},\"zeroline\":false}},\"template\":{\"data\":{\"bar\":[{\"error_x\":{\"color\":\"#f2f5fa\"},\"error_y\":{\"color\":\"#f2f5fa\"},\"marker\":{\"line\":{\"color\":\"rgb(17,17,17)\",\"width\":0.5},\"pattern\":{\"fillmode\":\"overlay\",\"size\":10,\"solidity\":0.2}},\"type\":\"bar\"}],\"barpolar\":[{\"marker\":{\"line\":{\"color\":\"rgb(17,17,17)\",\"width\":0.5},\"pattern\":{\"fillmode\":\"overlay\",\"size\":10,\"solidity\":0.2}},\"type\":\"barpolar\"}],\"carpet\":[{\"aaxis\":{\"endlinecolor\":\"#A2B1C6\",\"gridcolor\":\"#506784\",\"linecolor\":\"#506784\",\"minorgridcolor\":\"#506784\",\"startlinecolor\":\"#A2B1C6\"},\"baxis\":{\"endlinecolor\":\"#A2B1C6\",\"gridcolor\":\"#506784\",\"linecolor\":\"#506784\",\"minorgridcolor\":\"#506784\",\"startlinecolor\":\"#A2B1C6\"},\"type\":\"carpet\"}],\"choropleth\":[{\"colorbar\":{\"outlinewidth\":0,\"ticks\":\"\"},\"type\":\"choropleth\"}],\"contour\":[{\"colorbar\":{\"outlinewidth\":0,\"ticks\":\"\"},\"colorscale\":[[0.0,\"#0d0887\"],[0.1111111111111111,\"#46039f\"],[0.2222222222222222,\"#7201a8\"],[0.3333333333333333,\"#9c179e\"],[0.4444444444444444,\"#bd3786\"],[0.5555555555555556,\"#d8576b\"],[0.6666666666666666,\"#ed7953\"],[0.7777777777777778,\"#fb9f3a\"],[0.8888888888888888,\"#fdca26\"],[1.0,\"#f0f921\"]],\"type\":\"contour\"}],\"contourcarpet\":[{\"colorbar\":{\"outlinewidth\":0,\"ticks\":\"\"},\"type\":\"contourcarpet\"}],\"heatmap\":[{\"colorbar\":{\"outlinewidth\":0,\"ticks\":\"\"},\"colorscale\":[[0.0,\"#0d0887\"],[0.1111111111111111,\"#46039f\"],[0.2222222222222222,\"#7201a8\"],[0.3333333333333333,\"#9c179e\"],[0.4444444444444444,\"#bd3786\"],[0.5555555555555556,\"#d8576b\"],[0.6666666666666666,\"#ed7953\"],[0.7777777777777778,\"#fb9f3a\"],[0.8888888888888888,\"#fdca26\"],[1.0,\"#f0f921\"]],\"type\":\"heatmap\"}],\"heatmapgl\":[{\"colorbar\":{\"outlinewidth\":0,\"ticks\":\"\"},\"colorscale\":[[0.0,\"#0d0887\"],[0.1111111111111111,\"#46039f\"],[0.2222222222222222,\"#7201a8\"],[0.3333333333333333,\"#9c179e\"],[0.4444444444444444,\"#bd3786\"],[0.5555555555555556,\"#d8576b\"],[0.6666666666666666,\"#ed7953\"],[0.7777777777777778,\"#fb9f3a\"],[0.8888888888888888,\"#fdca26\"],[1.0,\"#f0f921\"]],\"type\":\"heatmapgl\"}],\"histogram\":[{\"marker\":{\"pattern\":{\"fillmode\":\"overlay\",\"size\":10,\"solidity\":0.2}},\"type\":\"histogram\"}],\"histogram2d\":[{\"colorbar\":{\"outlinewidth\":0,\"ticks\":\"\"},\"colorscale\":[[0.0,\"#0d0887\"],[0.1111111111111111,\"#46039f\"],[0.2222222222222222,\"#7201a8\"],[0.3333333333333333,\"#9c179e\"],[0.4444444444444444,\"#bd3786\"],[0.5555555555555556,\"#d8576b\"],[0.6666666666666666,\"#ed7953\"],[0.7777777777777778,\"#fb9f3a\"],[0.8888888888888888,\"#fdca26\"],[1.0,\"#f0f921\"]],\"type\":\"histogram2d\"}],\"histogram2dcontour\":[{\"colorbar\":{\"outlinewidth\":0,\"ticks\":\"\"},\"colorscale\":[[0.0,\"#0d0887\"],[0.1111111111111111,\"#46039f\"],[0.2222222222222222,\"#7201a8\"],[0.3333333333333333,\"#9c179e\"],[0.4444444444444444,\"#bd3786\"],[0.5555555555555556,\"#d8576b\"],[0.6666666666666666,\"#ed7953\"],[0.7777777777777778,\"#fb9f3a\"],[0.8888888888888888,\"#fdca26\"],[1.0,\"#f0f921\"]],\"type\":\"histogram2dcontour\"}],\"mesh3d\":[{\"colorbar\":{\"outlinewidth\":0,\"ticks\":\"\"},\"type\":\"mesh3d\"}],\"parcoords\":[{\"line\":{\"colorbar\":{\"outlinewidth\":0,\"ticks\":\"\"}},\"type\":\"parcoords\"}],\"pie\":[{\"automargin\":true,\"type\":\"pie\"}],\"scatter\":[{\"marker\":{\"line\":{\"color\":\"#283442\"}},\"type\":\"scatter\"}],\"scatter3d\":[{\"line\":{\"colorbar\":{\"outlinewidth\":0,\"ticks\":\"\"}},\"marker\":{\"colorbar\":{\"outlinewidth\":0,\"ticks\":\"\"}},\"type\":\"scatter3d\"}],\"scattercarpet\":[{\"marker\":{\"colorbar\":{\"outlinewidth\":0,\"ticks\":\"\"}},\"type\":\"scattercarpet\"}],\"scattergeo\":[{\"marker\":{\"colorbar\":{\"outlinewidth\":0,\"ticks\":\"\"}},\"type\":\"scattergeo\"}],\"scattergl\":[{\"marker\":{\"line\":{\"color\":\"#283442\"}},\"type\":\"scattergl\"}],\"scattermapbox\":[{\"marker\":{\"colorbar\":{\"outlinewidth\":0,\"ticks\":\"\"}},\"type\":\"scattermapbox\"}],\"scatterpolar\":[{\"marker\":{\"colorbar\":{\"outlinewidth\":0,\"ticks\":\"\"}},\"type\":\"scatterpolar\"}],\"scatterpolargl\":[{\"marker\":{\"colorbar\":{\"outlinewidth\":0,\"ticks\":\"\"}},\"type\":\"scatterpolargl\"}],\"scatterternary\":[{\"marker\":{\"colorbar\":{\"outlinewidth\":0,\"ticks\":\"\"}},\"type\":\"scatterternary\"}],\"surface\":[{\"colorbar\":{\"outlinewidth\":0,\"ticks\":\"\"},\"colorscale\":[[0.0,\"#0d0887\"],[0.1111111111111111,\"#46039f\"],[0.2222222222222222,\"#7201a8\"],[0.3333333333333333,\"#9c179e\"],[0.4444444444444444,\"#bd3786\"],[0.5555555555555556,\"#d8576b\"],[0.6666666666666666,\"#ed7953\"],[0.7777777777777778,\"#fb9f3a\"],[0.8888888888888888,\"#fdca26\"],[1.0,\"#f0f921\"]],\"type\":\"surface\"}],\"table\":[{\"cells\":{\"fill\":{\"color\":\"#506784\"},\"line\":{\"color\":\"rgb(17,17,17)\"}},\"header\":{\"fill\":{\"color\":\"#2a3f5f\"},\"line\":{\"color\":\"rgb(17,17,17)\"}},\"type\":\"table\"}]},\"layout\":{\"annotationdefaults\":{\"arrowcolor\":\"#f2f5fa\",\"arrowhead\":0,\"arrowwidth\":1},\"autotypenumbers\":\"strict\",\"coloraxis\":{\"colorbar\":{\"outlinewidth\":0,\"ticks\":\"\"}},\"colorscale\":{\"diverging\":[[0,\"#8e0152\"],[0.1,\"#c51b7d\"],[0.2,\"#de77ae\"],[0.3,\"#f1b6da\"],[0.4,\"#fde0ef\"],[0.5,\"#f7f7f7\"],[0.6,\"#e6f5d0\"],[0.7,\"#b8e186\"],[0.8,\"#7fbc41\"],[0.9,\"#4d9221\"],[1,\"#276419\"]],\"sequential\":[[0.0,\"#0d0887\"],[0.1111111111111111,\"#46039f\"],[0.2222222222222222,\"#7201a8\"],[0.3333333333333333,\"#9c179e\"],[0.4444444444444444,\"#bd3786\"],[0.5555555555555556,\"#d8576b\"],[0.6666666666666666,\"#ed7953\"],[0.7777777777777778,\"#fb9f3a\"],[0.8888888888888888,\"#fdca26\"],[1.0,\"#f0f921\"]],\"sequentialminus\":[[0.0,\"#0d0887\"],[0.1111111111111111,\"#46039f\"],[0.2222222222222222,\"#7201a8\"],[0.3333333333333333,\"#9c179e\"],[0.4444444444444444,\"#bd3786\"],[0.5555555555555556,\"#d8576b\"],[0.6666666666666666,\"#ed7953\"],[0.7777777777777778,\"#fb9f3a\"],[0.8888888888888888,\"#fdca26\"],[1.0,\"#f0f921\"]]},\"colorway\":[\"#636efa\",\"#EF553B\",\"#00cc96\",\"#ab63fa\",\"#FFA15A\",\"#19d3f3\",\"#FF6692\",\"#B6E880\",\"#FF97FF\",\"#FECB52\"],\"font\":{\"color\":\"#f2f5fa\"},\"geo\":{\"bgcolor\":\"rgb(17,17,17)\",\"lakecolor\":\"rgb(17,17,17)\",\"landcolor\":\"rgb(17,17,17)\",\"showlakes\":true,\"showland\":true,\"subunitcolor\":\"#506784\"},\"hoverlabel\":{\"align\":\"left\"},\"hovermode\":\"closest\",\"mapbox\":{\"style\":\"dark\"},\"paper_bgcolor\":\"rgb(17,17,17)\",\"plot_bgcolor\":\"rgb(17,17,17)\",\"polar\":{\"angularaxis\":{\"gridcolor\":\"#506784\",\"linecolor\":\"#506784\",\"ticks\":\"\"},\"bgcolor\":\"rgb(17,17,17)\",\"radialaxis\":{\"gridcolor\":\"#506784\",\"linecolor\":\"#506784\",\"ticks\":\"\"}},\"scene\":{\"xaxis\":{\"backgroundcolor\":\"rgb(17,17,17)\",\"gridcolor\":\"#506784\",\"gridwidth\":2,\"linecolor\":\"#506784\",\"showbackground\":true,\"ticks\":\"\",\"zerolinecolor\":\"#C8D4E3\"},\"yaxis\":{\"backgroundcolor\":\"rgb(17,17,17)\",\"gridcolor\":\"#506784\",\"gridwidth\":2,\"linecolor\":\"#506784\",\"showbackground\":true,\"ticks\":\"\",\"zerolinecolor\":\"#C8D4E3\"},\"zaxis\":{\"backgroundcolor\":\"rgb(17,17,17)\",\"gridcolor\":\"#506784\",\"gridwidth\":2,\"linecolor\":\"#506784\",\"showbackground\":true,\"ticks\":\"\",\"zerolinecolor\":\"#C8D4E3\"}},\"shapedefaults\":{\"line\":{\"color\":\"#f2f5fa\"}},\"sliderdefaults\":{\"bgcolor\":\"#C8D4E3\",\"bordercolor\":\"rgb(17,17,17)\",\"borderwidth\":1,\"tickwidth\":0},\"ternary\":{\"aaxis\":{\"gridcolor\":\"#506784\",\"linecolor\":\"#506784\",\"ticks\":\"\"},\"baxis\":{\"gridcolor\":\"#506784\",\"linecolor\":\"#506784\",\"ticks\":\"\"},\"bgcolor\":\"rgb(17,17,17)\",\"caxis\":{\"gridcolor\":\"#506784\",\"linecolor\":\"#506784\",\"ticks\":\"\"}},\"title\":{\"x\":0.05},\"updatemenudefaults\":{\"bgcolor\":\"#506784\",\"borderwidth\":0},\"xaxis\":{\"automargin\":true,\"gridcolor\":\"#283442\",\"linecolor\":\"#506784\",\"ticks\":\"\",\"title\":{\"standoff\":15},\"zerolinecolor\":\"#283442\",\"zerolinewidth\":2},\"yaxis\":{\"automargin\":true,\"gridcolor\":\"#283442\",\"linecolor\":\"#506784\",\"ticks\":\"\",\"title\":{\"standoff\":15},\"zerolinecolor\":\"#283442\",\"zerolinewidth\":2}}},\"title\":{\"text\":\"Current Positions and Data\"}},                        {\"responsive\": true}                    ).then(function(){\n",
       "                            \n",
       "var gd = document.getElementById('7f512743-a20f-46a4-94b5-4775110bea26');\n",
       "var x = new MutationObserver(function (mutations, observer) {{\n",
       "        var display = window.getComputedStyle(gd).display;\n",
       "        if (!display || display === 'none') {{\n",
       "            console.log([gd, 'removed!']);\n",
       "            Plotly.purge(gd);\n",
       "            observer.disconnect();\n",
       "        }}\n",
       "}});\n",
       "\n",
       "// Listen for the removal of the full notebook cells\n",
       "var notebookContainer = gd.closest('#notebook-container');\n",
       "if (notebookContainer) {{\n",
       "    x.observe(notebookContainer, {childList: true});\n",
       "}}\n",
       "\n",
       "// Listen for the clearing of the current output cell\n",
       "var outputEl = gd.closest('.output');\n",
       "if (outputEl) {{\n",
       "    x.observe(outputEl, {childList: true});\n",
       "}}\n",
       "\n",
       "                        })                };                });            </script>        </div>"
      ]
     },
     "metadata": {},
     "output_type": "display_data"
    }
   ],
   "source": [
    "solar_system.interactive(3)"
   ]
  },
  {
   "cell_type": "code",
   "execution_count": 16,
   "id": "150e0d23",
   "metadata": {},
   "outputs": [
    {
     "data": {
      "application/vnd.plotly.v1+json": {
       "config": {
        "plotlyServerURL": "https://plot.ly"
       },
       "data": [
        {
         "hovertemplate": "<b>%{hovertext}</b><br><br>x=%{x}<br>y=%{y}<br>size=%{marker.size}<br>color=%{marker.color}<extra></extra>",
         "hovertext": [
          "Sun",
          "Mercury",
          "Venus",
          "Earth",
          "Moon",
          "Mars",
          "Jupiter",
          "Saturn",
          "Uranus",
          "Neptune",
          "Pluto"
         ],
         "legendgroup": "",
         "marker": {
          "color": [
           0,
           38926.76067653318,
           -29398.89975611381,
           -29380.35979759798,
           -28494.58907946676,
           17607.68703836943,
           4997.1213024062345,
           6429.9170825392275,
           -4683.152746767849,
           719.909620509454,
           5005.706635845364
          ],
          "coloraxis": "coloraxis",
          "size": [
           135000,
           4897000,
           12104000,
           12756000,
           3475000,
           6792000,
           142984000,
           120356000,
           51118000,
           49528000,
           2370000
          ],
          "sizemode": "area",
          "sizeref": 357460,
          "symbol": "circle"
         },
         "mode": "markers",
         "name": "",
         "orientation": "v",
         "showlegend": false,
         "type": "scatter",
         "x": [
          0,
          68746558684.09499,
          107770298096.18921,
          147582310006.47842,
          147350181310.81107,
          234923301051.36072,
          746301427547.3784,
          1483470341533.01,
          2950409287044.779,
          4474745497679.405,
          5147815173907.872
         ],
         "xaxis": "x",
         "y": [
          0,
          0,
          0,
          0,
          0,
          0,
          0,
          0,
          0,
          0,
          0
         ],
         "yaxis": "y"
        }
       ],
       "layout": {
        "coloraxis": {
         "colorbar": {
          "title": {
           "text": "color"
          }
         },
         "colorscale": [
          [
           0,
           "#0d0887"
          ],
          [
           0.1111111111111111,
           "#46039f"
          ],
          [
           0.2222222222222222,
           "#7201a8"
          ],
          [
           0.3333333333333333,
           "#9c179e"
          ],
          [
           0.4444444444444444,
           "#bd3786"
          ],
          [
           0.5555555555555556,
           "#d8576b"
          ],
          [
           0.6666666666666666,
           "#ed7953"
          ],
          [
           0.7777777777777778,
           "#fb9f3a"
          ],
          [
           0.8888888888888888,
           "#fdca26"
          ],
          [
           1,
           "#f0f921"
          ]
         ]
        },
        "legend": {
         "itemsizing": "constant",
         "tracegroupgap": 0
        },
        "template": {
         "data": {
          "bar": [
           {
            "error_x": {
             "color": "#f2f5fa"
            },
            "error_y": {
             "color": "#f2f5fa"
            },
            "marker": {
             "line": {
              "color": "rgb(17,17,17)",
              "width": 0.5
             },
             "pattern": {
              "fillmode": "overlay",
              "size": 10,
              "solidity": 0.2
             }
            },
            "type": "bar"
           }
          ],
          "barpolar": [
           {
            "marker": {
             "line": {
              "color": "rgb(17,17,17)",
              "width": 0.5
             },
             "pattern": {
              "fillmode": "overlay",
              "size": 10,
              "solidity": 0.2
             }
            },
            "type": "barpolar"
           }
          ],
          "carpet": [
           {
            "aaxis": {
             "endlinecolor": "#A2B1C6",
             "gridcolor": "#506784",
             "linecolor": "#506784",
             "minorgridcolor": "#506784",
             "startlinecolor": "#A2B1C6"
            },
            "baxis": {
             "endlinecolor": "#A2B1C6",
             "gridcolor": "#506784",
             "linecolor": "#506784",
             "minorgridcolor": "#506784",
             "startlinecolor": "#A2B1C6"
            },
            "type": "carpet"
           }
          ],
          "choropleth": [
           {
            "colorbar": {
             "outlinewidth": 0,
             "ticks": ""
            },
            "type": "choropleth"
           }
          ],
          "contour": [
           {
            "colorbar": {
             "outlinewidth": 0,
             "ticks": ""
            },
            "colorscale": [
             [
              0,
              "#0d0887"
             ],
             [
              0.1111111111111111,
              "#46039f"
             ],
             [
              0.2222222222222222,
              "#7201a8"
             ],
             [
              0.3333333333333333,
              "#9c179e"
             ],
             [
              0.4444444444444444,
              "#bd3786"
             ],
             [
              0.5555555555555556,
              "#d8576b"
             ],
             [
              0.6666666666666666,
              "#ed7953"
             ],
             [
              0.7777777777777778,
              "#fb9f3a"
             ],
             [
              0.8888888888888888,
              "#fdca26"
             ],
             [
              1,
              "#f0f921"
             ]
            ],
            "type": "contour"
           }
          ],
          "contourcarpet": [
           {
            "colorbar": {
             "outlinewidth": 0,
             "ticks": ""
            },
            "type": "contourcarpet"
           }
          ],
          "heatmap": [
           {
            "colorbar": {
             "outlinewidth": 0,
             "ticks": ""
            },
            "colorscale": [
             [
              0,
              "#0d0887"
             ],
             [
              0.1111111111111111,
              "#46039f"
             ],
             [
              0.2222222222222222,
              "#7201a8"
             ],
             [
              0.3333333333333333,
              "#9c179e"
             ],
             [
              0.4444444444444444,
              "#bd3786"
             ],
             [
              0.5555555555555556,
              "#d8576b"
             ],
             [
              0.6666666666666666,
              "#ed7953"
             ],
             [
              0.7777777777777778,
              "#fb9f3a"
             ],
             [
              0.8888888888888888,
              "#fdca26"
             ],
             [
              1,
              "#f0f921"
             ]
            ],
            "type": "heatmap"
           }
          ],
          "heatmapgl": [
           {
            "colorbar": {
             "outlinewidth": 0,
             "ticks": ""
            },
            "colorscale": [
             [
              0,
              "#0d0887"
             ],
             [
              0.1111111111111111,
              "#46039f"
             ],
             [
              0.2222222222222222,
              "#7201a8"
             ],
             [
              0.3333333333333333,
              "#9c179e"
             ],
             [
              0.4444444444444444,
              "#bd3786"
             ],
             [
              0.5555555555555556,
              "#d8576b"
             ],
             [
              0.6666666666666666,
              "#ed7953"
             ],
             [
              0.7777777777777778,
              "#fb9f3a"
             ],
             [
              0.8888888888888888,
              "#fdca26"
             ],
             [
              1,
              "#f0f921"
             ]
            ],
            "type": "heatmapgl"
           }
          ],
          "histogram": [
           {
            "marker": {
             "pattern": {
              "fillmode": "overlay",
              "size": 10,
              "solidity": 0.2
             }
            },
            "type": "histogram"
           }
          ],
          "histogram2d": [
           {
            "colorbar": {
             "outlinewidth": 0,
             "ticks": ""
            },
            "colorscale": [
             [
              0,
              "#0d0887"
             ],
             [
              0.1111111111111111,
              "#46039f"
             ],
             [
              0.2222222222222222,
              "#7201a8"
             ],
             [
              0.3333333333333333,
              "#9c179e"
             ],
             [
              0.4444444444444444,
              "#bd3786"
             ],
             [
              0.5555555555555556,
              "#d8576b"
             ],
             [
              0.6666666666666666,
              "#ed7953"
             ],
             [
              0.7777777777777778,
              "#fb9f3a"
             ],
             [
              0.8888888888888888,
              "#fdca26"
             ],
             [
              1,
              "#f0f921"
             ]
            ],
            "type": "histogram2d"
           }
          ],
          "histogram2dcontour": [
           {
            "colorbar": {
             "outlinewidth": 0,
             "ticks": ""
            },
            "colorscale": [
             [
              0,
              "#0d0887"
             ],
             [
              0.1111111111111111,
              "#46039f"
             ],
             [
              0.2222222222222222,
              "#7201a8"
             ],
             [
              0.3333333333333333,
              "#9c179e"
             ],
             [
              0.4444444444444444,
              "#bd3786"
             ],
             [
              0.5555555555555556,
              "#d8576b"
             ],
             [
              0.6666666666666666,
              "#ed7953"
             ],
             [
              0.7777777777777778,
              "#fb9f3a"
             ],
             [
              0.8888888888888888,
              "#fdca26"
             ],
             [
              1,
              "#f0f921"
             ]
            ],
            "type": "histogram2dcontour"
           }
          ],
          "mesh3d": [
           {
            "colorbar": {
             "outlinewidth": 0,
             "ticks": ""
            },
            "type": "mesh3d"
           }
          ],
          "parcoords": [
           {
            "line": {
             "colorbar": {
              "outlinewidth": 0,
              "ticks": ""
             }
            },
            "type": "parcoords"
           }
          ],
          "pie": [
           {
            "automargin": true,
            "type": "pie"
           }
          ],
          "scatter": [
           {
            "marker": {
             "line": {
              "color": "#283442"
             }
            },
            "type": "scatter"
           }
          ],
          "scatter3d": [
           {
            "line": {
             "colorbar": {
              "outlinewidth": 0,
              "ticks": ""
             }
            },
            "marker": {
             "colorbar": {
              "outlinewidth": 0,
              "ticks": ""
             }
            },
            "type": "scatter3d"
           }
          ],
          "scattercarpet": [
           {
            "marker": {
             "colorbar": {
              "outlinewidth": 0,
              "ticks": ""
             }
            },
            "type": "scattercarpet"
           }
          ],
          "scattergeo": [
           {
            "marker": {
             "colorbar": {
              "outlinewidth": 0,
              "ticks": ""
             }
            },
            "type": "scattergeo"
           }
          ],
          "scattergl": [
           {
            "marker": {
             "line": {
              "color": "#283442"
             }
            },
            "type": "scattergl"
           }
          ],
          "scattermapbox": [
           {
            "marker": {
             "colorbar": {
              "outlinewidth": 0,
              "ticks": ""
             }
            },
            "type": "scattermapbox"
           }
          ],
          "scatterpolar": [
           {
            "marker": {
             "colorbar": {
              "outlinewidth": 0,
              "ticks": ""
             }
            },
            "type": "scatterpolar"
           }
          ],
          "scatterpolargl": [
           {
            "marker": {
             "colorbar": {
              "outlinewidth": 0,
              "ticks": ""
             }
            },
            "type": "scatterpolargl"
           }
          ],
          "scatterternary": [
           {
            "marker": {
             "colorbar": {
              "outlinewidth": 0,
              "ticks": ""
             }
            },
            "type": "scatterternary"
           }
          ],
          "surface": [
           {
            "colorbar": {
             "outlinewidth": 0,
             "ticks": ""
            },
            "colorscale": [
             [
              0,
              "#0d0887"
             ],
             [
              0.1111111111111111,
              "#46039f"
             ],
             [
              0.2222222222222222,
              "#7201a8"
             ],
             [
              0.3333333333333333,
              "#9c179e"
             ],
             [
              0.4444444444444444,
              "#bd3786"
             ],
             [
              0.5555555555555556,
              "#d8576b"
             ],
             [
              0.6666666666666666,
              "#ed7953"
             ],
             [
              0.7777777777777778,
              "#fb9f3a"
             ],
             [
              0.8888888888888888,
              "#fdca26"
             ],
             [
              1,
              "#f0f921"
             ]
            ],
            "type": "surface"
           }
          ],
          "table": [
           {
            "cells": {
             "fill": {
              "color": "#506784"
             },
             "line": {
              "color": "rgb(17,17,17)"
             }
            },
            "header": {
             "fill": {
              "color": "#2a3f5f"
             },
             "line": {
              "color": "rgb(17,17,17)"
             }
            },
            "type": "table"
           }
          ]
         },
         "layout": {
          "annotationdefaults": {
           "arrowcolor": "#f2f5fa",
           "arrowhead": 0,
           "arrowwidth": 1
          },
          "autotypenumbers": "strict",
          "coloraxis": {
           "colorbar": {
            "outlinewidth": 0,
            "ticks": ""
           }
          },
          "colorscale": {
           "diverging": [
            [
             0,
             "#8e0152"
            ],
            [
             0.1,
             "#c51b7d"
            ],
            [
             0.2,
             "#de77ae"
            ],
            [
             0.3,
             "#f1b6da"
            ],
            [
             0.4,
             "#fde0ef"
            ],
            [
             0.5,
             "#f7f7f7"
            ],
            [
             0.6,
             "#e6f5d0"
            ],
            [
             0.7,
             "#b8e186"
            ],
            [
             0.8,
             "#7fbc41"
            ],
            [
             0.9,
             "#4d9221"
            ],
            [
             1,
             "#276419"
            ]
           ],
           "sequential": [
            [
             0,
             "#0d0887"
            ],
            [
             0.1111111111111111,
             "#46039f"
            ],
            [
             0.2222222222222222,
             "#7201a8"
            ],
            [
             0.3333333333333333,
             "#9c179e"
            ],
            [
             0.4444444444444444,
             "#bd3786"
            ],
            [
             0.5555555555555556,
             "#d8576b"
            ],
            [
             0.6666666666666666,
             "#ed7953"
            ],
            [
             0.7777777777777778,
             "#fb9f3a"
            ],
            [
             0.8888888888888888,
             "#fdca26"
            ],
            [
             1,
             "#f0f921"
            ]
           ],
           "sequentialminus": [
            [
             0,
             "#0d0887"
            ],
            [
             0.1111111111111111,
             "#46039f"
            ],
            [
             0.2222222222222222,
             "#7201a8"
            ],
            [
             0.3333333333333333,
             "#9c179e"
            ],
            [
             0.4444444444444444,
             "#bd3786"
            ],
            [
             0.5555555555555556,
             "#d8576b"
            ],
            [
             0.6666666666666666,
             "#ed7953"
            ],
            [
             0.7777777777777778,
             "#fb9f3a"
            ],
            [
             0.8888888888888888,
             "#fdca26"
            ],
            [
             1,
             "#f0f921"
            ]
           ]
          },
          "colorway": [
           "#636efa",
           "#EF553B",
           "#00cc96",
           "#ab63fa",
           "#FFA15A",
           "#19d3f3",
           "#FF6692",
           "#B6E880",
           "#FF97FF",
           "#FECB52"
          ],
          "font": {
           "color": "#f2f5fa"
          },
          "geo": {
           "bgcolor": "rgb(17,17,17)",
           "lakecolor": "rgb(17,17,17)",
           "landcolor": "rgb(17,17,17)",
           "showlakes": true,
           "showland": true,
           "subunitcolor": "#506784"
          },
          "hoverlabel": {
           "align": "left"
          },
          "hovermode": "closest",
          "mapbox": {
           "style": "dark"
          },
          "paper_bgcolor": "rgb(17,17,17)",
          "plot_bgcolor": "rgb(17,17,17)",
          "polar": {
           "angularaxis": {
            "gridcolor": "#506784",
            "linecolor": "#506784",
            "ticks": ""
           },
           "bgcolor": "rgb(17,17,17)",
           "radialaxis": {
            "gridcolor": "#506784",
            "linecolor": "#506784",
            "ticks": ""
           }
          },
          "scene": {
           "xaxis": {
            "backgroundcolor": "rgb(17,17,17)",
            "gridcolor": "#506784",
            "gridwidth": 2,
            "linecolor": "#506784",
            "showbackground": true,
            "ticks": "",
            "zerolinecolor": "#C8D4E3"
           },
           "yaxis": {
            "backgroundcolor": "rgb(17,17,17)",
            "gridcolor": "#506784",
            "gridwidth": 2,
            "linecolor": "#506784",
            "showbackground": true,
            "ticks": "",
            "zerolinecolor": "#C8D4E3"
           },
           "zaxis": {
            "backgroundcolor": "rgb(17,17,17)",
            "gridcolor": "#506784",
            "gridwidth": 2,
            "linecolor": "#506784",
            "showbackground": true,
            "ticks": "",
            "zerolinecolor": "#C8D4E3"
           }
          },
          "shapedefaults": {
           "line": {
            "color": "#f2f5fa"
           }
          },
          "sliderdefaults": {
           "bgcolor": "#C8D4E3",
           "bordercolor": "rgb(17,17,17)",
           "borderwidth": 1,
           "tickwidth": 0
          },
          "ternary": {
           "aaxis": {
            "gridcolor": "#506784",
            "linecolor": "#506784",
            "ticks": ""
           },
           "baxis": {
            "gridcolor": "#506784",
            "linecolor": "#506784",
            "ticks": ""
           },
           "bgcolor": "rgb(17,17,17)",
           "caxis": {
            "gridcolor": "#506784",
            "linecolor": "#506784",
            "ticks": ""
           }
          },
          "title": {
           "x": 0.05
          },
          "updatemenudefaults": {
           "bgcolor": "#506784",
           "borderwidth": 0
          },
          "xaxis": {
           "automargin": true,
           "gridcolor": "#283442",
           "linecolor": "#506784",
           "ticks": "",
           "title": {
            "standoff": 15
           },
           "zerolinecolor": "#283442",
           "zerolinewidth": 2
          },
          "yaxis": {
           "automargin": true,
           "gridcolor": "#283442",
           "linecolor": "#506784",
           "ticks": "",
           "title": {
            "standoff": 15
           },
           "zerolinecolor": "#283442",
           "zerolinewidth": 2
          }
         }
        },
        "title": {
         "text": "Magnitude of Distance Normal"
        },
        "xaxis": {
         "anchor": "y",
         "domain": [
          0,
          1
         ],
         "title": {
          "text": "x"
         }
        },
        "yaxis": {
         "anchor": "x",
         "domain": [
          0,
          1
         ],
         "title": {
          "text": "y"
         }
        }
       }
      },
      "text/html": [
       "<div>                            <div id=\"30381574-8652-476d-b988-649aaa545d9a\" class=\"plotly-graph-div\" style=\"height:525px; width:100%;\"></div>            <script type=\"text/javascript\">                require([\"plotly\"], function(Plotly) {                    window.PLOTLYENV=window.PLOTLYENV || {};                                    if (document.getElementById(\"30381574-8652-476d-b988-649aaa545d9a\")) {                    Plotly.newPlot(                        \"30381574-8652-476d-b988-649aaa545d9a\",                        [{\"hovertemplate\":\"<b>%{hovertext}</b><br><br>x=%{x}<br>y=%{y}<br>size=%{marker.size}<br>color=%{marker.color}<extra></extra>\",\"hovertext\":[\"Sun\",\"Mercury\",\"Venus\",\"Earth\",\"Moon\",\"Mars\",\"Jupiter\",\"Saturn\",\"Uranus\",\"Neptune\",\"Pluto\"],\"legendgroup\":\"\",\"marker\":{\"color\":[0.0,38926.76067653318,-29398.89975611381,-29380.35979759798,-28494.58907946676,17607.68703836943,4997.1213024062345,6429.9170825392275,-4683.152746767849,719.909620509454,5005.706635845364],\"coloraxis\":\"coloraxis\",\"size\":[135000,4897000,12104000,12756000,3475000,6792000,142984000,120356000,51118000,49528000,2370000],\"sizemode\":\"area\",\"sizeref\":357460.0,\"symbol\":\"circle\"},\"mode\":\"markers\",\"name\":\"\",\"orientation\":\"v\",\"showlegend\":false,\"type\":\"scatter\",\"x\":[0.0,68746558684.09499,107770298096.18921,147582310006.47842,147350181310.81107,234923301051.36072,746301427547.3784,1483470341533.01,2950409287044.779,4474745497679.405,5147815173907.872],\"xaxis\":\"x\",\"y\":[0.0,0.0,0.0,0.0,0.0,0.0,0.0,0.0,0.0,0.0,0.0],\"yaxis\":\"y\"}],                        {\"coloraxis\":{\"colorbar\":{\"title\":{\"text\":\"color\"}},\"colorscale\":[[0.0,\"#0d0887\"],[0.1111111111111111,\"#46039f\"],[0.2222222222222222,\"#7201a8\"],[0.3333333333333333,\"#9c179e\"],[0.4444444444444444,\"#bd3786\"],[0.5555555555555556,\"#d8576b\"],[0.6666666666666666,\"#ed7953\"],[0.7777777777777778,\"#fb9f3a\"],[0.8888888888888888,\"#fdca26\"],[1.0,\"#f0f921\"]]},\"legend\":{\"itemsizing\":\"constant\",\"tracegroupgap\":0},\"template\":{\"data\":{\"bar\":[{\"error_x\":{\"color\":\"#f2f5fa\"},\"error_y\":{\"color\":\"#f2f5fa\"},\"marker\":{\"line\":{\"color\":\"rgb(17,17,17)\",\"width\":0.5},\"pattern\":{\"fillmode\":\"overlay\",\"size\":10,\"solidity\":0.2}},\"type\":\"bar\"}],\"barpolar\":[{\"marker\":{\"line\":{\"color\":\"rgb(17,17,17)\",\"width\":0.5},\"pattern\":{\"fillmode\":\"overlay\",\"size\":10,\"solidity\":0.2}},\"type\":\"barpolar\"}],\"carpet\":[{\"aaxis\":{\"endlinecolor\":\"#A2B1C6\",\"gridcolor\":\"#506784\",\"linecolor\":\"#506784\",\"minorgridcolor\":\"#506784\",\"startlinecolor\":\"#A2B1C6\"},\"baxis\":{\"endlinecolor\":\"#A2B1C6\",\"gridcolor\":\"#506784\",\"linecolor\":\"#506784\",\"minorgridcolor\":\"#506784\",\"startlinecolor\":\"#A2B1C6\"},\"type\":\"carpet\"}],\"choropleth\":[{\"colorbar\":{\"outlinewidth\":0,\"ticks\":\"\"},\"type\":\"choropleth\"}],\"contour\":[{\"colorbar\":{\"outlinewidth\":0,\"ticks\":\"\"},\"colorscale\":[[0.0,\"#0d0887\"],[0.1111111111111111,\"#46039f\"],[0.2222222222222222,\"#7201a8\"],[0.3333333333333333,\"#9c179e\"],[0.4444444444444444,\"#bd3786\"],[0.5555555555555556,\"#d8576b\"],[0.6666666666666666,\"#ed7953\"],[0.7777777777777778,\"#fb9f3a\"],[0.8888888888888888,\"#fdca26\"],[1.0,\"#f0f921\"]],\"type\":\"contour\"}],\"contourcarpet\":[{\"colorbar\":{\"outlinewidth\":0,\"ticks\":\"\"},\"type\":\"contourcarpet\"}],\"heatmap\":[{\"colorbar\":{\"outlinewidth\":0,\"ticks\":\"\"},\"colorscale\":[[0.0,\"#0d0887\"],[0.1111111111111111,\"#46039f\"],[0.2222222222222222,\"#7201a8\"],[0.3333333333333333,\"#9c179e\"],[0.4444444444444444,\"#bd3786\"],[0.5555555555555556,\"#d8576b\"],[0.6666666666666666,\"#ed7953\"],[0.7777777777777778,\"#fb9f3a\"],[0.8888888888888888,\"#fdca26\"],[1.0,\"#f0f921\"]],\"type\":\"heatmap\"}],\"heatmapgl\":[{\"colorbar\":{\"outlinewidth\":0,\"ticks\":\"\"},\"colorscale\":[[0.0,\"#0d0887\"],[0.1111111111111111,\"#46039f\"],[0.2222222222222222,\"#7201a8\"],[0.3333333333333333,\"#9c179e\"],[0.4444444444444444,\"#bd3786\"],[0.5555555555555556,\"#d8576b\"],[0.6666666666666666,\"#ed7953\"],[0.7777777777777778,\"#fb9f3a\"],[0.8888888888888888,\"#fdca26\"],[1.0,\"#f0f921\"]],\"type\":\"heatmapgl\"}],\"histogram\":[{\"marker\":{\"pattern\":{\"fillmode\":\"overlay\",\"size\":10,\"solidity\":0.2}},\"type\":\"histogram\"}],\"histogram2d\":[{\"colorbar\":{\"outlinewidth\":0,\"ticks\":\"\"},\"colorscale\":[[0.0,\"#0d0887\"],[0.1111111111111111,\"#46039f\"],[0.2222222222222222,\"#7201a8\"],[0.3333333333333333,\"#9c179e\"],[0.4444444444444444,\"#bd3786\"],[0.5555555555555556,\"#d8576b\"],[0.6666666666666666,\"#ed7953\"],[0.7777777777777778,\"#fb9f3a\"],[0.8888888888888888,\"#fdca26\"],[1.0,\"#f0f921\"]],\"type\":\"histogram2d\"}],\"histogram2dcontour\":[{\"colorbar\":{\"outlinewidth\":0,\"ticks\":\"\"},\"colorscale\":[[0.0,\"#0d0887\"],[0.1111111111111111,\"#46039f\"],[0.2222222222222222,\"#7201a8\"],[0.3333333333333333,\"#9c179e\"],[0.4444444444444444,\"#bd3786\"],[0.5555555555555556,\"#d8576b\"],[0.6666666666666666,\"#ed7953\"],[0.7777777777777778,\"#fb9f3a\"],[0.8888888888888888,\"#fdca26\"],[1.0,\"#f0f921\"]],\"type\":\"histogram2dcontour\"}],\"mesh3d\":[{\"colorbar\":{\"outlinewidth\":0,\"ticks\":\"\"},\"type\":\"mesh3d\"}],\"parcoords\":[{\"line\":{\"colorbar\":{\"outlinewidth\":0,\"ticks\":\"\"}},\"type\":\"parcoords\"}],\"pie\":[{\"automargin\":true,\"type\":\"pie\"}],\"scatter\":[{\"marker\":{\"line\":{\"color\":\"#283442\"}},\"type\":\"scatter\"}],\"scatter3d\":[{\"line\":{\"colorbar\":{\"outlinewidth\":0,\"ticks\":\"\"}},\"marker\":{\"colorbar\":{\"outlinewidth\":0,\"ticks\":\"\"}},\"type\":\"scatter3d\"}],\"scattercarpet\":[{\"marker\":{\"colorbar\":{\"outlinewidth\":0,\"ticks\":\"\"}},\"type\":\"scattercarpet\"}],\"scattergeo\":[{\"marker\":{\"colorbar\":{\"outlinewidth\":0,\"ticks\":\"\"}},\"type\":\"scattergeo\"}],\"scattergl\":[{\"marker\":{\"line\":{\"color\":\"#283442\"}},\"type\":\"scattergl\"}],\"scattermapbox\":[{\"marker\":{\"colorbar\":{\"outlinewidth\":0,\"ticks\":\"\"}},\"type\":\"scattermapbox\"}],\"scatterpolar\":[{\"marker\":{\"colorbar\":{\"outlinewidth\":0,\"ticks\":\"\"}},\"type\":\"scatterpolar\"}],\"scatterpolargl\":[{\"marker\":{\"colorbar\":{\"outlinewidth\":0,\"ticks\":\"\"}},\"type\":\"scatterpolargl\"}],\"scatterternary\":[{\"marker\":{\"colorbar\":{\"outlinewidth\":0,\"ticks\":\"\"}},\"type\":\"scatterternary\"}],\"surface\":[{\"colorbar\":{\"outlinewidth\":0,\"ticks\":\"\"},\"colorscale\":[[0.0,\"#0d0887\"],[0.1111111111111111,\"#46039f\"],[0.2222222222222222,\"#7201a8\"],[0.3333333333333333,\"#9c179e\"],[0.4444444444444444,\"#bd3786\"],[0.5555555555555556,\"#d8576b\"],[0.6666666666666666,\"#ed7953\"],[0.7777777777777778,\"#fb9f3a\"],[0.8888888888888888,\"#fdca26\"],[1.0,\"#f0f921\"]],\"type\":\"surface\"}],\"table\":[{\"cells\":{\"fill\":{\"color\":\"#506784\"},\"line\":{\"color\":\"rgb(17,17,17)\"}},\"header\":{\"fill\":{\"color\":\"#2a3f5f\"},\"line\":{\"color\":\"rgb(17,17,17)\"}},\"type\":\"table\"}]},\"layout\":{\"annotationdefaults\":{\"arrowcolor\":\"#f2f5fa\",\"arrowhead\":0,\"arrowwidth\":1},\"autotypenumbers\":\"strict\",\"coloraxis\":{\"colorbar\":{\"outlinewidth\":0,\"ticks\":\"\"}},\"colorscale\":{\"diverging\":[[0,\"#8e0152\"],[0.1,\"#c51b7d\"],[0.2,\"#de77ae\"],[0.3,\"#f1b6da\"],[0.4,\"#fde0ef\"],[0.5,\"#f7f7f7\"],[0.6,\"#e6f5d0\"],[0.7,\"#b8e186\"],[0.8,\"#7fbc41\"],[0.9,\"#4d9221\"],[1,\"#276419\"]],\"sequential\":[[0.0,\"#0d0887\"],[0.1111111111111111,\"#46039f\"],[0.2222222222222222,\"#7201a8\"],[0.3333333333333333,\"#9c179e\"],[0.4444444444444444,\"#bd3786\"],[0.5555555555555556,\"#d8576b\"],[0.6666666666666666,\"#ed7953\"],[0.7777777777777778,\"#fb9f3a\"],[0.8888888888888888,\"#fdca26\"],[1.0,\"#f0f921\"]],\"sequentialminus\":[[0.0,\"#0d0887\"],[0.1111111111111111,\"#46039f\"],[0.2222222222222222,\"#7201a8\"],[0.3333333333333333,\"#9c179e\"],[0.4444444444444444,\"#bd3786\"],[0.5555555555555556,\"#d8576b\"],[0.6666666666666666,\"#ed7953\"],[0.7777777777777778,\"#fb9f3a\"],[0.8888888888888888,\"#fdca26\"],[1.0,\"#f0f921\"]]},\"colorway\":[\"#636efa\",\"#EF553B\",\"#00cc96\",\"#ab63fa\",\"#FFA15A\",\"#19d3f3\",\"#FF6692\",\"#B6E880\",\"#FF97FF\",\"#FECB52\"],\"font\":{\"color\":\"#f2f5fa\"},\"geo\":{\"bgcolor\":\"rgb(17,17,17)\",\"lakecolor\":\"rgb(17,17,17)\",\"landcolor\":\"rgb(17,17,17)\",\"showlakes\":true,\"showland\":true,\"subunitcolor\":\"#506784\"},\"hoverlabel\":{\"align\":\"left\"},\"hovermode\":\"closest\",\"mapbox\":{\"style\":\"dark\"},\"paper_bgcolor\":\"rgb(17,17,17)\",\"plot_bgcolor\":\"rgb(17,17,17)\",\"polar\":{\"angularaxis\":{\"gridcolor\":\"#506784\",\"linecolor\":\"#506784\",\"ticks\":\"\"},\"bgcolor\":\"rgb(17,17,17)\",\"radialaxis\":{\"gridcolor\":\"#506784\",\"linecolor\":\"#506784\",\"ticks\":\"\"}},\"scene\":{\"xaxis\":{\"backgroundcolor\":\"rgb(17,17,17)\",\"gridcolor\":\"#506784\",\"gridwidth\":2,\"linecolor\":\"#506784\",\"showbackground\":true,\"ticks\":\"\",\"zerolinecolor\":\"#C8D4E3\"},\"yaxis\":{\"backgroundcolor\":\"rgb(17,17,17)\",\"gridcolor\":\"#506784\",\"gridwidth\":2,\"linecolor\":\"#506784\",\"showbackground\":true,\"ticks\":\"\",\"zerolinecolor\":\"#C8D4E3\"},\"zaxis\":{\"backgroundcolor\":\"rgb(17,17,17)\",\"gridcolor\":\"#506784\",\"gridwidth\":2,\"linecolor\":\"#506784\",\"showbackground\":true,\"ticks\":\"\",\"zerolinecolor\":\"#C8D4E3\"}},\"shapedefaults\":{\"line\":{\"color\":\"#f2f5fa\"}},\"sliderdefaults\":{\"bgcolor\":\"#C8D4E3\",\"bordercolor\":\"rgb(17,17,17)\",\"borderwidth\":1,\"tickwidth\":0},\"ternary\":{\"aaxis\":{\"gridcolor\":\"#506784\",\"linecolor\":\"#506784\",\"ticks\":\"\"},\"baxis\":{\"gridcolor\":\"#506784\",\"linecolor\":\"#506784\",\"ticks\":\"\"},\"bgcolor\":\"rgb(17,17,17)\",\"caxis\":{\"gridcolor\":\"#506784\",\"linecolor\":\"#506784\",\"ticks\":\"\"}},\"title\":{\"x\":0.05},\"updatemenudefaults\":{\"bgcolor\":\"#506784\",\"borderwidth\":0},\"xaxis\":{\"automargin\":true,\"gridcolor\":\"#283442\",\"linecolor\":\"#506784\",\"ticks\":\"\",\"title\":{\"standoff\":15},\"zerolinecolor\":\"#283442\",\"zerolinewidth\":2},\"yaxis\":{\"automargin\":true,\"gridcolor\":\"#283442\",\"linecolor\":\"#506784\",\"ticks\":\"\",\"title\":{\"standoff\":15},\"zerolinecolor\":\"#283442\",\"zerolinewidth\":2}}},\"title\":{\"text\":\"Magnitude of Distance Normal\"},\"xaxis\":{\"anchor\":\"y\",\"domain\":[0.0,1.0],\"title\":{\"text\":\"x\"}},\"yaxis\":{\"anchor\":\"x\",\"domain\":[0.0,1.0],\"title\":{\"text\":\"y\"}}},                        {\"responsive\": true}                    ).then(function(){\n",
       "                            \n",
       "var gd = document.getElementById('30381574-8652-476d-b988-649aaa545d9a');\n",
       "var x = new MutationObserver(function (mutations, observer) {{\n",
       "        var display = window.getComputedStyle(gd).display;\n",
       "        if (!display || display === 'none') {{\n",
       "            console.log([gd, 'removed!']);\n",
       "            Plotly.purge(gd);\n",
       "            observer.disconnect();\n",
       "        }}\n",
       "}});\n",
       "\n",
       "// Listen for the removal of the full notebook cells\n",
       "var notebookContainer = gd.closest('#notebook-container');\n",
       "if (notebookContainer) {{\n",
       "    x.observe(notebookContainer, {childList: true});\n",
       "}}\n",
       "\n",
       "// Listen for the clearing of the current output cell\n",
       "var outputEl = gd.closest('.output');\n",
       "if (outputEl) {{\n",
       "    x.observe(outputEl, {childList: true});\n",
       "}}\n",
       "\n",
       "                        })                };                });            </script>        </div>"
      ]
     },
     "metadata": {},
     "output_type": "display_data"
    },
    {
     "data": {
      "application/vnd.plotly.v1+json": {
       "config": {
        "plotlyServerURL": "https://plot.ly"
       },
       "data": [
        {
         "hovertemplate": "<b>%{hovertext}</b><br><br>x=%{x}<br>y=%{y}<br>size=%{marker.size}<br>color=%{marker.color}<extra></extra>",
         "hovertext": [
          "Sun",
          "Mercury",
          "Venus",
          "Earth",
          "Moon",
          "Mars",
          "Jupiter",
          "Saturn",
          "Uranus",
          "Neptune",
          "Pluto"
         ],
         "legendgroup": "",
         "marker": {
          "color": [
           0,
           38926.76067653318,
           -29398.89975611381,
           -29380.35979759798,
           -28494.58907946676,
           17607.68703836943,
           4997.1213024062345,
           6429.9170825392275,
           -4683.152746767849,
           719.909620509454,
           5005.706635845364
          ],
          "coloraxis": "coloraxis",
          "size": [
           135000,
           4897000,
           12104000,
           12756000,
           3475000,
           6792000,
           142984000,
           120356000,
           51118000,
           49528000,
           2370000
          ],
          "sizemode": "area",
          "sizeref": 357460,
          "symbol": "circle"
         },
         "mode": "markers",
         "name": "",
         "orientation": "v",
         "showlegend": false,
         "type": "scatter",
         "x": [
          0,
          68746558684.09499,
          107770298096.18921,
          147582310006.47842,
          147350181310.81107,
          234923301051.36072,
          746301427547.3784,
          1483470341533.01,
          2950409287044.779,
          4474745497679.405,
          5147815173907.872
         ],
         "xaxis": "x",
         "y": [
          0,
          0,
          0,
          0,
          0,
          0,
          0,
          0,
          0,
          0,
          0
         ],
         "yaxis": "y"
        }
       ],
       "layout": {
        "coloraxis": {
         "colorbar": {
          "title": {
           "text": "color"
          }
         },
         "colorscale": [
          [
           0,
           "#0d0887"
          ],
          [
           0.1111111111111111,
           "#46039f"
          ],
          [
           0.2222222222222222,
           "#7201a8"
          ],
          [
           0.3333333333333333,
           "#9c179e"
          ],
          [
           0.4444444444444444,
           "#bd3786"
          ],
          [
           0.5555555555555556,
           "#d8576b"
          ],
          [
           0.6666666666666666,
           "#ed7953"
          ],
          [
           0.7777777777777778,
           "#fb9f3a"
          ],
          [
           0.8888888888888888,
           "#fdca26"
          ],
          [
           1,
           "#f0f921"
          ]
         ]
        },
        "legend": {
         "itemsizing": "constant",
         "tracegroupgap": 0
        },
        "template": {
         "data": {
          "bar": [
           {
            "error_x": {
             "color": "#f2f5fa"
            },
            "error_y": {
             "color": "#f2f5fa"
            },
            "marker": {
             "line": {
              "color": "rgb(17,17,17)",
              "width": 0.5
             },
             "pattern": {
              "fillmode": "overlay",
              "size": 10,
              "solidity": 0.2
             }
            },
            "type": "bar"
           }
          ],
          "barpolar": [
           {
            "marker": {
             "line": {
              "color": "rgb(17,17,17)",
              "width": 0.5
             },
             "pattern": {
              "fillmode": "overlay",
              "size": 10,
              "solidity": 0.2
             }
            },
            "type": "barpolar"
           }
          ],
          "carpet": [
           {
            "aaxis": {
             "endlinecolor": "#A2B1C6",
             "gridcolor": "#506784",
             "linecolor": "#506784",
             "minorgridcolor": "#506784",
             "startlinecolor": "#A2B1C6"
            },
            "baxis": {
             "endlinecolor": "#A2B1C6",
             "gridcolor": "#506784",
             "linecolor": "#506784",
             "minorgridcolor": "#506784",
             "startlinecolor": "#A2B1C6"
            },
            "type": "carpet"
           }
          ],
          "choropleth": [
           {
            "colorbar": {
             "outlinewidth": 0,
             "ticks": ""
            },
            "type": "choropleth"
           }
          ],
          "contour": [
           {
            "colorbar": {
             "outlinewidth": 0,
             "ticks": ""
            },
            "colorscale": [
             [
              0,
              "#0d0887"
             ],
             [
              0.1111111111111111,
              "#46039f"
             ],
             [
              0.2222222222222222,
              "#7201a8"
             ],
             [
              0.3333333333333333,
              "#9c179e"
             ],
             [
              0.4444444444444444,
              "#bd3786"
             ],
             [
              0.5555555555555556,
              "#d8576b"
             ],
             [
              0.6666666666666666,
              "#ed7953"
             ],
             [
              0.7777777777777778,
              "#fb9f3a"
             ],
             [
              0.8888888888888888,
              "#fdca26"
             ],
             [
              1,
              "#f0f921"
             ]
            ],
            "type": "contour"
           }
          ],
          "contourcarpet": [
           {
            "colorbar": {
             "outlinewidth": 0,
             "ticks": ""
            },
            "type": "contourcarpet"
           }
          ],
          "heatmap": [
           {
            "colorbar": {
             "outlinewidth": 0,
             "ticks": ""
            },
            "colorscale": [
             [
              0,
              "#0d0887"
             ],
             [
              0.1111111111111111,
              "#46039f"
             ],
             [
              0.2222222222222222,
              "#7201a8"
             ],
             [
              0.3333333333333333,
              "#9c179e"
             ],
             [
              0.4444444444444444,
              "#bd3786"
             ],
             [
              0.5555555555555556,
              "#d8576b"
             ],
             [
              0.6666666666666666,
              "#ed7953"
             ],
             [
              0.7777777777777778,
              "#fb9f3a"
             ],
             [
              0.8888888888888888,
              "#fdca26"
             ],
             [
              1,
              "#f0f921"
             ]
            ],
            "type": "heatmap"
           }
          ],
          "heatmapgl": [
           {
            "colorbar": {
             "outlinewidth": 0,
             "ticks": ""
            },
            "colorscale": [
             [
              0,
              "#0d0887"
             ],
             [
              0.1111111111111111,
              "#46039f"
             ],
             [
              0.2222222222222222,
              "#7201a8"
             ],
             [
              0.3333333333333333,
              "#9c179e"
             ],
             [
              0.4444444444444444,
              "#bd3786"
             ],
             [
              0.5555555555555556,
              "#d8576b"
             ],
             [
              0.6666666666666666,
              "#ed7953"
             ],
             [
              0.7777777777777778,
              "#fb9f3a"
             ],
             [
              0.8888888888888888,
              "#fdca26"
             ],
             [
              1,
              "#f0f921"
             ]
            ],
            "type": "heatmapgl"
           }
          ],
          "histogram": [
           {
            "marker": {
             "pattern": {
              "fillmode": "overlay",
              "size": 10,
              "solidity": 0.2
             }
            },
            "type": "histogram"
           }
          ],
          "histogram2d": [
           {
            "colorbar": {
             "outlinewidth": 0,
             "ticks": ""
            },
            "colorscale": [
             [
              0,
              "#0d0887"
             ],
             [
              0.1111111111111111,
              "#46039f"
             ],
             [
              0.2222222222222222,
              "#7201a8"
             ],
             [
              0.3333333333333333,
              "#9c179e"
             ],
             [
              0.4444444444444444,
              "#bd3786"
             ],
             [
              0.5555555555555556,
              "#d8576b"
             ],
             [
              0.6666666666666666,
              "#ed7953"
             ],
             [
              0.7777777777777778,
              "#fb9f3a"
             ],
             [
              0.8888888888888888,
              "#fdca26"
             ],
             [
              1,
              "#f0f921"
             ]
            ],
            "type": "histogram2d"
           }
          ],
          "histogram2dcontour": [
           {
            "colorbar": {
             "outlinewidth": 0,
             "ticks": ""
            },
            "colorscale": [
             [
              0,
              "#0d0887"
             ],
             [
              0.1111111111111111,
              "#46039f"
             ],
             [
              0.2222222222222222,
              "#7201a8"
             ],
             [
              0.3333333333333333,
              "#9c179e"
             ],
             [
              0.4444444444444444,
              "#bd3786"
             ],
             [
              0.5555555555555556,
              "#d8576b"
             ],
             [
              0.6666666666666666,
              "#ed7953"
             ],
             [
              0.7777777777777778,
              "#fb9f3a"
             ],
             [
              0.8888888888888888,
              "#fdca26"
             ],
             [
              1,
              "#f0f921"
             ]
            ],
            "type": "histogram2dcontour"
           }
          ],
          "mesh3d": [
           {
            "colorbar": {
             "outlinewidth": 0,
             "ticks": ""
            },
            "type": "mesh3d"
           }
          ],
          "parcoords": [
           {
            "line": {
             "colorbar": {
              "outlinewidth": 0,
              "ticks": ""
             }
            },
            "type": "parcoords"
           }
          ],
          "pie": [
           {
            "automargin": true,
            "type": "pie"
           }
          ],
          "scatter": [
           {
            "marker": {
             "line": {
              "color": "#283442"
             }
            },
            "type": "scatter"
           }
          ],
          "scatter3d": [
           {
            "line": {
             "colorbar": {
              "outlinewidth": 0,
              "ticks": ""
             }
            },
            "marker": {
             "colorbar": {
              "outlinewidth": 0,
              "ticks": ""
             }
            },
            "type": "scatter3d"
           }
          ],
          "scattercarpet": [
           {
            "marker": {
             "colorbar": {
              "outlinewidth": 0,
              "ticks": ""
             }
            },
            "type": "scattercarpet"
           }
          ],
          "scattergeo": [
           {
            "marker": {
             "colorbar": {
              "outlinewidth": 0,
              "ticks": ""
             }
            },
            "type": "scattergeo"
           }
          ],
          "scattergl": [
           {
            "marker": {
             "line": {
              "color": "#283442"
             }
            },
            "type": "scattergl"
           }
          ],
          "scattermapbox": [
           {
            "marker": {
             "colorbar": {
              "outlinewidth": 0,
              "ticks": ""
             }
            },
            "type": "scattermapbox"
           }
          ],
          "scatterpolar": [
           {
            "marker": {
             "colorbar": {
              "outlinewidth": 0,
              "ticks": ""
             }
            },
            "type": "scatterpolar"
           }
          ],
          "scatterpolargl": [
           {
            "marker": {
             "colorbar": {
              "outlinewidth": 0,
              "ticks": ""
             }
            },
            "type": "scatterpolargl"
           }
          ],
          "scatterternary": [
           {
            "marker": {
             "colorbar": {
              "outlinewidth": 0,
              "ticks": ""
             }
            },
            "type": "scatterternary"
           }
          ],
          "surface": [
           {
            "colorbar": {
             "outlinewidth": 0,
             "ticks": ""
            },
            "colorscale": [
             [
              0,
              "#0d0887"
             ],
             [
              0.1111111111111111,
              "#46039f"
             ],
             [
              0.2222222222222222,
              "#7201a8"
             ],
             [
              0.3333333333333333,
              "#9c179e"
             ],
             [
              0.4444444444444444,
              "#bd3786"
             ],
             [
              0.5555555555555556,
              "#d8576b"
             ],
             [
              0.6666666666666666,
              "#ed7953"
             ],
             [
              0.7777777777777778,
              "#fb9f3a"
             ],
             [
              0.8888888888888888,
              "#fdca26"
             ],
             [
              1,
              "#f0f921"
             ]
            ],
            "type": "surface"
           }
          ],
          "table": [
           {
            "cells": {
             "fill": {
              "color": "#506784"
             },
             "line": {
              "color": "rgb(17,17,17)"
             }
            },
            "header": {
             "fill": {
              "color": "#2a3f5f"
             },
             "line": {
              "color": "rgb(17,17,17)"
             }
            },
            "type": "table"
           }
          ]
         },
         "layout": {
          "annotationdefaults": {
           "arrowcolor": "#f2f5fa",
           "arrowhead": 0,
           "arrowwidth": 1
          },
          "autotypenumbers": "strict",
          "coloraxis": {
           "colorbar": {
            "outlinewidth": 0,
            "ticks": ""
           }
          },
          "colorscale": {
           "diverging": [
            [
             0,
             "#8e0152"
            ],
            [
             0.1,
             "#c51b7d"
            ],
            [
             0.2,
             "#de77ae"
            ],
            [
             0.3,
             "#f1b6da"
            ],
            [
             0.4,
             "#fde0ef"
            ],
            [
             0.5,
             "#f7f7f7"
            ],
            [
             0.6,
             "#e6f5d0"
            ],
            [
             0.7,
             "#b8e186"
            ],
            [
             0.8,
             "#7fbc41"
            ],
            [
             0.9,
             "#4d9221"
            ],
            [
             1,
             "#276419"
            ]
           ],
           "sequential": [
            [
             0,
             "#0d0887"
            ],
            [
             0.1111111111111111,
             "#46039f"
            ],
            [
             0.2222222222222222,
             "#7201a8"
            ],
            [
             0.3333333333333333,
             "#9c179e"
            ],
            [
             0.4444444444444444,
             "#bd3786"
            ],
            [
             0.5555555555555556,
             "#d8576b"
            ],
            [
             0.6666666666666666,
             "#ed7953"
            ],
            [
             0.7777777777777778,
             "#fb9f3a"
            ],
            [
             0.8888888888888888,
             "#fdca26"
            ],
            [
             1,
             "#f0f921"
            ]
           ],
           "sequentialminus": [
            [
             0,
             "#0d0887"
            ],
            [
             0.1111111111111111,
             "#46039f"
            ],
            [
             0.2222222222222222,
             "#7201a8"
            ],
            [
             0.3333333333333333,
             "#9c179e"
            ],
            [
             0.4444444444444444,
             "#bd3786"
            ],
            [
             0.5555555555555556,
             "#d8576b"
            ],
            [
             0.6666666666666666,
             "#ed7953"
            ],
            [
             0.7777777777777778,
             "#fb9f3a"
            ],
            [
             0.8888888888888888,
             "#fdca26"
            ],
            [
             1,
             "#f0f921"
            ]
           ]
          },
          "colorway": [
           "#636efa",
           "#EF553B",
           "#00cc96",
           "#ab63fa",
           "#FFA15A",
           "#19d3f3",
           "#FF6692",
           "#B6E880",
           "#FF97FF",
           "#FECB52"
          ],
          "font": {
           "color": "#f2f5fa"
          },
          "geo": {
           "bgcolor": "rgb(17,17,17)",
           "lakecolor": "rgb(17,17,17)",
           "landcolor": "rgb(17,17,17)",
           "showlakes": true,
           "showland": true,
           "subunitcolor": "#506784"
          },
          "hoverlabel": {
           "align": "left"
          },
          "hovermode": "closest",
          "mapbox": {
           "style": "dark"
          },
          "paper_bgcolor": "rgb(17,17,17)",
          "plot_bgcolor": "rgb(17,17,17)",
          "polar": {
           "angularaxis": {
            "gridcolor": "#506784",
            "linecolor": "#506784",
            "ticks": ""
           },
           "bgcolor": "rgb(17,17,17)",
           "radialaxis": {
            "gridcolor": "#506784",
            "linecolor": "#506784",
            "ticks": ""
           }
          },
          "scene": {
           "xaxis": {
            "backgroundcolor": "rgb(17,17,17)",
            "gridcolor": "#506784",
            "gridwidth": 2,
            "linecolor": "#506784",
            "showbackground": true,
            "ticks": "",
            "zerolinecolor": "#C8D4E3"
           },
           "yaxis": {
            "backgroundcolor": "rgb(17,17,17)",
            "gridcolor": "#506784",
            "gridwidth": 2,
            "linecolor": "#506784",
            "showbackground": true,
            "ticks": "",
            "zerolinecolor": "#C8D4E3"
           },
           "zaxis": {
            "backgroundcolor": "rgb(17,17,17)",
            "gridcolor": "#506784",
            "gridwidth": 2,
            "linecolor": "#506784",
            "showbackground": true,
            "ticks": "",
            "zerolinecolor": "#C8D4E3"
           }
          },
          "shapedefaults": {
           "line": {
            "color": "#f2f5fa"
           }
          },
          "sliderdefaults": {
           "bgcolor": "#C8D4E3",
           "bordercolor": "rgb(17,17,17)",
           "borderwidth": 1,
           "tickwidth": 0
          },
          "ternary": {
           "aaxis": {
            "gridcolor": "#506784",
            "linecolor": "#506784",
            "ticks": ""
           },
           "baxis": {
            "gridcolor": "#506784",
            "linecolor": "#506784",
            "ticks": ""
           },
           "bgcolor": "rgb(17,17,17)",
           "caxis": {
            "gridcolor": "#506784",
            "linecolor": "#506784",
            "ticks": ""
           }
          },
          "title": {
           "x": 0.05
          },
          "updatemenudefaults": {
           "bgcolor": "#506784",
           "borderwidth": 0
          },
          "xaxis": {
           "automargin": true,
           "gridcolor": "#283442",
           "linecolor": "#506784",
           "ticks": "",
           "title": {
            "standoff": 15
           },
           "zerolinecolor": "#283442",
           "zerolinewidth": 2
          },
          "yaxis": {
           "automargin": true,
           "gridcolor": "#283442",
           "linecolor": "#506784",
           "ticks": "",
           "title": {
            "standoff": 15
           },
           "zerolinecolor": "#283442",
           "zerolinewidth": 2
          }
         }
        },
        "title": {
         "text": "Magnitude of Distance Logarithmic"
        },
        "xaxis": {
         "anchor": "y",
         "domain": [
          0,
          1
         ],
         "title": {
          "text": "x"
         },
         "type": "log"
        },
        "yaxis": {
         "anchor": "x",
         "domain": [
          0,
          1
         ],
         "title": {
          "text": "y"
         }
        }
       }
      },
      "text/html": [
       "<div>                            <div id=\"09bfd812-675b-4da0-a697-a8c5adfb3776\" class=\"plotly-graph-div\" style=\"height:525px; width:100%;\"></div>            <script type=\"text/javascript\">                require([\"plotly\"], function(Plotly) {                    window.PLOTLYENV=window.PLOTLYENV || {};                                    if (document.getElementById(\"09bfd812-675b-4da0-a697-a8c5adfb3776\")) {                    Plotly.newPlot(                        \"09bfd812-675b-4da0-a697-a8c5adfb3776\",                        [{\"hovertemplate\":\"<b>%{hovertext}</b><br><br>x=%{x}<br>y=%{y}<br>size=%{marker.size}<br>color=%{marker.color}<extra></extra>\",\"hovertext\":[\"Sun\",\"Mercury\",\"Venus\",\"Earth\",\"Moon\",\"Mars\",\"Jupiter\",\"Saturn\",\"Uranus\",\"Neptune\",\"Pluto\"],\"legendgroup\":\"\",\"marker\":{\"color\":[0.0,38926.76067653318,-29398.89975611381,-29380.35979759798,-28494.58907946676,17607.68703836943,4997.1213024062345,6429.9170825392275,-4683.152746767849,719.909620509454,5005.706635845364],\"coloraxis\":\"coloraxis\",\"size\":[135000,4897000,12104000,12756000,3475000,6792000,142984000,120356000,51118000,49528000,2370000],\"sizemode\":\"area\",\"sizeref\":357460.0,\"symbol\":\"circle\"},\"mode\":\"markers\",\"name\":\"\",\"orientation\":\"v\",\"showlegend\":false,\"type\":\"scatter\",\"x\":[0.0,68746558684.09499,107770298096.18921,147582310006.47842,147350181310.81107,234923301051.36072,746301427547.3784,1483470341533.01,2950409287044.779,4474745497679.405,5147815173907.872],\"xaxis\":\"x\",\"y\":[0.0,0.0,0.0,0.0,0.0,0.0,0.0,0.0,0.0,0.0,0.0],\"yaxis\":\"y\"}],                        {\"coloraxis\":{\"colorbar\":{\"title\":{\"text\":\"color\"}},\"colorscale\":[[0.0,\"#0d0887\"],[0.1111111111111111,\"#46039f\"],[0.2222222222222222,\"#7201a8\"],[0.3333333333333333,\"#9c179e\"],[0.4444444444444444,\"#bd3786\"],[0.5555555555555556,\"#d8576b\"],[0.6666666666666666,\"#ed7953\"],[0.7777777777777778,\"#fb9f3a\"],[0.8888888888888888,\"#fdca26\"],[1.0,\"#f0f921\"]]},\"legend\":{\"itemsizing\":\"constant\",\"tracegroupgap\":0},\"template\":{\"data\":{\"bar\":[{\"error_x\":{\"color\":\"#f2f5fa\"},\"error_y\":{\"color\":\"#f2f5fa\"},\"marker\":{\"line\":{\"color\":\"rgb(17,17,17)\",\"width\":0.5},\"pattern\":{\"fillmode\":\"overlay\",\"size\":10,\"solidity\":0.2}},\"type\":\"bar\"}],\"barpolar\":[{\"marker\":{\"line\":{\"color\":\"rgb(17,17,17)\",\"width\":0.5},\"pattern\":{\"fillmode\":\"overlay\",\"size\":10,\"solidity\":0.2}},\"type\":\"barpolar\"}],\"carpet\":[{\"aaxis\":{\"endlinecolor\":\"#A2B1C6\",\"gridcolor\":\"#506784\",\"linecolor\":\"#506784\",\"minorgridcolor\":\"#506784\",\"startlinecolor\":\"#A2B1C6\"},\"baxis\":{\"endlinecolor\":\"#A2B1C6\",\"gridcolor\":\"#506784\",\"linecolor\":\"#506784\",\"minorgridcolor\":\"#506784\",\"startlinecolor\":\"#A2B1C6\"},\"type\":\"carpet\"}],\"choropleth\":[{\"colorbar\":{\"outlinewidth\":0,\"ticks\":\"\"},\"type\":\"choropleth\"}],\"contour\":[{\"colorbar\":{\"outlinewidth\":0,\"ticks\":\"\"},\"colorscale\":[[0.0,\"#0d0887\"],[0.1111111111111111,\"#46039f\"],[0.2222222222222222,\"#7201a8\"],[0.3333333333333333,\"#9c179e\"],[0.4444444444444444,\"#bd3786\"],[0.5555555555555556,\"#d8576b\"],[0.6666666666666666,\"#ed7953\"],[0.7777777777777778,\"#fb9f3a\"],[0.8888888888888888,\"#fdca26\"],[1.0,\"#f0f921\"]],\"type\":\"contour\"}],\"contourcarpet\":[{\"colorbar\":{\"outlinewidth\":0,\"ticks\":\"\"},\"type\":\"contourcarpet\"}],\"heatmap\":[{\"colorbar\":{\"outlinewidth\":0,\"ticks\":\"\"},\"colorscale\":[[0.0,\"#0d0887\"],[0.1111111111111111,\"#46039f\"],[0.2222222222222222,\"#7201a8\"],[0.3333333333333333,\"#9c179e\"],[0.4444444444444444,\"#bd3786\"],[0.5555555555555556,\"#d8576b\"],[0.6666666666666666,\"#ed7953\"],[0.7777777777777778,\"#fb9f3a\"],[0.8888888888888888,\"#fdca26\"],[1.0,\"#f0f921\"]],\"type\":\"heatmap\"}],\"heatmapgl\":[{\"colorbar\":{\"outlinewidth\":0,\"ticks\":\"\"},\"colorscale\":[[0.0,\"#0d0887\"],[0.1111111111111111,\"#46039f\"],[0.2222222222222222,\"#7201a8\"],[0.3333333333333333,\"#9c179e\"],[0.4444444444444444,\"#bd3786\"],[0.5555555555555556,\"#d8576b\"],[0.6666666666666666,\"#ed7953\"],[0.7777777777777778,\"#fb9f3a\"],[0.8888888888888888,\"#fdca26\"],[1.0,\"#f0f921\"]],\"type\":\"heatmapgl\"}],\"histogram\":[{\"marker\":{\"pattern\":{\"fillmode\":\"overlay\",\"size\":10,\"solidity\":0.2}},\"type\":\"histogram\"}],\"histogram2d\":[{\"colorbar\":{\"outlinewidth\":0,\"ticks\":\"\"},\"colorscale\":[[0.0,\"#0d0887\"],[0.1111111111111111,\"#46039f\"],[0.2222222222222222,\"#7201a8\"],[0.3333333333333333,\"#9c179e\"],[0.4444444444444444,\"#bd3786\"],[0.5555555555555556,\"#d8576b\"],[0.6666666666666666,\"#ed7953\"],[0.7777777777777778,\"#fb9f3a\"],[0.8888888888888888,\"#fdca26\"],[1.0,\"#f0f921\"]],\"type\":\"histogram2d\"}],\"histogram2dcontour\":[{\"colorbar\":{\"outlinewidth\":0,\"ticks\":\"\"},\"colorscale\":[[0.0,\"#0d0887\"],[0.1111111111111111,\"#46039f\"],[0.2222222222222222,\"#7201a8\"],[0.3333333333333333,\"#9c179e\"],[0.4444444444444444,\"#bd3786\"],[0.5555555555555556,\"#d8576b\"],[0.6666666666666666,\"#ed7953\"],[0.7777777777777778,\"#fb9f3a\"],[0.8888888888888888,\"#fdca26\"],[1.0,\"#f0f921\"]],\"type\":\"histogram2dcontour\"}],\"mesh3d\":[{\"colorbar\":{\"outlinewidth\":0,\"ticks\":\"\"},\"type\":\"mesh3d\"}],\"parcoords\":[{\"line\":{\"colorbar\":{\"outlinewidth\":0,\"ticks\":\"\"}},\"type\":\"parcoords\"}],\"pie\":[{\"automargin\":true,\"type\":\"pie\"}],\"scatter\":[{\"marker\":{\"line\":{\"color\":\"#283442\"}},\"type\":\"scatter\"}],\"scatter3d\":[{\"line\":{\"colorbar\":{\"outlinewidth\":0,\"ticks\":\"\"}},\"marker\":{\"colorbar\":{\"outlinewidth\":0,\"ticks\":\"\"}},\"type\":\"scatter3d\"}],\"scattercarpet\":[{\"marker\":{\"colorbar\":{\"outlinewidth\":0,\"ticks\":\"\"}},\"type\":\"scattercarpet\"}],\"scattergeo\":[{\"marker\":{\"colorbar\":{\"outlinewidth\":0,\"ticks\":\"\"}},\"type\":\"scattergeo\"}],\"scattergl\":[{\"marker\":{\"line\":{\"color\":\"#283442\"}},\"type\":\"scattergl\"}],\"scattermapbox\":[{\"marker\":{\"colorbar\":{\"outlinewidth\":0,\"ticks\":\"\"}},\"type\":\"scattermapbox\"}],\"scatterpolar\":[{\"marker\":{\"colorbar\":{\"outlinewidth\":0,\"ticks\":\"\"}},\"type\":\"scatterpolar\"}],\"scatterpolargl\":[{\"marker\":{\"colorbar\":{\"outlinewidth\":0,\"ticks\":\"\"}},\"type\":\"scatterpolargl\"}],\"scatterternary\":[{\"marker\":{\"colorbar\":{\"outlinewidth\":0,\"ticks\":\"\"}},\"type\":\"scatterternary\"}],\"surface\":[{\"colorbar\":{\"outlinewidth\":0,\"ticks\":\"\"},\"colorscale\":[[0.0,\"#0d0887\"],[0.1111111111111111,\"#46039f\"],[0.2222222222222222,\"#7201a8\"],[0.3333333333333333,\"#9c179e\"],[0.4444444444444444,\"#bd3786\"],[0.5555555555555556,\"#d8576b\"],[0.6666666666666666,\"#ed7953\"],[0.7777777777777778,\"#fb9f3a\"],[0.8888888888888888,\"#fdca26\"],[1.0,\"#f0f921\"]],\"type\":\"surface\"}],\"table\":[{\"cells\":{\"fill\":{\"color\":\"#506784\"},\"line\":{\"color\":\"rgb(17,17,17)\"}},\"header\":{\"fill\":{\"color\":\"#2a3f5f\"},\"line\":{\"color\":\"rgb(17,17,17)\"}},\"type\":\"table\"}]},\"layout\":{\"annotationdefaults\":{\"arrowcolor\":\"#f2f5fa\",\"arrowhead\":0,\"arrowwidth\":1},\"autotypenumbers\":\"strict\",\"coloraxis\":{\"colorbar\":{\"outlinewidth\":0,\"ticks\":\"\"}},\"colorscale\":{\"diverging\":[[0,\"#8e0152\"],[0.1,\"#c51b7d\"],[0.2,\"#de77ae\"],[0.3,\"#f1b6da\"],[0.4,\"#fde0ef\"],[0.5,\"#f7f7f7\"],[0.6,\"#e6f5d0\"],[0.7,\"#b8e186\"],[0.8,\"#7fbc41\"],[0.9,\"#4d9221\"],[1,\"#276419\"]],\"sequential\":[[0.0,\"#0d0887\"],[0.1111111111111111,\"#46039f\"],[0.2222222222222222,\"#7201a8\"],[0.3333333333333333,\"#9c179e\"],[0.4444444444444444,\"#bd3786\"],[0.5555555555555556,\"#d8576b\"],[0.6666666666666666,\"#ed7953\"],[0.7777777777777778,\"#fb9f3a\"],[0.8888888888888888,\"#fdca26\"],[1.0,\"#f0f921\"]],\"sequentialminus\":[[0.0,\"#0d0887\"],[0.1111111111111111,\"#46039f\"],[0.2222222222222222,\"#7201a8\"],[0.3333333333333333,\"#9c179e\"],[0.4444444444444444,\"#bd3786\"],[0.5555555555555556,\"#d8576b\"],[0.6666666666666666,\"#ed7953\"],[0.7777777777777778,\"#fb9f3a\"],[0.8888888888888888,\"#fdca26\"],[1.0,\"#f0f921\"]]},\"colorway\":[\"#636efa\",\"#EF553B\",\"#00cc96\",\"#ab63fa\",\"#FFA15A\",\"#19d3f3\",\"#FF6692\",\"#B6E880\",\"#FF97FF\",\"#FECB52\"],\"font\":{\"color\":\"#f2f5fa\"},\"geo\":{\"bgcolor\":\"rgb(17,17,17)\",\"lakecolor\":\"rgb(17,17,17)\",\"landcolor\":\"rgb(17,17,17)\",\"showlakes\":true,\"showland\":true,\"subunitcolor\":\"#506784\"},\"hoverlabel\":{\"align\":\"left\"},\"hovermode\":\"closest\",\"mapbox\":{\"style\":\"dark\"},\"paper_bgcolor\":\"rgb(17,17,17)\",\"plot_bgcolor\":\"rgb(17,17,17)\",\"polar\":{\"angularaxis\":{\"gridcolor\":\"#506784\",\"linecolor\":\"#506784\",\"ticks\":\"\"},\"bgcolor\":\"rgb(17,17,17)\",\"radialaxis\":{\"gridcolor\":\"#506784\",\"linecolor\":\"#506784\",\"ticks\":\"\"}},\"scene\":{\"xaxis\":{\"backgroundcolor\":\"rgb(17,17,17)\",\"gridcolor\":\"#506784\",\"gridwidth\":2,\"linecolor\":\"#506784\",\"showbackground\":true,\"ticks\":\"\",\"zerolinecolor\":\"#C8D4E3\"},\"yaxis\":{\"backgroundcolor\":\"rgb(17,17,17)\",\"gridcolor\":\"#506784\",\"gridwidth\":2,\"linecolor\":\"#506784\",\"showbackground\":true,\"ticks\":\"\",\"zerolinecolor\":\"#C8D4E3\"},\"zaxis\":{\"backgroundcolor\":\"rgb(17,17,17)\",\"gridcolor\":\"#506784\",\"gridwidth\":2,\"linecolor\":\"#506784\",\"showbackground\":true,\"ticks\":\"\",\"zerolinecolor\":\"#C8D4E3\"}},\"shapedefaults\":{\"line\":{\"color\":\"#f2f5fa\"}},\"sliderdefaults\":{\"bgcolor\":\"#C8D4E3\",\"bordercolor\":\"rgb(17,17,17)\",\"borderwidth\":1,\"tickwidth\":0},\"ternary\":{\"aaxis\":{\"gridcolor\":\"#506784\",\"linecolor\":\"#506784\",\"ticks\":\"\"},\"baxis\":{\"gridcolor\":\"#506784\",\"linecolor\":\"#506784\",\"ticks\":\"\"},\"bgcolor\":\"rgb(17,17,17)\",\"caxis\":{\"gridcolor\":\"#506784\",\"linecolor\":\"#506784\",\"ticks\":\"\"}},\"title\":{\"x\":0.05},\"updatemenudefaults\":{\"bgcolor\":\"#506784\",\"borderwidth\":0},\"xaxis\":{\"automargin\":true,\"gridcolor\":\"#283442\",\"linecolor\":\"#506784\",\"ticks\":\"\",\"title\":{\"standoff\":15},\"zerolinecolor\":\"#283442\",\"zerolinewidth\":2},\"yaxis\":{\"automargin\":true,\"gridcolor\":\"#283442\",\"linecolor\":\"#506784\",\"ticks\":\"\",\"title\":{\"standoff\":15},\"zerolinecolor\":\"#283442\",\"zerolinewidth\":2}}},\"title\":{\"text\":\"Magnitude of Distance Logarithmic\"},\"xaxis\":{\"anchor\":\"y\",\"domain\":[0.0,1.0],\"title\":{\"text\":\"x\"},\"type\":\"log\"},\"yaxis\":{\"anchor\":\"x\",\"domain\":[0.0,1.0],\"title\":{\"text\":\"y\"}}},                        {\"responsive\": true}                    ).then(function(){\n",
       "                            \n",
       "var gd = document.getElementById('09bfd812-675b-4da0-a697-a8c5adfb3776');\n",
       "var x = new MutationObserver(function (mutations, observer) {{\n",
       "        var display = window.getComputedStyle(gd).display;\n",
       "        if (!display || display === 'none') {{\n",
       "            console.log([gd, 'removed!']);\n",
       "            Plotly.purge(gd);\n",
       "            observer.disconnect();\n",
       "        }}\n",
       "}});\n",
       "\n",
       "// Listen for the removal of the full notebook cells\n",
       "var notebookContainer = gd.closest('#notebook-container');\n",
       "if (notebookContainer) {{\n",
       "    x.observe(notebookContainer, {childList: true});\n",
       "}}\n",
       "\n",
       "// Listen for the clearing of the current output cell\n",
       "var outputEl = gd.closest('.output');\n",
       "if (outputEl) {{\n",
       "    x.observe(outputEl, {childList: true});\n",
       "}}\n",
       "\n",
       "                        })                };                });            </script>        </div>"
      ]
     },
     "metadata": {},
     "output_type": "display_data"
    },
    {
     "data": {
      "text/plain": [
       "(None, None)"
      ]
     },
     "execution_count": 16,
     "metadata": {},
     "output_type": "execute_result"
    }
   ],
   "source": [
    "solar_system.interactive(1)"
   ]
  },
  {
   "cell_type": "code",
   "execution_count": 17,
   "id": "a1ccef01",
   "metadata": {},
   "outputs": [],
   "source": [
    "# solar_system.delete_body('Mercury')\n",
    "# solar_system.delete_body('Venus')\n",
    "# solar_system.delete_body('Earth')\n",
    "# solar_system.delete_body('Moon')\n",
    "# solar_system.delete_body('Mars')\n",
    "solar_system.delete_body('Jupiter')\n",
    "solar_system.delete_body('Saturn')\n",
    "solar_system.delete_body('Uranus')\n",
    "solar_system.delete_body('Neptune')\n",
    "solar_system.delete_body('Pluto')"
   ]
  },
  {
   "cell_type": "markdown",
   "id": "c5d68db3",
   "metadata": {},
   "source": [
    "### Static Plots"
   ]
  },
  {
   "cell_type": "code",
   "execution_count": 8,
   "id": "37b6df86",
   "metadata": {},
   "outputs": [],
   "source": [
    "#Same parameters 3 methods, static orbit plots\n",
    "\n",
    "num_Years = 2 #Number of years to simulate \n",
    "dx_Factor = np.arange(1,11) #Factor by which h (1 day) is divided by. Time is multiplied by the same so as to plot the time frame indicated by numYears\n",
    "method_Names = [\"Eulers\",\"Heuns\",\"Verlat\"]\n",
    "\n",
    "for l in range(len(dx_Factor)):\n",
    "    for j in range(3):\n",
    "        solar_system.generate_SimulationData(86400/dx_Factor[l], 365*num_Years*dx_Factor[l], j)\n",
    "        solar_system.generate_SimulationOrbitGraph('Visuals/OrbitPlots/', 'OrbitGraph_' + method_Names[j] + '_h_' + str(dx_Factor[l]), method_Names[j]+' Method, h: day/'+ str(dx_Factor[l]), second_View=True)"
   ]
  },
  {
   "cell_type": "code",
   "execution_count": null,
   "id": "efe23f23",
   "metadata": {},
   "outputs": [],
   "source": [
    "#1 method, static orbit plots\n",
    "\n",
    "solar_system.generate_SimulationData(86400/8,365*8,2)\n",
    "# solar_system.generate_SimulationOrbitGraph('AnimationTesting/', 'OrbitPlot', 'Eulers Method', second_View=False)"
   ]
  },
  {
   "cell_type": "markdown",
   "id": "4f964cca",
   "metadata": {},
   "source": [
    "### Animations"
   ]
  },
  {
   "cell_type": "code",
   "execution_count": null,
   "id": "68cd1b65",
   "metadata": {},
   "outputs": [],
   "source": [
    "#Same parameters 3 methods, animation generation\n",
    "num_Years = 1 #Number of years to simulate \n",
    "dx_Factor = np.arange(2,5) #Factor by which h (1 day) is divided by. Time is multiplied by the same so as to plot the time frame indicated by numYears\n",
    "method_Names = [\"Eulers\",\"Heuns\",\"Verlat\"]\n",
    "\n",
    "# for l in range(len(dx_Factor)):\n",
    "#     for j in range(3):\n",
    "#         path = 'Visuals/' + method_Names[j] + 'Method/'\n",
    "        \n",
    "#         solar_system.generate_SimulationData(86400/dx_Factor[l], 365*num_Years*dx_Factor[l], j)\n",
    "#         solar_system.generate_SimulationAnimation(path, method_Names[j] + '_h_' + str(dx_Factor[l]) + '_', method_Names[j]+' Method, h: day/'+ str(dx_Factor[l]), scale = 1.5e11, axesTF=False)"
   ]
  },
  {
   "cell_type": "code",
   "execution_count": null,
   "id": "7ae761ed",
   "metadata": {},
   "outputs": [],
   "source": [
    "#Euler, dx_factor 2\n",
    "l = 0\n",
    "j = 0\n",
    "\n",
    "path = 'Visuals/' + method_Names[j] + 'Method/'\n",
    "solar_system.generate_SimulationData(86400/dx_Factor[l], 365*num_Years*dx_Factor[l], j)\n",
    "solar_system.generate_SimulationAnimation(path, method_Names[j] + '_h_' + str(dx_Factor[l]) + '_', method_Names[j]+' Method, h: day/'+ str(dx_Factor[l]), scale = 1.5e11, axesTF=False)\n",
    "\n",
    "#ffmpeg -framerate 24 -i Eulers_h_2_%04d.jpeg  A_Eulers_h_2_.mp4"
   ]
  },
  {
   "cell_type": "code",
   "execution_count": null,
   "id": "e0e717c5",
   "metadata": {},
   "outputs": [],
   "source": [
    "#Euler, dx_factor 3\n",
    "l = 1\n",
    "j = 0\n",
    "\n",
    "path = 'Visuals/' + method_Names[j] + 'Method/'\n",
    "solar_system.generate_SimulationData(86400/dx_Factor[l], 365*num_Years*dx_Factor[l], j)\n",
    "solar_system.generate_SimulationAnimation(path, method_Names[j] + '_h_' + str(dx_Factor[l]) + '_', method_Names[j]+' Method, h: day/'+ str(dx_Factor[l]), scale = 1.5e11, axesTF=False)\n",
    "\n",
    "#ffmpeg -framerate 24 -i Eulers_h_3_%04d.jpeg  A_Eulers_h_3_.mp4"
   ]
  },
  {
   "cell_type": "code",
   "execution_count": null,
   "id": "57a3fde2",
   "metadata": {},
   "outputs": [],
   "source": [
    "#Euler, dx_factor 4\n",
    "l = 2\n",
    "j = 0\n",
    "\n",
    "path = 'Visuals/' + method_Names[j] + 'Method/'\n",
    "solar_system.generate_SimulationData(86400/dx_Factor[l], 365*num_Years*dx_Factor[l], j)\n",
    "solar_system.generate_SimulationAnimation(path, method_Names[j] + '_h_' + str(dx_Factor[l]) + '_', method_Names[j]+' Method, h: day/'+ str(dx_Factor[l]), scale = 1.5e11, axesTF=False)\n",
    "\n",
    "#ffmpeg -framerate 24 -i Eulers_h_4_%04d.jpeg  A_Eulers_h_4_.mp4"
   ]
  },
  {
   "cell_type": "code",
   "execution_count": null,
   "id": "8248e3ed",
   "metadata": {},
   "outputs": [],
   "source": [
    "#Heun, dx_factor 2\n",
    "l = 0\n",
    "j = 1\n",
    "\n",
    "path = 'Visuals/' + method_Names[j] + 'Method/'\n",
    "solar_system.generate_SimulationData(86400/dx_Factor[l], 365*num_Years*dx_Factor[l], j)\n",
    "solar_system.generate_SimulationAnimation(path, method_Names[j] + '_h_' + str(dx_Factor[l]) + '_', method_Names[j]+' Method, h: day/'+ str(dx_Factor[l]), scale = 1.5e11, axesTF=False)\n",
    "\n",
    "#ffmpeg -framerate 24 -i Heuns_h_2_%04d.jpeg  A_Heuns_h_2_.mp4"
   ]
  },
  {
   "cell_type": "code",
   "execution_count": null,
   "id": "7dc83daa",
   "metadata": {},
   "outputs": [],
   "source": [
    "#Heun, dx_factor 3\n",
    "l = 1\n",
    "j = 1\n",
    "\n",
    "path = 'Visuals/' + method_Names[j] + 'Method/'\n",
    "solar_system.generate_SimulationData(86400/dx_Factor[l], 365*num_Years*dx_Factor[l], j)\n",
    "solar_system.generate_SimulationAnimation(path, method_Names[j] + '_h_' + str(dx_Factor[l]) + '_', method_Names[j]+' Method, h: day/'+ str(dx_Factor[l]), scale = 1.5e11, axesTF=False)\n",
    "\n",
    "#ffmpeg -framerate 24 -i Heuns_h_3_%04d.jpeg  A_Heuns_h_3_.mp4"
   ]
  },
  {
   "cell_type": "code",
   "execution_count": null,
   "id": "f7a99f62",
   "metadata": {},
   "outputs": [],
   "source": [
    "#Heun, dx_factor 4\n",
    "l = 2\n",
    "j = 1\n",
    "\n",
    "path = 'Visuals/' + method_Names[j] + 'Method/'\n",
    "solar_system.generate_SimulationData(86400/dx_Factor[l], 365*num_Years*dx_Factor[l], j)\n",
    "solar_system.generate_SimulationAnimation(path, method_Names[j] + '_h_' + str(dx_Factor[l]) + '_', method_Names[j]+' Method, h: day/'+ str(dx_Factor[l]), scale = 1.5e11, axesTF=False)\n",
    "\n",
    "#ffmpeg -framerate 24 -i Heuns_h_4_%04d.jpeg  A_Heuns_h_4_.mp4"
   ]
  },
  {
   "cell_type": "code",
   "execution_count": null,
   "id": "99d3b80d",
   "metadata": {},
   "outputs": [],
   "source": [
    "#Verlat, dx_factor 2\n",
    "l = 0\n",
    "j = 2\n",
    "\n",
    "path = 'Visuals/' + method_Names[j] + 'Method/'\n",
    "solar_system.generate_SimulationData(86400/dx_Factor[l], 365*num_Years*dx_Factor[l], j)\n",
    "solar_system.generate_SimulationAnimation(path, method_Names[j] + '_h_' + str(dx_Factor[l]) + '_', method_Names[j]+' Method, h: day/'+ str(dx_Factor[l]), scale = 1.5e11, axesTF=False)\n",
    "\n",
    "#ffmpeg -framerate 24 -i Verlat_h_2_%04d.jpeg  A_Verlat_h_2_.mp4"
   ]
  },
  {
   "cell_type": "code",
   "execution_count": null,
   "id": "8ad7a95f",
   "metadata": {},
   "outputs": [],
   "source": [
    "#Verlat, dx_factor 3\n",
    "l = 1\n",
    "j = 2\n",
    "\n",
    "path = 'Visuals/' + method_Names[j] + 'Method/'\n",
    "solar_system.generate_SimulationData(86400/dx_Factor[l], 365*num_Years*dx_Factor[l], j)\n",
    "solar_system.generate_SimulationAnimation(path, method_Names[j] + '_h_' + str(dx_Factor[l]) + '_', method_Names[j]+' Method, h: day/'+ str(dx_Factor[l]), scale = 1.5e11, axesTF=False)\n",
    "\n",
    "#ffmpeg -framerate 24 -i Verlat_h_3_%04d.jpeg  A_Verlat_h_3_.mp4"
   ]
  },
  {
   "cell_type": "code",
   "execution_count": null,
   "id": "2077bdc8",
   "metadata": {},
   "outputs": [],
   "source": [
    "#Verlat, dx_factor 4\n",
    "l = 2\n",
    "j = 2\n",
    "\n",
    "path = 'Visuals/' + method_Names[j] + 'Method/'\n",
    "solar_system.generate_SimulationData(86400/dx_Factor[l], 365*num_Years*dx_Factor[l], j)\n",
    "solar_system.generate_SimulationAnimation(path, method_Names[j] + '_h_' + str(dx_Factor[l]) + '_', method_Names[j]+' Method, h: day/'+ str(dx_Factor[l]), scale = 1.5e11, axesTF=False)\n",
    "\n",
    "#ffmpeg -framerate 24 -i Verlat_h_4_%04d.jpeg  A_Verlat_h_4_.mp4"
   ]
  },
  {
   "cell_type": "code",
   "execution_count": null,
   "id": "c8ae0ff2",
   "metadata": {},
   "outputs": [],
   "source": [
    "solar_system.generate_SimulationAnimation('AnimationTesting/', 'OrbitPlot', 'TestTitle', scale = 1.5e11, axesTF=False)"
   ]
  },
  {
   "cell_type": "code",
   "execution_count": null,
   "id": "b5082811",
   "metadata": {},
   "outputs": [],
   "source": [
    "# '''\n",
    "# Create a folder nameed AnimationTesting in the same directory as this program to test the program\n",
    "# To create the animation download ffmpeg, navigate to the folder with the animation frames then run the commented line\n",
    "#     at the bottom of this cell in the command line\n",
    "# '''\n",
    "# solar_system.positions\n",
    "# solar_system.run_sim_full_output('AnimationTesting/', 'TestImage', 'TestTitle', 50)\n",
    "\n",
    "#ffmpeg -framerate 10 -i OrbitPlot%04d.jpeg  TestImage_Movie.mp4"
   ]
  }
 ],
 "metadata": {
  "kernelspec": {
   "display_name": "Python 3",
   "language": "python",
   "name": "python3"
  },
  "language_info": {
   "codemirror_mode": {
    "name": "ipython",
    "version": 3
   },
   "file_extension": ".py",
   "mimetype": "text/x-python",
   "name": "python",
   "nbconvert_exporter": "python",
   "pygments_lexer": "ipython3",
   "version": "3.8.8"
  }
 },
 "nbformat": 4,
 "nbformat_minor": 5
}
